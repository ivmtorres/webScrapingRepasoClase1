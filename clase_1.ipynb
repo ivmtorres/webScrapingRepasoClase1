{
  "nbformat": 4,
  "nbformat_minor": 0,
  "metadata": {
    "kernelspec": {
      "display_name": "Python 3",
      "language": "python",
      "name": "python3"
    },
    "language_info": {
      "codemirror_mode": {
        "name": "ipython",
        "version": 3
      },
      "file_extension": ".py",
      "mimetype": "text/x-python",
      "name": "python",
      "nbconvert_exporter": "python",
      "pygments_lexer": "ipython3",
      "version": "3.7.3"
    },
    "toc": {
      "base_numbering": 1,
      "nav_menu": {},
      "number_sections": true,
      "sideBar": true,
      "skip_h1_title": false,
      "title_cell": "Table of Contents",
      "title_sidebar": "Contents",
      "toc_cell": false,
      "toc_position": {},
      "toc_section_display": true,
      "toc_window_display": false
    },
    "colab": {
      "name": "clase-1.ipynb",
      "provenance": []
    }
  },
  "cells": [
    {
      "cell_type": "markdown",
      "metadata": {
        "id": "RIOldBNdqo1N"
      },
      "source": [
        "[![Open In colab](https://colab.research.google.com/assets/colab-badge.svg)](https://colab.research.google.com/github/institutohumai/cursos-python/blob/master/APIs/1_APIs_Geograficas/clase-1.ipynb)"
      ]
    },
    {
      "cell_type": "markdown",
      "metadata": {
        "id": "ccXHtQlsqo1S"
      },
      "source": [
        "# Clase 1: APIs geográficas"
      ]
    },
    {
      "cell_type": "code",
      "metadata": {
        "colab": {
          "base_uri": "https://localhost:8080/"
        },
        "id": "_EADXk-3rM2R",
        "outputId": "f78dfd2c-78f7-4f7a-bf33-67df37e64c0a"
      },
      "source": [
        "#vamos a escribit en lineas de comando de bash, lo que vamos a instalar una libreria\r\n",
        "!pip install geopandas"
      ],
      "execution_count": 1,
      "outputs": [
        {
          "output_type": "stream",
          "text": [
            "Collecting geopandas\n",
            "\u001b[?25l  Downloading https://files.pythonhosted.org/packages/f7/a4/e66aafbefcbb717813bf3a355c8c4fc3ed04ea1dd7feb2920f2f4f868921/geopandas-0.8.1-py2.py3-none-any.whl (962kB)\n",
            "\u001b[K     |████████████████████████████████| 972kB 8.5MB/s \n",
            "\u001b[?25hCollecting fiona\n",
            "\u001b[?25l  Downloading https://files.pythonhosted.org/packages/37/94/4910fd55246c1d963727b03885ead6ef1cd3748a465f7b0239ab25dfc9a3/Fiona-1.8.18-cp36-cp36m-manylinux1_x86_64.whl (14.8MB)\n",
            "\u001b[K     |████████████████████████████████| 14.8MB 305kB/s \n",
            "\u001b[?25hRequirement already satisfied: shapely in /usr/local/lib/python3.6/dist-packages (from geopandas) (1.7.1)\n",
            "Collecting pyproj>=2.2.0\n",
            "\u001b[?25l  Downloading https://files.pythonhosted.org/packages/e4/ab/280e80a67cfc109d15428c0ec56391fc03a65857b7727cf4e6e6f99a4204/pyproj-3.0.0.post1-cp36-cp36m-manylinux2010_x86_64.whl (6.4MB)\n",
            "\u001b[K     |████████████████████████████████| 6.5MB 40.5MB/s \n",
            "\u001b[?25hRequirement already satisfied: pandas>=0.23.0 in /usr/local/lib/python3.6/dist-packages (from geopandas) (1.1.5)\n",
            "Collecting munch\n",
            "  Downloading https://files.pythonhosted.org/packages/cc/ab/85d8da5c9a45e072301beb37ad7f833cd344e04c817d97e0cc75681d248f/munch-2.5.0-py2.py3-none-any.whl\n",
            "Collecting click-plugins>=1.0\n",
            "  Downloading https://files.pythonhosted.org/packages/e9/da/824b92d9942f4e472702488857914bdd50f73021efea15b4cad9aca8ecef/click_plugins-1.1.1-py2.py3-none-any.whl\n",
            "Requirement already satisfied: six>=1.7 in /usr/local/lib/python3.6/dist-packages (from fiona->geopandas) (1.15.0)\n",
            "Collecting cligj>=0.5\n",
            "  Downloading https://files.pythonhosted.org/packages/42/1e/947eadf10d6804bf276eb8a038bd5307996dceaaa41cfd21b7a15ec62f5d/cligj-0.7.1-py3-none-any.whl\n",
            "Requirement already satisfied: certifi in /usr/local/lib/python3.6/dist-packages (from fiona->geopandas) (2020.12.5)\n",
            "Requirement already satisfied: attrs>=17 in /usr/local/lib/python3.6/dist-packages (from fiona->geopandas) (20.3.0)\n",
            "Requirement already satisfied: click<8,>=4.0 in /usr/local/lib/python3.6/dist-packages (from fiona->geopandas) (7.1.2)\n",
            "Requirement already satisfied: numpy>=1.15.4 in /usr/local/lib/python3.6/dist-packages (from pandas>=0.23.0->geopandas) (1.19.4)\n",
            "Requirement already satisfied: python-dateutil>=2.7.3 in /usr/local/lib/python3.6/dist-packages (from pandas>=0.23.0->geopandas) (2.8.1)\n",
            "Requirement already satisfied: pytz>=2017.2 in /usr/local/lib/python3.6/dist-packages (from pandas>=0.23.0->geopandas) (2018.9)\n",
            "Installing collected packages: munch, click-plugins, cligj, fiona, pyproj, geopandas\n",
            "Successfully installed click-plugins-1.1.1 cligj-0.7.1 fiona-1.8.18 geopandas-0.8.1 munch-2.5.0 pyproj-3.0.0.post1\n"
          ],
          "name": "stdout"
        }
      ]
    },
    {
      "cell_type": "code",
      "metadata": {
        "id": "gT5Cpry0qo1T"
      },
      "source": [
        "import requests\n",
        "import pandas as pd\n",
        "import geopandas as gpd\n",
        "#no podemos correr la desde el collab, solo podemos correr esta linea en la pc\n",
        "#no podemos ejecutarla en collab pero si localmente.\n",
        "#import helpers\n",
        "import json"
      ],
      "execution_count": 2,
      "outputs": []
    },
    {
      "cell_type": "code",
      "metadata": {
        "id": "wTnyWXyQsDs-"
      },
      "source": [
        "#copiamos el archivo helpers a mano\r\n",
        "\r\n",
        "import pandas as pd\r\n",
        "import requests\r\n",
        "\r\n",
        "\r\n",
        "def normalizar_unidades_territoriales(\r\n",
        "        entidades, entidades_tipo, nombre_campo=None,\r\n",
        "        provincia_campo=None, chunk_size=1000\r\n",
        "):\r\n",
        "    '''Normaliza unidades territoriales usando la API Georef.\r\n",
        "    Args:\r\n",
        "        entidades (list or pd.DataFrame): Una lista con nombres de entidades a\r\n",
        "            normalizar, o un dataframe con columnas donde 'nombre_campo' es la\r\n",
        "            que contiene los nombres a normalizar, y 'provincia_campo'\r\n",
        "            (opcional) contiene el nombre del campo provincia, para mejorar el\r\n",
        "            resultado de la normalizacion.\r\n",
        "        entidades_tipo (str): Nombre del tipo de entidades a normalizar, puede\r\n",
        "            ser uno de: 'provincias', 'departamentos', 'localidades' o\r\n",
        "            'municipios'.\r\n",
        "        nombre_campo (str): Debe especificarse si 'entidades' es un dataframe.\r\n",
        "            Indica cual es el campo que contiene los nombres a normalizar.\r\n",
        "        provincia_campo (str): Opcional. Indica cual es el campo que contiene\r\n",
        "            los nombres de las provincias. Ayuda a mejorar la precision de la\r\n",
        "            normalizacion de unidades mas chicas que provincias.\r\n",
        "    Return:\r\n",
        "        pd.DataFrame: Nombres y codigos oficiales de las entidades normalizadas.\r\n",
        "    '''\r\n",
        "\r\n",
        "    # genera un array vacio para guardar los resultados de cada request\r\n",
        "    resultados = []\r\n",
        "\r\n",
        "    # genera un resultado nulo para reemplazar los casos que no funcionen\r\n",
        "    resultado_nulo = {\r\n",
        "        'id': None,\r\n",
        "        'nombre': None,\r\n",
        "    }\r\n",
        "    if provincia_campo:\r\n",
        "        resultado_nulo['provincia_id'] = None\r\n",
        "        resultado_nulo['provincia_nombre'] = None\r\n",
        "\r\n",
        "    # genera el JSON con la lista de consultas a realizar\r\n",
        "    for i in range(0, len(entidades), chunk_size):\r\n",
        "        start, end = i, i + chunk_size\r\n",
        "\r\n",
        "        # el final no puede ser mayor a la cantidad de entidades\r\n",
        "        if end > len(entidades):\r\n",
        "            end = len(entidades)\r\n",
        "\r\n",
        "        data = {entidades_tipo: []}\r\n",
        "\r\n",
        "        # si se pasa una lista, contiene los nombres a normalizar\r\n",
        "        if isinstance(entidades, list):\r\n",
        "            for nombre in entidades[start:end]:\r\n",
        "                consulta = {\r\n",
        "                    'nombre': nombre,\r\n",
        "                    'max': 1,\r\n",
        "                    'campos': 'id,nombre'\r\n",
        "                }\r\n",
        "                data[entidades_tipo].append(consulta)\r\n",
        "\r\n",
        "        # si no se pasa una lista, debe haber un nombre de campo que contenga\r\n",
        "        # los nombres a normalizar, y puede haber una columna de provincia\r\n",
        "        elif nombre_campo:\r\n",
        "            for entidad in entidades.to_dict('record')[start:end]:\r\n",
        "                consulta = {\r\n",
        "                    'nombre': entidad[nombre_campo],\r\n",
        "                    'max': 1,\r\n",
        "                    'campos': 'id,nombre',\r\n",
        "                    'aplanar': True\r\n",
        "                }\r\n",
        "                if provincia_campo:\r\n",
        "                    consulta['provincia'] = entidad[provincia_campo]\r\n",
        "                    consulta['campos'] = 'id,nombre,provincia.id,provincia.nombre'\r\n",
        "\r\n",
        "                data[entidades_tipo].append(consulta)\r\n",
        "        else:\r\n",
        "            print('Error en la definicion de la consulta')\r\n",
        "            return\r\n",
        "\r\n",
        "        try:\r\n",
        "            # realiza la consulta\r\n",
        "            resultados_parciales = requests.post(\r\n",
        "                f\"https://apis.datos.gob.ar/georef/api/{entidades_tipo}\",\r\n",
        "                json=data\r\n",
        "            ).json()['resultados']\r\n",
        "\r\n",
        "            for resultado in resultados_parciales:\r\n",
        "                if resultado and resultado[entidades_tipo] and len(resultado[entidades_tipo]) != 0:\r\n",
        "                    resultados.append(resultado[entidades_tipo][0])\r\n",
        "                else:\r\n",
        "                    resultados.append(resultado_nulo)\r\n",
        "\r\n",
        "        except Exception as e:\r\n",
        "            print(f'No se pudo normalizar el bloque {start} a {end}. '\r\n",
        "                  'Reemplazando por resultados nulos.')\r\n",
        "            print(e)\r\n",
        "            resultados.extend([resultado_nulo] * (end - start))\r\n",
        "\r\n",
        "    return pd.DataFrame(resultados)\r\n",
        "\r\n",
        "\r\n",
        "def georreferenciar_direcciones(\r\n",
        "        entidades, nombre_campo=None,\r\n",
        "        provincia_campo=None, chunk_size=1000,\r\n",
        "        output_as_dataframe=True\r\n",
        "):\r\n",
        "    '''Normaliza unidades territoriales usando la API Georef.\r\n",
        "    Args:\r\n",
        "        entidades (pd.DataFrame): Una lista de direcciones a georreferenciar\r\n",
        "            donde 'nombre_campo' es la que contiene las direcciones, y\r\n",
        "            'provincia_campo' (opcional) contiene el nombre del campo provincia,\r\n",
        "            para mejorar el resultado de la normalizacion.\r\n",
        "        nombre_campo (str): Indica cual es el campo que contiene los nombres a\r\n",
        "            normalizar.\r\n",
        "        provincia_campo (str): Opcional. Indica cual es el campo que contiene\r\n",
        "            los nombres de las provincias. Ayuda a mejorar la precision de la\r\n",
        "            normalizacion de unidades mas chicas que provincias.\r\n",
        "    Return:\r\n",
        "        pd.DataFrame: Nombres y codigos oficiales de las entidades normalizadas.\r\n",
        "    '''\r\n",
        "\r\n",
        "    # genera un array vacio para guardar los resultados de cada request\r\n",
        "    resultados = []\r\n",
        "\r\n",
        "    # genera un resultado nulo para reemplazar los casos que no funcionen\r\n",
        "    resultado_nulo = {\r\n",
        "        'direccion_normalizada': None,\r\n",
        "        'latitud': None,\r\n",
        "        'longitud': None,\r\n",
        "    }\r\n",
        "\r\n",
        "    # genera el JSON con la lista de consultas a realizar\r\n",
        "    for i in range(0, len(entidades), chunk_size):\r\n",
        "        start, end = i, i + chunk_size\r\n",
        "\r\n",
        "        # el final no puede ser mayor a la cantidad de entidades\r\n",
        "        if end > len(entidades):\r\n",
        "            end = len(entidades)\r\n",
        "\r\n",
        "        data = {'direcciones': []}\r\n",
        "\r\n",
        "        # si no se pasa una lista, debe haber un nombre de campo que contenga\r\n",
        "        # los nombres a normalizar, y puede haber una columna de provincia\r\n",
        "        for entidad in entidades.to_dict('record')[start:end]:\r\n",
        "            consulta = {\r\n",
        "                'direccion': entidad[nombre_campo],\r\n",
        "                'max': 1,\r\n",
        "                'campos': 'nomenclatura,ubicacion.lat,ubicacion.lon,provincia.id,provincia.nombre',\r\n",
        "                'aplanar': True\r\n",
        "            }\r\n",
        "            if provincia_campo:\r\n",
        "                consulta['provincia'] = entidad[provincia_campo]\r\n",
        "\r\n",
        "            data['direcciones'].append(consulta)\r\n",
        "\r\n",
        "        try:\r\n",
        "            # realiza la consulta\r\n",
        "            resultados_parciales = requests.post(\r\n",
        "                f\"https://apis.datos.gob.ar/georef/api/direcciones\",\r\n",
        "                json=data\r\n",
        "            ).json()['resultados']\r\n",
        "\r\n",
        "            for resultado in resultados_parciales:\r\n",
        "                if resultado and resultado['direcciones'] and len(resultado['direcciones']) != 0:\r\n",
        "                    resultado_parseado = {\r\n",
        "                        'direccion_normalizada': resultado['direcciones'][0]['nomenclatura'],\r\n",
        "                        'latitud': resultado['direcciones'][0]['ubicacion_lat'],\r\n",
        "                        'longitud': resultado['direcciones'][0]['ubicacion_lon'],\r\n",
        "                        'provincia_id': resultado['direcciones'][0]['provincia_id'],\r\n",
        "                        'provincia_nombre': resultado['direcciones'][0]['provincia_nombre']\r\n",
        "                    }\r\n",
        "\r\n",
        "                    resultados.append(resultado_parseado)\r\n",
        "                else:\r\n",
        "                    resultados.append(resultado_nulo)\r\n",
        "\r\n",
        "        except Exception as e:\r\n",
        "            if chunk_size > 1:\r\n",
        "                for j in range(start, end, int(chunk_size / 2)):\r\n",
        "                    start_j, end_j = j, j + chunk_size\r\n",
        "                    resultados_parciales = georreferenciar_direcciones(\r\n",
        "                        entidades, nombre_campo=nombre_campo,\r\n",
        "                        provincia_campo=provincia_campo, chunk_size=chunk_size,\r\n",
        "                        output_as_dataframe=False\r\n",
        "                    )\r\n",
        "                    resultados.extend(resultados_parciales)\r\n",
        "            else:\r\n",
        "                print(f'No se pudo normalizar el bloque {start} a {end}. '\r\n",
        "                      'Reemplazando por resultados nulos.')\r\n",
        "                print(e)\r\n",
        "                resultados.extend([resultado_nulo] * (end - start))\r\n",
        "\r\n",
        "    if output_as_dataframe:\r\n",
        "        return pd.DataFrame(resultados)\r\n",
        "    else:\r\n",
        "        return resultados\r\n",
        "\r\n",
        "\r\n",
        "def ubicar_coordenadas(entidades, latitud_campo, longitud_campo,\r\n",
        "                       chunk_size=1000):\r\n",
        "    '''Normaliza unidades territoriales usando la API Georef.\r\n",
        "    Args:\r\n",
        "        entidades (pd.DataFrame): Una lista de coordenadas a ubicar donde\r\n",
        "            'latitud_campo' es el nombre de la columna que tiene la latitud y\r\n",
        "            'longitud_campo' la columna que tiene la longitud. Las coordenadas\r\n",
        "            deben estar en numeros decimales y en el sistema de referencia\r\n",
        "            EPSG 4326.\r\n",
        "        latitud_campo (str): Nombre del campo que tiene la latitud.\r\n",
        "        longitud_campo (str): Nombre del campo que tiene la longitud.\r\n",
        "    Return:\r\n",
        "        pd.DataFrame: Nombres y codigos oficiales de las unidades territoriales\r\n",
        "            que contienen a las coordenadas.\r\n",
        "    '''\r\n",
        "\r\n",
        "    # genera un array vacio para guardar los resultados de cada request\r\n",
        "    resultados = []\r\n",
        "\r\n",
        "    # genera un resultado nulo para reemplazar los casos que no funcionen\r\n",
        "    resultado_nulo = {\r\n",
        "        'provincia_id': None,\r\n",
        "        'provincia_nombre': None,\r\n",
        "        'departamento_id': None,\r\n",
        "        'departamento_nombre': None,\r\n",
        "        'municipio_id': None,\r\n",
        "        'municipio_nombre': None,\r\n",
        "    }\r\n",
        "\r\n",
        "    # genera el JSON con la lista de consultas a realizar\r\n",
        "    for i in range(0, len(entidades), chunk_size):\r\n",
        "        start, end = i, i + chunk_size\r\n",
        "\r\n",
        "        # el final no puede ser mayor a la cantidad de entidades\r\n",
        "        if end > len(entidades):\r\n",
        "            end = len(entidades)\r\n",
        "\r\n",
        "        data = {'ubicaciones': []}\r\n",
        "\r\n",
        "        # si no se pasa una lista, debe haber un nombre de campo que contenga\r\n",
        "        # los nombres a normalizar, y puede haber una columna de provincia\r\n",
        "        for entidad in entidades.to_dict('record')[start:end]:\r\n",
        "            consulta = {\r\n",
        "                'lat': entidad[latitud_campo],\r\n",
        "                'lon': entidad[longitud_campo],\r\n",
        "                'campos': 'provincia.id,provincia.nombre,departamento.id,departamento.nombre,municipio.id,municipio.nombre,',\r\n",
        "                'aplanar': True\r\n",
        "            }\r\n",
        "\r\n",
        "            data['ubicaciones'].append(consulta)\r\n",
        "\r\n",
        "        # try:\r\n",
        "        # realiza la consulta\r\n",
        "        response = requests.post(\r\n",
        "            f\"https://apis.datos.gob.ar/georef/api/ubicacion\",\r\n",
        "            json=data\r\n",
        "        ).json()\r\n",
        "        resultados_parciales = response['resultados']\r\n",
        "\r\n",
        "        for resultado in resultados_parciales:\r\n",
        "            if resultado and resultado['ubicacion'] and len(resultado['ubicacion']) != 0:\r\n",
        "                resultado_parseado = {\r\n",
        "                    'provincia_id': resultado['ubicacion']['provincia_id'],\r\n",
        "                    'provincia_nombre': resultado['ubicacion']['provincia_nombre'],\r\n",
        "                    'departamento_id': resultado['ubicacion']['departamento_id'],\r\n",
        "                    'departamento_nombre': resultado['ubicacion']['departamento_nombre'],\r\n",
        "                    'municipio_id': resultado['ubicacion']['municipio_id'],\r\n",
        "                    'municipio_nombre': resultado['ubicacion']['municipio_nombre'],\r\n",
        "                }\r\n",
        "\r\n",
        "                resultados.append(resultado_parseado)\r\n",
        "            else:\r\n",
        "                resultados.append(resultado_nulo)\r\n",
        "\r\n",
        "        # except Exception as e:\r\n",
        "        #     print(f'No se pudo normalizar el bloque {start} a {end}. '\r\n",
        "        #           'Reemplazando por resultados nulos.')\r\n",
        "        #     print(e)\r\n",
        "        #     resultados.extend([resultado_nulo] * (end - start))\r\n",
        "\r\n",
        "    return pd.DataFrame(resultados)"
      ],
      "execution_count": 3,
      "outputs": []
    },
    {
      "cell_type": "markdown",
      "metadata": {
        "id": "Ca1Xvtfgqo1T"
      },
      "source": [
        "## Requests"
      ]
    },
    {
      "cell_type": "markdown",
      "metadata": {
        "id": "UNeR_EQVqo1U"
      },
      "source": [
        "### Interfaces de aplicaciones"
      ]
    },
    {
      "cell_type": "markdown",
      "metadata": {
        "id": "EjeaOUGoqo1U"
      },
      "source": [
        "¿Qué es una API? Los sistemas tienen distintos tipos de interfaces que permiten interactuar con ellos.\n",
        "\n",
        "* **GUI (Graphical User Interface)**: El usuario clickea e interactúa con distintos objetos para ejecutar acciones y lograr sus objetivos. Las páginas web tienen interfaces gráficas.\n",
        "* **API (Application Programming Interface)**: El usuario escribe líneas de código para interactuar con el sistema, ejecutar acciones y lograr sus objetivos.\n",
        "\n",
        "Todos los sitios web tienen una interfaz gráfica con la que estamos acostumbrados a interactuar, y también tienen una interfaz de programación más o menos desarrollada, o más o menos expuesta, con la cual tal vez no estemos tan acostumbrados a interactuar.\n",
        "\n",
        "Ejemplo: \n",
        "\n",
        "Si van a https://www.mercadolibre.com.ar/ pueden hacer click en un input box, escribir \"pelotas\", apretar \"Enter\" y el sistema les devolverá el resultado de una búsqueda. Si lo cambian por \"pelotas futbol\" y hacen \"Enter\" de nuevo, cambiará el resultado de la búsqueda. Esta es la **interfaz gráfica del sitio**.\n",
        "\n",
        "Sin embargo también podrían cumplir el mismo objetivo sólo escribiendo distintas URLs en el navegador:\n",
        "\n",
        "* https://listado.mercadolibre.com.ar/pelotas\n",
        "* https://listado.mercadolibre.com.ar/pelotas-futbol\n",
        "\n",
        "Esto es más parecido a lo que llamaríamos una **interfaz de programación**."
      ]
    },
    {
      "cell_type": "markdown",
      "metadata": {
        "id": "bZ4KNzVNqo1U"
      },
      "source": [
        "### APIs REST"
      ]
    },
    {
      "cell_type": "markdown",
      "metadata": {
        "id": "O3hj3UCCqo1V"
      },
      "source": [
        "En la web, las interfaces de programación de uso más difundido son las APIs REST ([Representational state transfer](https://es.wikipedia.org/wiki/Transferencia_de_Estado_Representacional)) que especifica protocolos y métodos para interactuar con los vastos recursos de internet, escribiendo líneas de código.\n",
        "\n",
        "La web utiliza ampliamente el protocolo HTTP para interactuar con sus recursos. Este protocolo indica cómo estructurar un mensaje de texto que describa la petición (**request**) del usuario a un servidor. Hay distintos tipos de peticios que un usuario puede realizar, algunas de ellas son:\n",
        "\n",
        "* **GET**: Solicita una representación de un recurso alojado en el servidor.\n",
        "* **POST**: Envía datos al servidor para crear un recurso nuevo.\n",
        "* **PUT**: Crea o modifica un recurso del servidor.\n",
        "* **DELETE**: Elimina un recurso del servidor.\n",
        "\n",
        "Existen otros métodos que hoy no nos interesan."
      ]
    },
    {
      "cell_type": "markdown",
      "metadata": {
        "id": "mb5n7yxgqo1V"
      },
      "source": [
        "### GET request "
      ]
    },
    {
      "cell_type": "markdown",
      "metadata": {
        "id": "_P__i4-Eqo1V"
      },
      "source": [
        "Cada vez que vamos al navegador y escribimos la dirección de una página web, **estamos haciendo un GET request** a un servidor. Esto es una petición para adquirir el código de un recurso que queremos visualizar en el navegador. \n",
        "\n",
        "La URL es la parte más importante de la definición de un GET request (aunque el navegador agrega otras cosas también, que no vemos) y nos permite cambiar la representación deseada de ese mismo recurso de distintas maneras:\n",
        "\n",
        "* https://deportes.mercadolibre.com.ar/pelotas-futbol pide al servidor pelotas de fútbol.\n",
        "* https://deportes.mercadolibre.com.ar/pelotas-futbol_OrderId_PRICE pide al servidor pelotas de fútbol ordenadas por precio.\n",
        "\n",
        "Cuando escribimos una URL en un navegador, la mayoría de las veces hacemos GET requests que devuelven código HTML (es el código que usa el navegador para renderizar una página web) pero las GET requests pueden devolver datos en otros formatos (por ejemplo en JSON y en CSV). \n",
        "\n",
        "**Las APIs REST que definen GET requests capaces de devolver datos en formato JSON y CSV, son particularmente interesantes para enriquecer nuestras capacidades de análisis de datos.**\n",
        "\n",
        "Ahora vamos a conocer algunas de ellas."
      ]
    },
    {
      "cell_type": "markdown",
      "metadata": {
        "id": "zJkfDoMoqo1W"
      },
      "source": [
        "## API Georef "
      ]
    },
    {
      "cell_type": "markdown",
      "metadata": {
        "id": "EGDPGJTvqo1W"
      },
      "source": [
        "La [API Georef](http://apis.datos.gob.ar/georef) o, en su nombre más largo, el **Servicio de Normalización de Datos Geográficos de Argentina** es una API REST desarrollada y mantenida por el Estado Nacional de Argentina para la normalización de datos geográficos, que es capaz de:\n",
        "\n",
        "* Georreferenciar una dirección\n",
        "* Normalizar nombres de provincias, departamentos y otras entidades\n",
        "* Devolver los nombres de provincias, departamentos y otras entidades que contienen a un par de coordenadas (georreferenciación inversa)\n",
        "* Sirve de referencia, devolviendo las listas canónicas con nombres y códigos oficiales de estas entidades, en formato CSV, JSON, SHP y otros.\n",
        "\n",
        "A continuación, vamos a ver algunos de los usos que tienen los recursos de esta API para potenciar nuestras capacidades de analizar datos."
      ]
    },
    {
      "cell_type": "markdown",
      "metadata": {
        "id": "MKHxaKEDqo1W"
      },
      "source": [
        "### Referencia "
      ]
    },
    {
      "cell_type": "markdown",
      "metadata": {
        "id": "6j3Whfyxqo1W"
      },
      "source": [
        "La API Georef contiene las listas con nombres y códigos oficiales de Argentina para, entre otras, las siguientes entidades:\n",
        "\n",
        "* Provinicias\n",
        "* Departamentos\n",
        "* Municipios\n",
        "* Localidades\n",
        "* Calles\n",
        "\n",
        "Cada una de ellas se consulta usando un **recurso** de la API."
      ]
    },
    {
      "cell_type": "markdown",
      "metadata": {
        "id": "LWSnPK6Gqo1X"
      },
      "source": [
        "#### Librería `requests` y formato JSON"
      ]
    },
    {
      "cell_type": "markdown",
      "metadata": {
        "id": "3qjyBpVWqo1Z"
      },
      "source": [
        "Si estuviéramos desarrollando una aplicación web que contiene, por ejemplo, un formulario donde el usurio debe elegir el nombre de la provincia donde vive con el objeto de guardar la información en una base de datos, podríamos usar la API Georef para obtener esa lista.\n",
        "\n",
        "La librería `requests` en python permite hacer todo tipo de requests APIs REST y es sencilla de utilizar."
      ]
    },
    {
      "cell_type": "code",
      "metadata": {
        "id": "8mKCjewXqo1Z"
      },
      "source": [
        "response = requests.get(\"https://apis.datos.gob.ar/georef/api/provincias\")"
      ],
      "execution_count": 5,
      "outputs": []
    },
    {
      "cell_type": "code",
      "metadata": {
        "colab": {
          "base_uri": "https://localhost:8080/"
        },
        "id": "wkhIY6acqo1Z",
        "outputId": "14d32548-3971-426e-8388-9e8317414a9d"
      },
      "source": [
        "# el status code de una request indica si esta fue realizada con éxito o no, y por qué\n",
        "# el código 200 indica que una request fue realizada exitosamente\n",
        "response.status_code"
      ],
      "execution_count": 6,
      "outputs": [
        {
          "output_type": "execute_result",
          "data": {
            "text/plain": [
              "200"
            ]
          },
          "metadata": {
            "tags": []
          },
          "execution_count": 6
        }
      ]
    },
    {
      "cell_type": "code",
      "metadata": {
        "colab": {
          "base_uri": "https://localhost:8080/"
        },
        "id": "TCPppuj4qo1a",
        "outputId": "e251cf50-fb9d-4305-dffa-9e0a27de8b5b"
      },
      "source": [
        "provincias = response.json()\n",
        "provincias"
      ],
      "execution_count": 7,
      "outputs": [
        {
          "output_type": "execute_result",
          "data": {
            "text/plain": [
              "{'cantidad': 24,\n",
              " 'inicio': 0,\n",
              " 'parametros': {},\n",
              " 'provincias': [{'centroide': {'lat': -26.8753965086829,\n",
              "    'lon': -54.6516966230371},\n",
              "   'id': '54',\n",
              "   'nombre': 'Misiones'},\n",
              "  {'centroide': {'lat': -33.7577257449137, 'lon': -66.0281298195836},\n",
              "   'id': '74',\n",
              "   'nombre': 'San Luis'},\n",
              "  {'centroide': {'lat': -30.8653679979618, 'lon': -68.8894908486844},\n",
              "   'id': '70',\n",
              "   'nombre': 'San Juan'},\n",
              "  {'centroide': {'lat': -32.0588735436448, 'lon': -59.2014475514635},\n",
              "   'id': '30',\n",
              "   'nombre': 'Entre Ríos'},\n",
              "  {'centroide': {'lat': -48.8154851827063, 'lon': -69.9557621671973},\n",
              "   'id': '78',\n",
              "   'nombre': 'Santa Cruz'},\n",
              "  {'centroide': {'lat': -40.4057957178801, 'lon': -67.229329893694},\n",
              "   'id': '62',\n",
              "   'nombre': 'Río Negro'},\n",
              "  {'centroide': {'lat': -43.7886233529878, 'lon': -68.5267593943345},\n",
              "   'id': '26',\n",
              "   'nombre': 'Chubut'},\n",
              "  {'centroide': {'lat': -32.142932663607, 'lon': -63.8017532741662},\n",
              "   'id': '14',\n",
              "   'nombre': 'Córdoba'},\n",
              "  {'centroide': {'lat': -34.6298873058957, 'lon': -68.5831228183798},\n",
              "   'id': '50',\n",
              "   'nombre': 'Mendoza'},\n",
              "  {'centroide': {'lat': -29.685776298315, 'lon': -67.1817359694432},\n",
              "   'id': '46',\n",
              "   'nombre': 'La Rioja'},\n",
              "  {'centroide': {'lat': -27.3358332810217, 'lon': -66.9476824299928},\n",
              "   'id': '10',\n",
              "   'nombre': 'Catamarca'},\n",
              "  {'centroide': {'lat': -37.1315537735949, 'lon': -65.4466546606951},\n",
              "   'id': '42',\n",
              "   'nombre': 'La Pampa'},\n",
              "  {'centroide': {'lat': -27.7824116550944, 'lon': -63.2523866568588},\n",
              "   'id': '86',\n",
              "   'nombre': 'Santiago del Estero'},\n",
              "  {'centroide': {'lat': -28.7743047046407, 'lon': -57.8012191977913},\n",
              "   'id': '18',\n",
              "   'nombre': 'Corrientes'},\n",
              "  {'centroide': {'lat': -30.7069271588117, 'lon': -60.9498369430241},\n",
              "   'id': '82',\n",
              "   'nombre': 'Santa Fe'},\n",
              "  {'centroide': {'lat': -26.9478001830786, 'lon': -65.3647579441481},\n",
              "   'id': '90',\n",
              "   'nombre': 'Tucumán'},\n",
              "  {'centroide': {'lat': -38.6417575824599, 'lon': -70.1185705180601},\n",
              "   'id': '58',\n",
              "   'nombre': 'Neuquén'},\n",
              "  {'centroide': {'lat': -24.2991344492002, 'lon': -64.8144629600627},\n",
              "   'id': '66',\n",
              "   'nombre': 'Salta'},\n",
              "  {'centroide': {'lat': -26.3864309061226, 'lon': -60.7658307438603},\n",
              "   'id': '22',\n",
              "   'nombre': 'Chaco'},\n",
              "  {'centroide': {'lat': -24.894972594871, 'lon': -59.9324405800872},\n",
              "   'id': '34',\n",
              "   'nombre': 'Formosa'},\n",
              "  {'centroide': {'lat': -23.3200784211351, 'lon': -65.7642522180337},\n",
              "   'id': '38',\n",
              "   'nombre': 'Jujuy'},\n",
              "  {'centroide': {'lat': -34.6144934119689, 'lon': -58.4458563545429},\n",
              "   'id': '02',\n",
              "   'nombre': 'Ciudad Autónoma de Buenos Aires'},\n",
              "  {'centroide': {'lat': -36.6769415180527, 'lon': -60.5588319815719},\n",
              "   'id': '06',\n",
              "   'nombre': 'Buenos Aires'},\n",
              "  {'centroide': {'lat': -82.52151781221, 'lon': -50.7427486049785},\n",
              "   'id': '94',\n",
              "   'nombre': 'Tierra del Fuego, Antártida e Islas del Atlántico Sur'}],\n",
              " 'total': 24}"
            ]
          },
          "metadata": {
            "tags": []
          },
          "execution_count": 7
        }
      ]
    },
    {
      "cell_type": "markdown",
      "metadata": {
        "id": "gb8urGRBqo1b"
      },
      "source": [
        "El método `response.json()` de la librería `requests` devuelve una respuesta de formato JSON, en un familiar diccionario de python."
      ]
    },
    {
      "cell_type": "code",
      "metadata": {
        "colab": {
          "base_uri": "https://localhost:8080/"
        },
        "id": "Rq0LP6k8qo1b",
        "outputId": "ca76e431-235c-4f83-ba21-7eeb2deb9dde"
      },
      "source": [
        "provincias[\"provincias\"][0]"
      ],
      "execution_count": 8,
      "outputs": [
        {
          "output_type": "execute_result",
          "data": {
            "text/plain": [
              "{'centroide': {'lat': -26.8753965086829, 'lon': -54.6516966230371},\n",
              " 'id': '54',\n",
              " 'nombre': 'Misiones'}"
            ]
          },
          "metadata": {
            "tags": []
          },
          "execution_count": 8
        }
      ]
    },
    {
      "cell_type": "markdown",
      "metadata": {
        "id": "g4ostIFvqo1b"
      },
      "source": [
        "Las APIs tienen distintos parámetros que permiten modificar la consulta a un recurso determinado, estos se agregan al final usando un signo de interrogación `?` y separándolos con el caracter _ampersand_ `&`.\n",
        "\n",
        "* **Recurso**: apis.datos.gob.ar/georef/api/provincias\n",
        "* **Parámetros**: ?orden=nombre&aplanar\n",
        "* **URL completa**: apis.datos.gob.ar/georef/api/provincias?orden=nombre&aplanar\n",
        "\n",
        "El parámetro \"orden\" permite elegir un campo por el cual ordenar los resultados. El parámetro \"aplanar\" devuelve una estructura plana o no anidada de los resultados que a veces es más fácil de utilizar, dependiendo de lo que estemos haciendo.\n",
        "\n",
        "Podés consultar los otros parámetros disponibles para el recurso \"provincias\" en https://datosgobar.github.io/georef-ar-api/open-api/#/Recursos/get_provincias"
      ]
    },
    {
      "cell_type": "markdown",
      "metadata": {
        "id": "mfk4l3FHqo1b"
      },
      "source": [
        "**Ejercicio:** crea una lista ordenada alfabéticamente con tuplas que contengan id y nombre de cada provincia, que usarías para armar tu selector de provincias en una página web."
      ]
    },
    {
      "cell_type": "code",
      "metadata": {
        "colab": {
          "base_uri": "https://localhost:8080/"
        },
        "id": "1UE4iEiGqo1c",
        "outputId": "9e5ac0f0-f210-4907-8443-bd1e2da0f02a"
      },
      "source": [
        "listaProv = requests.get(\"https://apis.datos.gob.ar/georef/api/provincias\")\r\n",
        "listaProv = listaProv.json()\r\n",
        "listaProv['provincias'][0]"
      ],
      "execution_count": 9,
      "outputs": [
        {
          "output_type": "execute_result",
          "data": {
            "text/plain": [
              "{'centroide': {'lat': -26.8753965086829, 'lon': -54.6516966230371},\n",
              " 'id': '54',\n",
              " 'nombre': 'Misiones'}"
            ]
          },
          "metadata": {
            "tags": []
          },
          "execution_count": 9
        }
      ]
    },
    {
      "cell_type": "code",
      "metadata": {
        "colab": {
          "base_uri": "https://localhost:8080/"
        },
        "id": "w5zu56_q7x35",
        "outputId": "9adb39d2-65a8-480d-fb0c-f1442d9d2287"
      },
      "source": [
        "(listaProv['provincias'][0]['id'],listaProv['provincias'][0]['nombre'])"
      ],
      "execution_count": 10,
      "outputs": [
        {
          "output_type": "execute_result",
          "data": {
            "text/plain": [
              "('54', 'Misiones')"
            ]
          },
          "metadata": {
            "tags": []
          },
          "execution_count": 10
        }
      ]
    },
    {
      "cell_type": "code",
      "metadata": {
        "colab": {
          "base_uri": "https://localhost:8080/"
        },
        "id": "TQPeUPkG8Bax",
        "outputId": "4e689cbd-6e47-4e90-b9da-646235e90d5b"
      },
      "source": [
        "tamanoLista = len(listaProv['provincias'])\r\n",
        "tamanoLista"
      ],
      "execution_count": 11,
      "outputs": [
        {
          "output_type": "execute_result",
          "data": {
            "text/plain": [
              "24"
            ]
          },
          "metadata": {
            "tags": []
          },
          "execution_count": 11
        }
      ]
    },
    {
      "cell_type": "code",
      "metadata": {
        "colab": {
          "base_uri": "https://localhost:8080/"
        },
        "id": "81PinFaI8j5a",
        "outputId": "d5d11749-ae55-4adf-b380-afdf4ac470de"
      },
      "source": [
        "miLista=[]\r\n",
        "for provinciaItem in listaProv['provincias']:\r\n",
        "  miLista.append((provinciaItem['id'],provinciaItem['nombre']))\r\n",
        "\r\n",
        "miListaOrdenada = sorted(miLista, key = lambda provincia:provincia[1])\r\n",
        "miListaOrdenada\r\n"
      ],
      "execution_count": 12,
      "outputs": [
        {
          "output_type": "execute_result",
          "data": {
            "text/plain": [
              "[('06', 'Buenos Aires'),\n",
              " ('10', 'Catamarca'),\n",
              " ('22', 'Chaco'),\n",
              " ('26', 'Chubut'),\n",
              " ('02', 'Ciudad Autónoma de Buenos Aires'),\n",
              " ('18', 'Corrientes'),\n",
              " ('14', 'Córdoba'),\n",
              " ('30', 'Entre Ríos'),\n",
              " ('34', 'Formosa'),\n",
              " ('38', 'Jujuy'),\n",
              " ('42', 'La Pampa'),\n",
              " ('46', 'La Rioja'),\n",
              " ('50', 'Mendoza'),\n",
              " ('54', 'Misiones'),\n",
              " ('58', 'Neuquén'),\n",
              " ('62', 'Río Negro'),\n",
              " ('66', 'Salta'),\n",
              " ('70', 'San Juan'),\n",
              " ('74', 'San Luis'),\n",
              " ('78', 'Santa Cruz'),\n",
              " ('82', 'Santa Fe'),\n",
              " ('86', 'Santiago del Estero'),\n",
              " ('94', 'Tierra del Fuego, Antártida e Islas del Atlántico Sur'),\n",
              " ('90', 'Tucumán')]"
            ]
          },
          "metadata": {
            "tags": []
          },
          "execution_count": 12
        }
      ]
    },
    {
      "cell_type": "code",
      "metadata": {
        "colab": {
          "base_uri": "https://localhost:8080/"
        },
        "id": "yhEpiKDm_93G",
        "outputId": "bd177fbf-7098-4f01-a68c-d0f3956c8bdc"
      },
      "source": [
        "#metodo alternativo pidiendo a la api que de el resultado ordenado\r\n",
        "response = requests.get(\"https://apis.datos.gob.ar/georef/api/provincias?orden=nombre\")\r\n",
        "provincias = response.json()\r\n",
        "#aca tengo el diccionario con la lista ordenada por nombre de provincia\r\n",
        "[(prov['id'], prov['nombre']) for prov in provincias['provincias']]\r\n"
      ],
      "execution_count": 13,
      "outputs": [
        {
          "output_type": "execute_result",
          "data": {
            "text/plain": [
              "[('06', 'Buenos Aires'),\n",
              " ('10', 'Catamarca'),\n",
              " ('22', 'Chaco'),\n",
              " ('26', 'Chubut'),\n",
              " ('02', 'Ciudad Autónoma de Buenos Aires'),\n",
              " ('14', 'Córdoba'),\n",
              " ('18', 'Corrientes'),\n",
              " ('30', 'Entre Ríos'),\n",
              " ('34', 'Formosa'),\n",
              " ('38', 'Jujuy'),\n",
              " ('42', 'La Pampa'),\n",
              " ('46', 'La Rioja'),\n",
              " ('50', 'Mendoza'),\n",
              " ('54', 'Misiones'),\n",
              " ('58', 'Neuquén'),\n",
              " ('62', 'Río Negro'),\n",
              " ('66', 'Salta'),\n",
              " ('70', 'San Juan'),\n",
              " ('74', 'San Luis'),\n",
              " ('78', 'Santa Cruz'),\n",
              " ('82', 'Santa Fe'),\n",
              " ('86', 'Santiago del Estero'),\n",
              " ('94', 'Tierra del Fuego, Antártida e Islas del Atlántico Sur'),\n",
              " ('90', 'Tucumán')]"
            ]
          },
          "metadata": {
            "tags": []
          },
          "execution_count": 13
        }
      ]
    },
    {
      "cell_type": "markdown",
      "metadata": {
        "id": "NbHtSUX_qo1c"
      },
      "source": [
        "#### `pandas` y formato CSV "
      ]
    },
    {
      "cell_type": "markdown",
      "metadata": {
        "id": "ZGi8N0hvqo1c"
      },
      "source": [
        "Si estamos creando una tabla auxiliar o de consulta para obtener los nombres y códigos oficiales de las provincias, es posible que queramos descargarla en CSV o leerla directamente en un dataframe de pandas."
      ]
    },
    {
      "cell_type": "code",
      "metadata": {
        "id": "2ylEe6w8qo1c"
      },
      "source": [
        "df = pd.read_csv('https://apis.datos.gob.ar/georef/api/provincias?formato=csv')"
      ],
      "execution_count": 14,
      "outputs": []
    },
    {
      "cell_type": "code",
      "metadata": {
        "colab": {
          "base_uri": "https://localhost:8080/",
          "height": 803
        },
        "id": "xT3k_w4Dqo1c",
        "outputId": "eb4bd286-9ec8-4ef0-cc28-eb7689a7f937"
      },
      "source": [
        "df\r\n",
        "#es la unidad fundamental de la libreria pandas. En la api podemos\r\n",
        "#cambiar el formato por csv en ese caso en lugar de devolver el json \r\n",
        "#devuelve un tabla que puedo leer con pandas. "
      ],
      "execution_count": 15,
      "outputs": [
        {
          "output_type": "execute_result",
          "data": {
            "text/html": [
              "<div>\n",
              "<style scoped>\n",
              "    .dataframe tbody tr th:only-of-type {\n",
              "        vertical-align: middle;\n",
              "    }\n",
              "\n",
              "    .dataframe tbody tr th {\n",
              "        vertical-align: top;\n",
              "    }\n",
              "\n",
              "    .dataframe thead th {\n",
              "        text-align: right;\n",
              "    }\n",
              "</style>\n",
              "<table border=\"1\" class=\"dataframe\">\n",
              "  <thead>\n",
              "    <tr style=\"text-align: right;\">\n",
              "      <th></th>\n",
              "      <th>provincia_id</th>\n",
              "      <th>provincia_nombre</th>\n",
              "      <th>provincia_centroide_lat</th>\n",
              "      <th>provincia_centroide_lon</th>\n",
              "    </tr>\n",
              "  </thead>\n",
              "  <tbody>\n",
              "    <tr>\n",
              "      <th>0</th>\n",
              "      <td>54</td>\n",
              "      <td>Misiones</td>\n",
              "      <td>-26.875397</td>\n",
              "      <td>-54.651697</td>\n",
              "    </tr>\n",
              "    <tr>\n",
              "      <th>1</th>\n",
              "      <td>74</td>\n",
              "      <td>San Luis</td>\n",
              "      <td>-33.757726</td>\n",
              "      <td>-66.028130</td>\n",
              "    </tr>\n",
              "    <tr>\n",
              "      <th>2</th>\n",
              "      <td>70</td>\n",
              "      <td>San Juan</td>\n",
              "      <td>-30.865368</td>\n",
              "      <td>-68.889491</td>\n",
              "    </tr>\n",
              "    <tr>\n",
              "      <th>3</th>\n",
              "      <td>30</td>\n",
              "      <td>Entre Ríos</td>\n",
              "      <td>-32.058874</td>\n",
              "      <td>-59.201448</td>\n",
              "    </tr>\n",
              "    <tr>\n",
              "      <th>4</th>\n",
              "      <td>78</td>\n",
              "      <td>Santa Cruz</td>\n",
              "      <td>-48.815485</td>\n",
              "      <td>-69.955762</td>\n",
              "    </tr>\n",
              "    <tr>\n",
              "      <th>5</th>\n",
              "      <td>62</td>\n",
              "      <td>Río Negro</td>\n",
              "      <td>-40.405796</td>\n",
              "      <td>-67.229330</td>\n",
              "    </tr>\n",
              "    <tr>\n",
              "      <th>6</th>\n",
              "      <td>26</td>\n",
              "      <td>Chubut</td>\n",
              "      <td>-43.788623</td>\n",
              "      <td>-68.526759</td>\n",
              "    </tr>\n",
              "    <tr>\n",
              "      <th>7</th>\n",
              "      <td>14</td>\n",
              "      <td>Córdoba</td>\n",
              "      <td>-32.142933</td>\n",
              "      <td>-63.801753</td>\n",
              "    </tr>\n",
              "    <tr>\n",
              "      <th>8</th>\n",
              "      <td>50</td>\n",
              "      <td>Mendoza</td>\n",
              "      <td>-34.629887</td>\n",
              "      <td>-68.583123</td>\n",
              "    </tr>\n",
              "    <tr>\n",
              "      <th>9</th>\n",
              "      <td>46</td>\n",
              "      <td>La Rioja</td>\n",
              "      <td>-29.685776</td>\n",
              "      <td>-67.181736</td>\n",
              "    </tr>\n",
              "    <tr>\n",
              "      <th>10</th>\n",
              "      <td>10</td>\n",
              "      <td>Catamarca</td>\n",
              "      <td>-27.335833</td>\n",
              "      <td>-66.947682</td>\n",
              "    </tr>\n",
              "    <tr>\n",
              "      <th>11</th>\n",
              "      <td>42</td>\n",
              "      <td>La Pampa</td>\n",
              "      <td>-37.131554</td>\n",
              "      <td>-65.446655</td>\n",
              "    </tr>\n",
              "    <tr>\n",
              "      <th>12</th>\n",
              "      <td>86</td>\n",
              "      <td>Santiago del Estero</td>\n",
              "      <td>-27.782412</td>\n",
              "      <td>-63.252387</td>\n",
              "    </tr>\n",
              "    <tr>\n",
              "      <th>13</th>\n",
              "      <td>18</td>\n",
              "      <td>Corrientes</td>\n",
              "      <td>-28.774305</td>\n",
              "      <td>-57.801219</td>\n",
              "    </tr>\n",
              "    <tr>\n",
              "      <th>14</th>\n",
              "      <td>82</td>\n",
              "      <td>Santa Fe</td>\n",
              "      <td>-30.706927</td>\n",
              "      <td>-60.949837</td>\n",
              "    </tr>\n",
              "    <tr>\n",
              "      <th>15</th>\n",
              "      <td>90</td>\n",
              "      <td>Tucumán</td>\n",
              "      <td>-26.947800</td>\n",
              "      <td>-65.364758</td>\n",
              "    </tr>\n",
              "    <tr>\n",
              "      <th>16</th>\n",
              "      <td>58</td>\n",
              "      <td>Neuquén</td>\n",
              "      <td>-38.641758</td>\n",
              "      <td>-70.118571</td>\n",
              "    </tr>\n",
              "    <tr>\n",
              "      <th>17</th>\n",
              "      <td>66</td>\n",
              "      <td>Salta</td>\n",
              "      <td>-24.299134</td>\n",
              "      <td>-64.814463</td>\n",
              "    </tr>\n",
              "    <tr>\n",
              "      <th>18</th>\n",
              "      <td>22</td>\n",
              "      <td>Chaco</td>\n",
              "      <td>-26.386431</td>\n",
              "      <td>-60.765831</td>\n",
              "    </tr>\n",
              "    <tr>\n",
              "      <th>19</th>\n",
              "      <td>34</td>\n",
              "      <td>Formosa</td>\n",
              "      <td>-24.894973</td>\n",
              "      <td>-59.932441</td>\n",
              "    </tr>\n",
              "    <tr>\n",
              "      <th>20</th>\n",
              "      <td>38</td>\n",
              "      <td>Jujuy</td>\n",
              "      <td>-23.320078</td>\n",
              "      <td>-65.764252</td>\n",
              "    </tr>\n",
              "    <tr>\n",
              "      <th>21</th>\n",
              "      <td>2</td>\n",
              "      <td>Ciudad Autónoma de Buenos Aires</td>\n",
              "      <td>-34.614493</td>\n",
              "      <td>-58.445856</td>\n",
              "    </tr>\n",
              "    <tr>\n",
              "      <th>22</th>\n",
              "      <td>6</td>\n",
              "      <td>Buenos Aires</td>\n",
              "      <td>-36.676942</td>\n",
              "      <td>-60.558832</td>\n",
              "    </tr>\n",
              "    <tr>\n",
              "      <th>23</th>\n",
              "      <td>94</td>\n",
              "      <td>Tierra del Fuego, Antártida e Islas del Atlánt...</td>\n",
              "      <td>-82.521518</td>\n",
              "      <td>-50.742749</td>\n",
              "    </tr>\n",
              "  </tbody>\n",
              "</table>\n",
              "</div>"
            ],
            "text/plain": [
              "    provincia_id  ... provincia_centroide_lon\n",
              "0             54  ...              -54.651697\n",
              "1             74  ...              -66.028130\n",
              "2             70  ...              -68.889491\n",
              "3             30  ...              -59.201448\n",
              "4             78  ...              -69.955762\n",
              "5             62  ...              -67.229330\n",
              "6             26  ...              -68.526759\n",
              "7             14  ...              -63.801753\n",
              "8             50  ...              -68.583123\n",
              "9             46  ...              -67.181736\n",
              "10            10  ...              -66.947682\n",
              "11            42  ...              -65.446655\n",
              "12            86  ...              -63.252387\n",
              "13            18  ...              -57.801219\n",
              "14            82  ...              -60.949837\n",
              "15            90  ...              -65.364758\n",
              "16            58  ...              -70.118571\n",
              "17            66  ...              -64.814463\n",
              "18            22  ...              -60.765831\n",
              "19            34  ...              -59.932441\n",
              "20            38  ...              -65.764252\n",
              "21             2  ...              -58.445856\n",
              "22             6  ...              -60.558832\n",
              "23            94  ...              -50.742749\n",
              "\n",
              "[24 rows x 4 columns]"
            ]
          },
          "metadata": {
            "tags": []
          },
          "execution_count": 15
        }
      ]
    },
    {
      "cell_type": "markdown",
      "metadata": {
        "id": "kUtQppHPqo1d"
      },
      "source": [
        "Notá que la respuesta viene \"aplanada\" por defecto, ya que el CSV es un formato tabular (no anidado)."
      ]
    },
    {
      "cell_type": "markdown",
      "metadata": {
        "id": "Tu3WGdhGqo1d"
      },
      "source": [
        "**Ejercicio:** crea una tabla con la lista de departamentos de la provincia de Santa Fé. Para esto usa el recurso \"departamentos\" y el parámetro \"provincia\" para filtrarlo con los resultados de la provincia de Santa Fé. \n",
        "\n",
        "Puedes usar tanto el id como el nombre de la provincia para filtrar."
      ]
    },
    {
      "cell_type": "code",
      "metadata": {
        "colab": {
          "base_uri": "https://localhost:8080/",
          "height": 638
        },
        "id": "kSHGRWJJqo1d",
        "outputId": "f07a6174-428a-4a56-fe6e-362819c8b299"
      },
      "source": [
        "#realizamos la consulta por la provincia de Santa Fe\r\n",
        "dfDepartamentosSantaFe = pd.read_csv(\"https://apis.datos.gob.ar/georef/api/departamentos?formato=csv&provincia=Santa%20Fe&max=5000\")\r\n",
        "dfDepartamentosSantaFe"
      ],
      "execution_count": 47,
      "outputs": [
        {
          "output_type": "execute_result",
          "data": {
            "text/html": [
              "<div>\n",
              "<style scoped>\n",
              "    .dataframe tbody tr th:only-of-type {\n",
              "        vertical-align: middle;\n",
              "    }\n",
              "\n",
              "    .dataframe tbody tr th {\n",
              "        vertical-align: top;\n",
              "    }\n",
              "\n",
              "    .dataframe thead th {\n",
              "        text-align: right;\n",
              "    }\n",
              "</style>\n",
              "<table border=\"1\" class=\"dataframe\">\n",
              "  <thead>\n",
              "    <tr style=\"text-align: right;\">\n",
              "      <th></th>\n",
              "      <th>departamento_id</th>\n",
              "      <th>departamento_nombre</th>\n",
              "      <th>departamento_centroide_lat</th>\n",
              "      <th>departamento_centroide_lon</th>\n",
              "      <th>provincia_id</th>\n",
              "      <th>provincia_nombre</th>\n",
              "    </tr>\n",
              "  </thead>\n",
              "  <tbody>\n",
              "    <tr>\n",
              "      <th>0</th>\n",
              "      <td>82028</td>\n",
              "      <td>Villa Constitución</td>\n",
              "      <td>-33.485583</td>\n",
              "      <td>-60.851384</td>\n",
              "      <td>82</td>\n",
              "      <td>Santa Fe</td>\n",
              "    </tr>\n",
              "    <tr>\n",
              "      <th>1</th>\n",
              "      <td>82063</td>\n",
              "      <td>La Capital</td>\n",
              "      <td>-31.475356</td>\n",
              "      <td>-60.669479</td>\n",
              "      <td>82</td>\n",
              "      <td>Santa Fe</td>\n",
              "    </tr>\n",
              "    <tr>\n",
              "      <th>2</th>\n",
              "      <td>82133</td>\n",
              "      <td>Vera</td>\n",
              "      <td>-28.969929</td>\n",
              "      <td>-60.413543</td>\n",
              "      <td>82</td>\n",
              "      <td>Santa Fe</td>\n",
              "    </tr>\n",
              "    <tr>\n",
              "      <th>3</th>\n",
              "      <td>82077</td>\n",
              "      <td>9 de Julio</td>\n",
              "      <td>-28.849605</td>\n",
              "      <td>-61.398354</td>\n",
              "      <td>82</td>\n",
              "      <td>Santa Fe</td>\n",
              "    </tr>\n",
              "    <tr>\n",
              "      <th>4</th>\n",
              "      <td>82035</td>\n",
              "      <td>Garay</td>\n",
              "      <td>-31.054641</td>\n",
              "      <td>-60.125808</td>\n",
              "      <td>82</td>\n",
              "      <td>Santa Fe</td>\n",
              "    </tr>\n",
              "    <tr>\n",
              "      <th>5</th>\n",
              "      <td>82070</td>\n",
              "      <td>Las Colonias</td>\n",
              "      <td>-31.315338</td>\n",
              "      <td>-61.109481</td>\n",
              "      <td>82</td>\n",
              "      <td>Santa Fe</td>\n",
              "    </tr>\n",
              "    <tr>\n",
              "      <th>6</th>\n",
              "      <td>82098</td>\n",
              "      <td>San Javier</td>\n",
              "      <td>-30.104146</td>\n",
              "      <td>-59.898070</td>\n",
              "      <td>82</td>\n",
              "      <td>Santa Fe</td>\n",
              "    </tr>\n",
              "    <tr>\n",
              "      <th>7</th>\n",
              "      <td>82014</td>\n",
              "      <td>Caseros</td>\n",
              "      <td>-33.221497</td>\n",
              "      <td>-61.531016</td>\n",
              "      <td>82</td>\n",
              "      <td>Santa Fe</td>\n",
              "    </tr>\n",
              "    <tr>\n",
              "      <th>8</th>\n",
              "      <td>82084</td>\n",
              "      <td>Rosario</td>\n",
              "      <td>-33.127856</td>\n",
              "      <td>-60.710842</td>\n",
              "      <td>82</td>\n",
              "      <td>Santa Fe</td>\n",
              "    </tr>\n",
              "    <tr>\n",
              "      <th>9</th>\n",
              "      <td>82119</td>\n",
              "      <td>San Lorenzo</td>\n",
              "      <td>-32.942315</td>\n",
              "      <td>-60.961501</td>\n",
              "      <td>82</td>\n",
              "      <td>Santa Fe</td>\n",
              "    </tr>\n",
              "    <tr>\n",
              "      <th>10</th>\n",
              "      <td>82056</td>\n",
              "      <td>Iriondo</td>\n",
              "      <td>-32.706084</td>\n",
              "      <td>-61.273388</td>\n",
              "      <td>82</td>\n",
              "      <td>Santa Fe</td>\n",
              "    </tr>\n",
              "    <tr>\n",
              "      <th>11</th>\n",
              "      <td>82007</td>\n",
              "      <td>Belgrano</td>\n",
              "      <td>-32.610303</td>\n",
              "      <td>-61.704295</td>\n",
              "      <td>82</td>\n",
              "      <td>Santa Fe</td>\n",
              "    </tr>\n",
              "    <tr>\n",
              "      <th>12</th>\n",
              "      <td>82105</td>\n",
              "      <td>San Jerónimo</td>\n",
              "      <td>-32.153771</td>\n",
              "      <td>-61.048127</td>\n",
              "      <td>82</td>\n",
              "      <td>Santa Fe</td>\n",
              "    </tr>\n",
              "    <tr>\n",
              "      <th>13</th>\n",
              "      <td>82112</td>\n",
              "      <td>San Justo</td>\n",
              "      <td>-30.530425</td>\n",
              "      <td>-60.488694</td>\n",
              "      <td>82</td>\n",
              "      <td>Santa Fe</td>\n",
              "    </tr>\n",
              "    <tr>\n",
              "      <th>14</th>\n",
              "      <td>82091</td>\n",
              "      <td>San Cristóbal</td>\n",
              "      <td>-30.228319</td>\n",
              "      <td>-61.360015</td>\n",
              "      <td>82</td>\n",
              "      <td>Santa Fe</td>\n",
              "    </tr>\n",
              "    <tr>\n",
              "      <th>15</th>\n",
              "      <td>82049</td>\n",
              "      <td>General Obligado</td>\n",
              "      <td>-28.671970</td>\n",
              "      <td>-59.526652</td>\n",
              "      <td>82</td>\n",
              "      <td>Santa Fe</td>\n",
              "    </tr>\n",
              "    <tr>\n",
              "      <th>16</th>\n",
              "      <td>82042</td>\n",
              "      <td>General López</td>\n",
              "      <td>-33.925148</td>\n",
              "      <td>-61.944999</td>\n",
              "      <td>82</td>\n",
              "      <td>Santa Fe</td>\n",
              "    </tr>\n",
              "    <tr>\n",
              "      <th>17</th>\n",
              "      <td>82126</td>\n",
              "      <td>San Martín</td>\n",
              "      <td>-32.012580</td>\n",
              "      <td>-61.808251</td>\n",
              "      <td>82</td>\n",
              "      <td>Santa Fe</td>\n",
              "    </tr>\n",
              "    <tr>\n",
              "      <th>18</th>\n",
              "      <td>82021</td>\n",
              "      <td>Castellanos</td>\n",
              "      <td>-31.231415</td>\n",
              "      <td>-61.656963</td>\n",
              "      <td>82</td>\n",
              "      <td>Santa Fe</td>\n",
              "    </tr>\n",
              "  </tbody>\n",
              "</table>\n",
              "</div>"
            ],
            "text/plain": [
              "    departamento_id departamento_nombre  ...  provincia_id  provincia_nombre\n",
              "0             82028  Villa Constitución  ...            82          Santa Fe\n",
              "1             82063          La Capital  ...            82          Santa Fe\n",
              "2             82133                Vera  ...            82          Santa Fe\n",
              "3             82077          9 de Julio  ...            82          Santa Fe\n",
              "4             82035               Garay  ...            82          Santa Fe\n",
              "5             82070        Las Colonias  ...            82          Santa Fe\n",
              "6             82098          San Javier  ...            82          Santa Fe\n",
              "7             82014             Caseros  ...            82          Santa Fe\n",
              "8             82084             Rosario  ...            82          Santa Fe\n",
              "9             82119         San Lorenzo  ...            82          Santa Fe\n",
              "10            82056             Iriondo  ...            82          Santa Fe\n",
              "11            82007            Belgrano  ...            82          Santa Fe\n",
              "12            82105        San Jerónimo  ...            82          Santa Fe\n",
              "13            82112           San Justo  ...            82          Santa Fe\n",
              "14            82091       San Cristóbal  ...            82          Santa Fe\n",
              "15            82049    General Obligado  ...            82          Santa Fe\n",
              "16            82042       General López  ...            82          Santa Fe\n",
              "17            82126          San Martín  ...            82          Santa Fe\n",
              "18            82021         Castellanos  ...            82          Santa Fe\n",
              "\n",
              "[19 rows x 6 columns]"
            ]
          },
          "metadata": {
            "tags": []
          },
          "execution_count": 47
        }
      ]
    },
    {
      "cell_type": "code",
      "metadata": {
        "colab": {
          "base_uri": "https://localhost:8080/",
          "height": 728
        },
        "id": "YOPQIcI38Dld",
        "outputId": "d80196eb-15b6-442b-fd81-1d359c5483d5"
      },
      "source": [
        "#consultamos por dos provincias, pero ojo debemos hacerlo con el id no el nombre de provincia.\r\n",
        "dfDepartamentoChubutSantaCruz = pd.read_csv('https://apis.datos.gob.ar/georef/api/departamentos?provincia=26,78&orden=nombre&formato=csv&max=5000')\r\n",
        "dfDepartamentoChubutSantaCruz"
      ],
      "execution_count": 48,
      "outputs": [
        {
          "output_type": "execute_result",
          "data": {
            "text/html": [
              "<div>\n",
              "<style scoped>\n",
              "    .dataframe tbody tr th:only-of-type {\n",
              "        vertical-align: middle;\n",
              "    }\n",
              "\n",
              "    .dataframe tbody tr th {\n",
              "        vertical-align: top;\n",
              "    }\n",
              "\n",
              "    .dataframe thead th {\n",
              "        text-align: right;\n",
              "    }\n",
              "</style>\n",
              "<table border=\"1\" class=\"dataframe\">\n",
              "  <thead>\n",
              "    <tr style=\"text-align: right;\">\n",
              "      <th></th>\n",
              "      <th>departamento_id</th>\n",
              "      <th>departamento_nombre</th>\n",
              "      <th>departamento_centroide_lat</th>\n",
              "      <th>departamento_centroide_lon</th>\n",
              "      <th>provincia_id</th>\n",
              "      <th>provincia_nombre</th>\n",
              "    </tr>\n",
              "  </thead>\n",
              "  <tbody>\n",
              "    <tr>\n",
              "      <th>0</th>\n",
              "      <td>26007</td>\n",
              "      <td>Biedma</td>\n",
              "      <td>-42.443635</td>\n",
              "      <td>-64.933226</td>\n",
              "      <td>26</td>\n",
              "      <td>Chubut</td>\n",
              "    </tr>\n",
              "    <tr>\n",
              "      <th>1</th>\n",
              "      <td>78007</td>\n",
              "      <td>Corpen Aike</td>\n",
              "      <td>-49.947484</td>\n",
              "      <td>-69.446951</td>\n",
              "      <td>78</td>\n",
              "      <td>Santa Cruz</td>\n",
              "    </tr>\n",
              "    <tr>\n",
              "      <th>2</th>\n",
              "      <td>26014</td>\n",
              "      <td>Cushamen</td>\n",
              "      <td>-42.366353</td>\n",
              "      <td>-70.712012</td>\n",
              "      <td>26</td>\n",
              "      <td>Chubut</td>\n",
              "    </tr>\n",
              "    <tr>\n",
              "      <th>3</th>\n",
              "      <td>78014</td>\n",
              "      <td>Deseado</td>\n",
              "      <td>-47.330519</td>\n",
              "      <td>-68.029079</td>\n",
              "      <td>78</td>\n",
              "      <td>Santa Cruz</td>\n",
              "    </tr>\n",
              "    <tr>\n",
              "      <th>4</th>\n",
              "      <td>26021</td>\n",
              "      <td>Escalante</td>\n",
              "      <td>-45.282788</td>\n",
              "      <td>-67.708757</td>\n",
              "      <td>26</td>\n",
              "      <td>Chubut</td>\n",
              "    </tr>\n",
              "    <tr>\n",
              "      <th>5</th>\n",
              "      <td>26028</td>\n",
              "      <td>Florentino Ameghino</td>\n",
              "      <td>-44.423269</td>\n",
              "      <td>-66.130067</td>\n",
              "      <td>26</td>\n",
              "      <td>Chubut</td>\n",
              "    </tr>\n",
              "    <tr>\n",
              "      <th>6</th>\n",
              "      <td>26035</td>\n",
              "      <td>Futaleufú</td>\n",
              "      <td>-43.070541</td>\n",
              "      <td>-71.455376</td>\n",
              "      <td>26</td>\n",
              "      <td>Chubut</td>\n",
              "    </tr>\n",
              "    <tr>\n",
              "      <th>7</th>\n",
              "      <td>26042</td>\n",
              "      <td>Gaiman</td>\n",
              "      <td>-43.272762</td>\n",
              "      <td>-66.172162</td>\n",
              "      <td>26</td>\n",
              "      <td>Chubut</td>\n",
              "    </tr>\n",
              "    <tr>\n",
              "      <th>8</th>\n",
              "      <td>26049</td>\n",
              "      <td>Gastre</td>\n",
              "      <td>-42.749069</td>\n",
              "      <td>-68.802322</td>\n",
              "      <td>26</td>\n",
              "      <td>Chubut</td>\n",
              "    </tr>\n",
              "    <tr>\n",
              "      <th>9</th>\n",
              "      <td>78021</td>\n",
              "      <td>Güer Aike</td>\n",
              "      <td>-51.413413</td>\n",
              "      <td>-70.561816</td>\n",
              "      <td>78</td>\n",
              "      <td>Santa Cruz</td>\n",
              "    </tr>\n",
              "    <tr>\n",
              "      <th>10</th>\n",
              "      <td>78028</td>\n",
              "      <td>Lago Argentino</td>\n",
              "      <td>-49.836488</td>\n",
              "      <td>-72.065471</td>\n",
              "      <td>78</td>\n",
              "      <td>Santa Cruz</td>\n",
              "    </tr>\n",
              "    <tr>\n",
              "      <th>11</th>\n",
              "      <td>78035</td>\n",
              "      <td>Lago Buenos Aires</td>\n",
              "      <td>-46.834103</td>\n",
              "      <td>-70.631410</td>\n",
              "      <td>78</td>\n",
              "      <td>Santa Cruz</td>\n",
              "    </tr>\n",
              "    <tr>\n",
              "      <th>12</th>\n",
              "      <td>26056</td>\n",
              "      <td>Languiñeo</td>\n",
              "      <td>-43.323495</td>\n",
              "      <td>-70.348426</td>\n",
              "      <td>26</td>\n",
              "      <td>Chubut</td>\n",
              "    </tr>\n",
              "    <tr>\n",
              "      <th>13</th>\n",
              "      <td>78042</td>\n",
              "      <td>Magallanes</td>\n",
              "      <td>-48.838342</td>\n",
              "      <td>-68.468162</td>\n",
              "      <td>78</td>\n",
              "      <td>Santa Cruz</td>\n",
              "    </tr>\n",
              "    <tr>\n",
              "      <th>14</th>\n",
              "      <td>26063</td>\n",
              "      <td>Mártires</td>\n",
              "      <td>-43.813843</td>\n",
              "      <td>-67.240023</td>\n",
              "      <td>26</td>\n",
              "      <td>Chubut</td>\n",
              "    </tr>\n",
              "    <tr>\n",
              "      <th>15</th>\n",
              "      <td>26070</td>\n",
              "      <td>Paso de Indios</td>\n",
              "      <td>-44.030184</td>\n",
              "      <td>-68.685863</td>\n",
              "      <td>26</td>\n",
              "      <td>Chubut</td>\n",
              "    </tr>\n",
              "    <tr>\n",
              "      <th>16</th>\n",
              "      <td>26077</td>\n",
              "      <td>Rawson</td>\n",
              "      <td>-43.137223</td>\n",
              "      <td>-65.075725</td>\n",
              "      <td>26</td>\n",
              "      <td>Chubut</td>\n",
              "    </tr>\n",
              "    <tr>\n",
              "      <th>17</th>\n",
              "      <td>78049</td>\n",
              "      <td>Río Chico</td>\n",
              "      <td>-48.287329</td>\n",
              "      <td>-71.113837</td>\n",
              "      <td>78</td>\n",
              "      <td>Santa Cruz</td>\n",
              "    </tr>\n",
              "    <tr>\n",
              "      <th>18</th>\n",
              "      <td>26084</td>\n",
              "      <td>Río Senguer</td>\n",
              "      <td>-45.340356</td>\n",
              "      <td>-70.640098</td>\n",
              "      <td>26</td>\n",
              "      <td>Chubut</td>\n",
              "    </tr>\n",
              "    <tr>\n",
              "      <th>19</th>\n",
              "      <td>26091</td>\n",
              "      <td>Sarmiento</td>\n",
              "      <td>-45.345024</td>\n",
              "      <td>-69.002835</td>\n",
              "      <td>26</td>\n",
              "      <td>Chubut</td>\n",
              "    </tr>\n",
              "    <tr>\n",
              "      <th>20</th>\n",
              "      <td>26098</td>\n",
              "      <td>Tehuelches</td>\n",
              "      <td>-44.200035</td>\n",
              "      <td>-70.576895</td>\n",
              "      <td>26</td>\n",
              "      <td>Chubut</td>\n",
              "    </tr>\n",
              "    <tr>\n",
              "      <th>21</th>\n",
              "      <td>26105</td>\n",
              "      <td>Telsen</td>\n",
              "      <td>-42.438945</td>\n",
              "      <td>-67.176907</td>\n",
              "      <td>26</td>\n",
              "      <td>Chubut</td>\n",
              "    </tr>\n",
              "  </tbody>\n",
              "</table>\n",
              "</div>"
            ],
            "text/plain": [
              "    departamento_id  departamento_nombre  ...  provincia_id  provincia_nombre\n",
              "0             26007               Biedma  ...            26            Chubut\n",
              "1             78007          Corpen Aike  ...            78        Santa Cruz\n",
              "2             26014             Cushamen  ...            26            Chubut\n",
              "3             78014              Deseado  ...            78        Santa Cruz\n",
              "4             26021            Escalante  ...            26            Chubut\n",
              "5             26028  Florentino Ameghino  ...            26            Chubut\n",
              "6             26035            Futaleufú  ...            26            Chubut\n",
              "7             26042               Gaiman  ...            26            Chubut\n",
              "8             26049               Gastre  ...            26            Chubut\n",
              "9             78021            Güer Aike  ...            78        Santa Cruz\n",
              "10            78028       Lago Argentino  ...            78        Santa Cruz\n",
              "11            78035    Lago Buenos Aires  ...            78        Santa Cruz\n",
              "12            26056            Languiñeo  ...            26            Chubut\n",
              "13            78042           Magallanes  ...            78        Santa Cruz\n",
              "14            26063             Mártires  ...            26            Chubut\n",
              "15            26070       Paso de Indios  ...            26            Chubut\n",
              "16            26077               Rawson  ...            26            Chubut\n",
              "17            78049            Río Chico  ...            78        Santa Cruz\n",
              "18            26084          Río Senguer  ...            26            Chubut\n",
              "19            26091            Sarmiento  ...            26            Chubut\n",
              "20            26098           Tehuelches  ...            26            Chubut\n",
              "21            26105               Telsen  ...            26            Chubut\n",
              "\n",
              "[22 rows x 6 columns]"
            ]
          },
          "metadata": {
            "tags": []
          },
          "execution_count": 48
        }
      ]
    },
    {
      "cell_type": "markdown",
      "metadata": {
        "id": "xawlDw-yqo1d"
      },
      "source": [
        "#### `geopandas` y el formato SHP (shapefile) "
      ]
    },
    {
      "cell_type": "code",
      "metadata": {
        "id": "rEXhvG4sEZRv"
      },
      "source": [
        "#el formato shapefile, tenemos un tabla como en un csv pero ademas tenemos unas columnas\r\n",
        "#mas con las geometrias de las unidades territoriales.\r\n",
        "#es un archivo .zip que adentro tiene varios archivos. Si tenemos la url lo puedo leer\r\n",
        "#usando geopanda, de una forma muy similar. Hago la misma consulta pero en formato shp\r\n",
        "#lo bueno de la libreria es que ya nos permite graficarlos.\r\n",
        "#ojo al graficar aparecen algunos agujeros en la provincia de santa fe por el max."
      ],
      "execution_count": 49,
      "outputs": []
    },
    {
      "cell_type": "markdown",
      "metadata": {
        "id": "HDZBDTUTqo1d"
      },
      "source": [
        "La API georef también permite obtener las geometrías de las entidades para, por ejemplo, graficarlas en un mapa. Sólo debe cambiarse el formato por \"shp\".\n",
        "\n",
        "Geopandas puede leer un shapefile directo de la URL, tal como hicimos con el CSV."
      ]
    },
    {
      "cell_type": "code",
      "metadata": {
        "id": "jnxcZAwYqo1e"
      },
      "source": [
        "gdf = gpd.read_file('https://apis.datos.gob.ar/georef/api/departamentos?formato=shp&provincia=82')"
      ],
      "execution_count": 50,
      "outputs": []
    },
    {
      "cell_type": "code",
      "metadata": {
        "colab": {
          "base_uri": "https://localhost:8080/",
          "height": 283
        },
        "id": "JfOTCwsDqo1e",
        "outputId": "b96b7b49-dd29-440a-c39d-aa750ebfb066"
      },
      "source": [
        "gdf.plot()"
      ],
      "execution_count": 51,
      "outputs": [
        {
          "output_type": "execute_result",
          "data": {
            "text/plain": [
              "<matplotlib.axes._subplots.AxesSubplot at 0x7ff02fdcdc88>"
            ]
          },
          "metadata": {
            "tags": []
          },
          "execution_count": 51
        },
        {
          "output_type": "display_data",
          "data": {
            "image/png": "[encoded data removed]",
            "text/plain": [
              "<Figure size 432x288 with 1 Axes>"
            ]
          },
          "metadata": {
            "tags": [],
            "needs_background": "light"
          }
        }
      ]
    },
    {
      "cell_type": "code",
      "metadata": {
        "colab": {
          "base_uri": "https://localhost:8080/"
        },
        "id": "qPxQ_wgAqo1e",
        "outputId": "49a06519-cd53-4fba-9f89-368f0a2c15ac"
      },
      "source": [
        "len(gdf)"
      ],
      "execution_count": 52,
      "outputs": [
        {
          "output_type": "execute_result",
          "data": {
            "text/plain": [
              "10"
            ]
          },
          "metadata": {
            "tags": []
          },
          "execution_count": 52
        }
      ]
    },
    {
      "cell_type": "markdown",
      "metadata": {
        "id": "kkHizbNjqo1e"
      },
      "source": [
        "Por qué faltan departamentos? La API devuelve 10 resultados como máximo por defecto, pero se puede aumentar la cantidad de resultados con el parámetro \"max\" hasta 5000."
      ]
    },
    {
      "cell_type": "code",
      "metadata": {
        "id": "ghGShwaeqo1e"
      },
      "source": [
        "gdf = gpd.read_file('https://apis.datos.gob.ar/georef/api/departamentos?formato=shp&provincia=82&max=5000')"
      ],
      "execution_count": 53,
      "outputs": []
    },
    {
      "cell_type": "code",
      "metadata": {
        "colab": {
          "base_uri": "https://localhost:8080/",
          "height": 610
        },
        "id": "0uzVE2bLqo1f",
        "outputId": "4e538017-d878-4879-dae5-10addc21f0da"
      },
      "source": [
        "gdf.plot(figsize=(10, 10))"
      ],
      "execution_count": 54,
      "outputs": [
        {
          "output_type": "execute_result",
          "data": {
            "text/plain": [
              "<matplotlib.axes._subplots.AxesSubplot at 0x7ff02fbeaef0>"
            ]
          },
          "metadata": {
            "tags": []
          },
          "execution_count": 54
        },
        {
          "output_type": "display_data",
          "data": {
            "image/png": "[encoded data removed]",
            "text/plain": [
              "<Figure size 720x720 with 1 Axes>"
            ]
          },
          "metadata": {
            "tags": [],
            "needs_background": "light"
          }
        }
      ]
    },
    {
      "cell_type": "markdown",
      "metadata": {
        "id": "gDu62A5Vqo1f"
      },
      "source": [
        "**Ejercicio:** crea un mapa de los departamentos de la provincia de Buenos Aires. Y luego crea otro solamente de aquellos departamentos con nombres de santos.\n",
        "\n",
        "Podés usar el parámetro \"nombre\" para filtrar los nombres de los departamentos que contengan la palabra \"san\"."
      ]
    },
    {
      "cell_type": "code",
      "metadata": {
        "colab": {
          "base_uri": "https://localhost:8080/",
          "height": 610
        },
        "id": "ilPYmaeTqo1f",
        "outputId": "1793d13f-0d38-461b-eb59-cdbcbef4298b"
      },
      "source": [
        "gdf = gpd.read_file('https://apis.datos.gob.ar/georef/api/departamentos?formato=shp&provincia=Buenos%20Aires&max=5000')\r\n",
        "gdf.plot(figsize=(10,10))"
      ],
      "execution_count": 58,
      "outputs": [
        {
          "output_type": "execute_result",
          "data": {
            "text/plain": [
              "<matplotlib.axes._subplots.AxesSubplot at 0x7ff02c2593c8>"
            ]
          },
          "metadata": {
            "tags": []
          },
          "execution_count": 58
        },
        {
          "output_type": "display_data",
          "data": {
            "image/png": "[encoded data removed]",
            "text/plain": [
              "<Figure size 720x720 with 1 Axes>"
            ]
          },
          "metadata": {
            "tags": [],
            "needs_background": "light"
          }
        }
      ]
    },
    {
      "cell_type": "code",
      "metadata": {
        "colab": {
          "base_uri": "https://localhost:8080/",
          "height": 1000
        },
        "id": "Pt-cB8GGGMjp",
        "outputId": "1fce301d-a2a1-401c-9b0f-dfee233e7069"
      },
      "source": [
        "gdf = gpd.read_file('https://apis.datos.gob.ar/georef/api/departamentos?formato=shp&provincia=Buenos%20Aires&max=5000&nombre=San')\r\n",
        "gdf.plot(figsize=(10,10))\r\n",
        "gdf"
      ],
      "execution_count": 60,
      "outputs": [
        {
          "output_type": "execute_result",
          "data": {
            "text/html": [
              "<div>\n",
              "<style scoped>\n",
              "    .dataframe tbody tr th:only-of-type {\n",
              "        vertical-align: middle;\n",
              "    }\n",
              "\n",
              "    .dataframe tbody tr th {\n",
              "        vertical-align: top;\n",
              "    }\n",
              "\n",
              "    .dataframe thead th {\n",
              "        text-align: right;\n",
              "    }\n",
              "</style>\n",
              "<table border=\"1\" class=\"dataframe\">\n",
              "  <thead>\n",
              "    <tr style=\"text-align: right;\">\n",
              "      <th></th>\n",
              "      <th>centr_lon</th>\n",
              "      <th>id</th>\n",
              "      <th>prov_nombre</th>\n",
              "      <th>nombre</th>\n",
              "      <th>prov_id</th>\n",
              "      <th>centr_lat</th>\n",
              "      <th>geometry</th>\n",
              "    </tr>\n",
              "  </thead>\n",
              "  <tbody>\n",
              "    <tr>\n",
              "      <th>0</th>\n",
              "      <td>-59.7825917634816</td>\n",
              "      <td>06770</td>\n",
              "      <td>Buenos Aires</td>\n",
              "      <td>San Pedro</td>\n",
              "      <td>06</td>\n",
              "      <td>-33.7819425849294</td>\n",
              "      <td>POLYGON ((-59.83077 -33.58028, -59.83022 -33.5...</td>\n",
              "    </tr>\n",
              "    <tr>\n",
              "      <th>1</th>\n",
              "      <td>-59.5866369475028</td>\n",
              "      <td>06742</td>\n",
              "      <td>Buenos Aires</td>\n",
              "      <td>San Cayetano</td>\n",
              "      <td>06</td>\n",
              "      <td>-38.3886180658492</td>\n",
              "      <td>POLYGON ((-59.62606 -38.04229, -59.62519 -38.0...</td>\n",
              "    </tr>\n",
              "    <tr>\n",
              "      <th>2</th>\n",
              "      <td>-60.292953731623</td>\n",
              "      <td>06763</td>\n",
              "      <td>Buenos Aires</td>\n",
              "      <td>San Nicolás</td>\n",
              "      <td>06</td>\n",
              "      <td>-33.4825541340452</td>\n",
              "      <td>POLYGON ((-60.26319 -33.25989, -60.25421 -33.2...</td>\n",
              "    </tr>\n",
              "    <tr>\n",
              "      <th>3</th>\n",
              "      <td>-58.6917055208826</td>\n",
              "      <td>06760</td>\n",
              "      <td>Buenos Aires</td>\n",
              "      <td>San Miguel</td>\n",
              "      <td>06</td>\n",
              "      <td>-34.5520919648351</td>\n",
              "      <td>POLYGON ((-58.60621 -34.53442, -58.60690 -34.5...</td>\n",
              "    </tr>\n",
              "    <tr>\n",
              "      <th>4</th>\n",
              "      <td>-58.4319219645129</td>\n",
              "      <td>06778</td>\n",
              "      <td>Buenos Aires</td>\n",
              "      <td>San Vicente</td>\n",
              "      <td>06</td>\n",
              "      <td>-35.0704596398936</td>\n",
              "      <td>POLYGON ((-58.31664 -34.92587, -58.30244 -34.9...</td>\n",
              "    </tr>\n",
              "    <tr>\n",
              "      <th>5</th>\n",
              "      <td>-58.5372648522523</td>\n",
              "      <td>06756</td>\n",
              "      <td>Buenos Aires</td>\n",
              "      <td>San Isidro</td>\n",
              "      <td>06</td>\n",
              "      <td>-34.4869499670191</td>\n",
              "      <td>POLYGON ((-58.51440 -34.44592, -58.51504 -34.4...</td>\n",
              "    </tr>\n",
              "    <tr>\n",
              "      <th>6</th>\n",
              "      <td>-58.5459540333809</td>\n",
              "      <td>06749</td>\n",
              "      <td>Buenos Aires</td>\n",
              "      <td>San Fernando</td>\n",
              "      <td>06</td>\n",
              "      <td>-34.1512700249506</td>\n",
              "      <td>MULTIPOLYGON (((-58.42784 -34.00408, -58.42780...</td>\n",
              "    </tr>\n",
              "    <tr>\n",
              "      <th>7</th>\n",
              "      <td>-59.4732938848478</td>\n",
              "      <td>06728</td>\n",
              "      <td>Buenos Aires</td>\n",
              "      <td>San Andrés de Giles</td>\n",
              "      <td>06</td>\n",
              "      <td>-34.4377851586384</td>\n",
              "      <td>POLYGON ((-59.35704 -34.24458, -59.29826 -34.2...</td>\n",
              "    </tr>\n",
              "    <tr>\n",
              "      <th>8</th>\n",
              "      <td>-59.5193792218302</td>\n",
              "      <td>06735</td>\n",
              "      <td>Buenos Aires</td>\n",
              "      <td>San Antonio de Areco</td>\n",
              "      <td>06</td>\n",
              "      <td>-34.2206591685119</td>\n",
              "      <td>POLYGON ((-59.32172 -33.99608, -59.32140 -33.9...</td>\n",
              "    </tr>\n",
              "    <tr>\n",
              "      <th>9</th>\n",
              "      <td>-58.5643145358763</td>\n",
              "      <td>06371</td>\n",
              "      <td>Buenos Aires</td>\n",
              "      <td>Ciudad Libertador San Martín</td>\n",
              "      <td>06</td>\n",
              "      <td>-34.5526490761118</td>\n",
              "      <td>POLYGON ((-58.54629 -34.53662, -58.53775 -34.5...</td>\n",
              "    </tr>\n",
              "  </tbody>\n",
              "</table>\n",
              "</div>"
            ],
            "text/plain": [
              "           centr_lon  ...                                           geometry\n",
              "0  -59.7825917634816  ...  POLYGON ((-59.83077 -33.58028, -59.83022 -33.5...\n",
              "1  -59.5866369475028  ...  POLYGON ((-59.62606 -38.04229, -59.62519 -38.0...\n",
              "2   -60.292953731623  ...  POLYGON ((-60.26319 -33.25989, -60.25421 -33.2...\n",
              "3  -58.6917055208826  ...  POLYGON ((-58.60621 -34.53442, -58.60690 -34.5...\n",
              "4  -58.4319219645129  ...  POLYGON ((-58.31664 -34.92587, -58.30244 -34.9...\n",
              "5  -58.5372648522523  ...  POLYGON ((-58.51440 -34.44592, -58.51504 -34.4...\n",
              "6  -58.5459540333809  ...  MULTIPOLYGON (((-58.42784 -34.00408, -58.42780...\n",
              "7  -59.4732938848478  ...  POLYGON ((-59.35704 -34.24458, -59.29826 -34.2...\n",
              "8  -59.5193792218302  ...  POLYGON ((-59.32172 -33.99608, -59.32140 -33.9...\n",
              "9  -58.5643145358763  ...  POLYGON ((-58.54629 -34.53662, -58.53775 -34.5...\n",
              "\n",
              "[10 rows x 7 columns]"
            ]
          },
          "metadata": {
            "tags": []
          },
          "execution_count": 60
        },
        {
          "output_type": "display_data",
          "data": {
            "image/png": "[encoded data removed]",
            "text/plain": [
              "<Figure size 720x720 with 1 Axes>"
            ]
          },
          "metadata": {
            "tags": [],
            "needs_background": "light"
          }
        }
      ]
    },
    {
      "cell_type": "code",
      "metadata": {
        "colab": {
          "base_uri": "https://localhost:8080/",
          "height": 587
        },
        "id": "Juy9S4-fGgSE",
        "outputId": "11351812-aa75-41ae-aee8-dadfb5f6b20d"
      },
      "source": [
        "gdf = gpd.read_file('https://apis.datos.gob.ar/georef/api/departamentos?formato=shp&provincia=Chubut&max=5000&nombre=Escalante')\r\n",
        "gdf\r\n",
        "gdf.plot(figsize=(10,10))\r\n"
      ],
      "execution_count": 71,
      "outputs": [
        {
          "output_type": "execute_result",
          "data": {
            "text/plain": [
              "<matplotlib.axes._subplots.AxesSubplot at 0x7ff02c8cf6d8>"
            ]
          },
          "metadata": {
            "tags": []
          },
          "execution_count": 71
        },
        {
          "output_type": "display_data",
          "data": {
            "image/png": "[encoded data removed]",
            "text/plain": [
              "<Figure size 720x720 with 1 Axes>"
            ]
          },
          "metadata": {
            "tags": [],
            "needs_background": "light"
          }
        }
      ]
    },
    {
      "cell_type": "code",
      "metadata": {
        "colab": {
          "base_uri": "https://localhost:8080/",
          "height": 426
        },
        "id": "bzhmQnzRIId_",
        "outputId": "4dac6036-e039-4903-cf09-e939e58aea4d"
      },
      "source": [
        "gdf = gpd.read_file('https://apis.datos.gob.ar/georef/api/departamentos?formato=shp&provincia=Chubut&max=5000')\r\n",
        "gdf\r\n",
        "gdf.plot(figsize=(10,10))"
      ],
      "execution_count": 72,
      "outputs": [
        {
          "output_type": "execute_result",
          "data": {
            "text/plain": [
              "<matplotlib.axes._subplots.AxesSubplot at 0x7ff02c82f940>"
            ]
          },
          "metadata": {
            "tags": []
          },
          "execution_count": 72
        },
        {
          "output_type": "display_data",
          "data": {
            "image/png": "[encoded data removed]",
            "text/plain": [
              "<Figure size 720x720 with 1 Axes>"
            ]
          },
          "metadata": {
            "tags": [],
            "needs_background": "light"
          }
        }
      ]
    },
    {
      "cell_type": "code",
      "metadata": {
        "colab": {
          "base_uri": "https://localhost:8080/"
        },
        "id": "7SgIp0ybI7Gz",
        "outputId": "87276811-bbd0-4e03-bf0a-a5511d081bbc"
      },
      "source": [
        "response = requests.get(\"https://apis.datos.gob.ar/georef/api/departamentos?provincia=Chubut\")\r\n",
        "response = response.json()\r\n",
        "response"
      ],
      "execution_count": 74,
      "outputs": [
        {
          "output_type": "execute_result",
          "data": {
            "text/plain": [
              "{'cantidad': 10,\n",
              " 'departamentos': [{'centroide': {'lat': -43.1372229709113,\n",
              "    'lon': -65.0757246833498},\n",
              "   'id': '26077',\n",
              "   'nombre': 'Rawson',\n",
              "   'provincia': {'id': '26', 'nombre': 'Chubut'}},\n",
              "  {'centroide': {'lat': -42.36635302228, 'lon': -70.7120117319755},\n",
              "   'id': '26014',\n",
              "   'nombre': 'Cushamen',\n",
              "   'provincia': {'id': '26', 'nombre': 'Chubut'}},\n",
              "  {'centroide': {'lat': -43.3234947781653, 'lon': -70.3484257364086},\n",
              "   'id': '26056',\n",
              "   'nombre': 'Languiñeo',\n",
              "   'provincia': {'id': '26', 'nombre': 'Chubut'}},\n",
              "  {'centroide': {'lat': -43.070540741803, 'lon': -71.4553756889394},\n",
              "   'id': '26035',\n",
              "   'nombre': 'Futaleufú',\n",
              "   'provincia': {'id': '26', 'nombre': 'Chubut'}},\n",
              "  {'centroide': {'lat': -44.2000353406651, 'lon': -70.5768950488331},\n",
              "   'id': '26098',\n",
              "   'nombre': 'Tehuelches',\n",
              "   'provincia': {'id': '26', 'nombre': 'Chubut'}},\n",
              "  {'centroide': {'lat': -45.282788434735, 'lon': -67.7087570024311},\n",
              "   'id': '26021',\n",
              "   'nombre': 'Escalante',\n",
              "   'provincia': {'id': '26', 'nombre': 'Chubut'}},\n",
              "  {'centroide': {'lat': -45.3450235273933, 'lon': -69.0028353555711},\n",
              "   'id': '26091',\n",
              "   'nombre': 'Sarmiento',\n",
              "   'provincia': {'id': '26', 'nombre': 'Chubut'}},\n",
              "  {'centroide': {'lat': -42.4389445468027, 'lon': -67.1769071477022},\n",
              "   'id': '26105',\n",
              "   'nombre': 'Telsen',\n",
              "   'provincia': {'id': '26', 'nombre': 'Chubut'}},\n",
              "  {'centroide': {'lat': -43.2727624456965, 'lon': -66.172162203297},\n",
              "   'id': '26042',\n",
              "   'nombre': 'Gaiman',\n",
              "   'provincia': {'id': '26', 'nombre': 'Chubut'}},\n",
              "  {'centroide': {'lat': -43.8138432526407, 'lon': -67.2400230074032},\n",
              "   'id': '26063',\n",
              "   'nombre': 'Mártires',\n",
              "   'provincia': {'id': '26', 'nombre': 'Chubut'}}],\n",
              " 'inicio': 0,\n",
              " 'parametros': {'provincia': 'Chubut'},\n",
              " 'total': 15}"
            ]
          },
          "metadata": {
            "tags": []
          },
          "execution_count": 74
        }
      ]
    },
    {
      "cell_type": "code",
      "metadata": {
        "colab": {
          "base_uri": "https://localhost:8080/",
          "height": 982
        },
        "id": "XI-EXbm0IaN8",
        "outputId": "b1a98a1a-451e-4a1b-bc1b-21f6b4809c3a"
      },
      "source": [
        "gdf = gpd.read_file('https://apis.datos.gob.ar/georef/api/departamentos?formato=shp&provincia=06,26&campos=nombre,provincia.nombre&max=5000&orden=nombre')\r\n",
        "gdf.plot(figsize=(10,10))\r\n",
        "gdf"
      ],
      "execution_count": 86,
      "outputs": [
        {
          "output_type": "execute_result",
          "data": {
            "text/html": [
              "<div>\n",
              "<style scoped>\n",
              "    .dataframe tbody tr th:only-of-type {\n",
              "        vertical-align: middle;\n",
              "    }\n",
              "\n",
              "    .dataframe tbody tr th {\n",
              "        vertical-align: top;\n",
              "    }\n",
              "\n",
              "    .dataframe thead th {\n",
              "        text-align: right;\n",
              "    }\n",
              "</style>\n",
              "<table border=\"1\" class=\"dataframe\">\n",
              "  <thead>\n",
              "    <tr style=\"text-align: right;\">\n",
              "      <th></th>\n",
              "      <th>id</th>\n",
              "      <th>prov_nombre</th>\n",
              "      <th>nombre</th>\n",
              "      <th>geometry</th>\n",
              "    </tr>\n",
              "  </thead>\n",
              "  <tbody>\n",
              "    <tr>\n",
              "      <th>0</th>\n",
              "      <td>06854</td>\n",
              "      <td>Buenos Aires</td>\n",
              "      <td>25 de Mayo</td>\n",
              "      <td>POLYGON ((-60.02052 -35.10801, -60.01966 -35.1...</td>\n",
              "    </tr>\n",
              "    <tr>\n",
              "      <th>1</th>\n",
              "      <td>06588</td>\n",
              "      <td>Buenos Aires</td>\n",
              "      <td>9 de Julio</td>\n",
              "      <td>POLYGON ((-60.84118 -35.16618, -60.75045 -35.2...</td>\n",
              "    </tr>\n",
              "    <tr>\n",
              "      <th>2</th>\n",
              "      <td>06007</td>\n",
              "      <td>Buenos Aires</td>\n",
              "      <td>Adolfo Alsina</td>\n",
              "      <td>POLYGON ((-63.22224 -36.65733, -63.18597 -36.6...</td>\n",
              "    </tr>\n",
              "    <tr>\n",
              "      <th>3</th>\n",
              "      <td>06014</td>\n",
              "      <td>Buenos Aires</td>\n",
              "      <td>Adolfo Gonzales Chaves</td>\n",
              "      <td>POLYGON ((-60.37796 -37.66191, -60.42376 -37.6...</td>\n",
              "    </tr>\n",
              "    <tr>\n",
              "      <th>4</th>\n",
              "      <td>06021</td>\n",
              "      <td>Buenos Aires</td>\n",
              "      <td>Alberti</td>\n",
              "      <td>POLYGON ((-60.25068 -34.81797, -60.23983 -34.8...</td>\n",
              "    </tr>\n",
              "    <tr>\n",
              "      <th>...</th>\n",
              "      <td>...</td>\n",
              "      <td>...</td>\n",
              "      <td>...</td>\n",
              "      <td>...</td>\n",
              "    </tr>\n",
              "    <tr>\n",
              "      <th>145</th>\n",
              "      <td>06847</td>\n",
              "      <td>Buenos Aires</td>\n",
              "      <td>Tres Lomas</td>\n",
              "      <td>POLYGON ((-62.62602 -36.50150, -62.60647 -36.5...</td>\n",
              "    </tr>\n",
              "    <tr>\n",
              "      <th>146</th>\n",
              "      <td>06861</td>\n",
              "      <td>Buenos Aires</td>\n",
              "      <td>Vicente López</td>\n",
              "      <td>POLYGON ((-58.48037 -34.48861, -58.48036 -34.4...</td>\n",
              "    </tr>\n",
              "    <tr>\n",
              "      <th>147</th>\n",
              "      <td>06868</td>\n",
              "      <td>Buenos Aires</td>\n",
              "      <td>Villa Gesell</td>\n",
              "      <td>POLYGON ((-56.92596 -37.21009, -56.92604 -37.2...</td>\n",
              "    </tr>\n",
              "    <tr>\n",
              "      <th>148</th>\n",
              "      <td>06875</td>\n",
              "      <td>Buenos Aires</td>\n",
              "      <td>Villarino</td>\n",
              "      <td>MULTIPOLYGON (((-62.90019 -38.45579, -62.73822...</td>\n",
              "    </tr>\n",
              "    <tr>\n",
              "      <th>149</th>\n",
              "      <td>06882</td>\n",
              "      <td>Buenos Aires</td>\n",
              "      <td>Zárate</td>\n",
              "      <td>POLYGON ((-59.16536 -33.81419, -59.15979 -33.8...</td>\n",
              "    </tr>\n",
              "  </tbody>\n",
              "</table>\n",
              "<p>150 rows × 4 columns</p>\n",
              "</div>"
            ],
            "text/plain": [
              "        id  ...                                           geometry\n",
              "0    06854  ...  POLYGON ((-60.02052 -35.10801, -60.01966 -35.1...\n",
              "1    06588  ...  POLYGON ((-60.84118 -35.16618, -60.75045 -35.2...\n",
              "2    06007  ...  POLYGON ((-63.22224 -36.65733, -63.18597 -36.6...\n",
              "3    06014  ...  POLYGON ((-60.37796 -37.66191, -60.42376 -37.6...\n",
              "4    06021  ...  POLYGON ((-60.25068 -34.81797, -60.23983 -34.8...\n",
              "..     ...  ...                                                ...\n",
              "145  06847  ...  POLYGON ((-62.62602 -36.50150, -62.60647 -36.5...\n",
              "146  06861  ...  POLYGON ((-58.48037 -34.48861, -58.48036 -34.4...\n",
              "147  06868  ...  POLYGON ((-56.92596 -37.21009, -56.92604 -37.2...\n",
              "148  06875  ...  MULTIPOLYGON (((-62.90019 -38.45579, -62.73822...\n",
              "149  06882  ...  POLYGON ((-59.16536 -33.81419, -59.15979 -33.8...\n",
              "\n",
              "[150 rows x 4 columns]"
            ]
          },
          "metadata": {
            "tags": []
          },
          "execution_count": 86
        },
        {
          "output_type": "display_data",
          "data": {
            "image/png": "[encoded data removed]",
            "text/plain": [
              "<Figure size 720x720 with 1 Axes>"
            ]
          },
          "metadata": {
            "tags": [],
            "needs_background": "light"
          }
        }
      ]
    },
    {
      "cell_type": "markdown",
      "metadata": {
        "id": "qtNM1qdpqo1f"
      },
      "source": [
        "### Normalización"
      ]
    },
    {
      "cell_type": "markdown",
      "metadata": {
        "id": "AtIR9y7nqo1f"
      },
      "source": [
        "#### Métodos POST y consultas bulk "
      ]
    },
    {
      "cell_type": "markdown",
      "metadata": {
        "id": "DAoC4OdFqo1g"
      },
      "source": [
        "Los recursos se pueden usar para normalizar nombres de unidades territoriales mal escritos, corrigiendo con el nombre oficial y agregando el código oficial. Esto facilita enormemente la cruza de datos."
      ]
    },
    {
      "cell_type": "code",
      "metadata": {
        "colab": {
          "base_uri": "https://localhost:8080/"
        },
        "id": "rKMTHcuqqo1g",
        "outputId": "538cc113-c81a-4fc9-a5aa-cceee64b9c86"
      },
      "source": [
        "requests.get(\"https://apis.datos.gob.ar/georef/api/provincias?nombre=sant fe\").json()"
      ],
      "execution_count": 87,
      "outputs": [
        {
          "output_type": "execute_result",
          "data": {
            "text/plain": [
              "{'cantidad': 1,\n",
              " 'inicio': 0,\n",
              " 'parametros': {'nombre': 'sant fe'},\n",
              " 'provincias': [{'centroide': {'lat': -30.7069271588117,\n",
              "    'lon': -60.9498369430241},\n",
              "   'id': '82',\n",
              "   'nombre': 'Santa Fe'}],\n",
              " 'total': 1}"
            ]
          },
          "metadata": {
            "tags": []
          },
          "execution_count": 87
        }
      ]
    },
    {
      "cell_type": "markdown",
      "metadata": {
        "id": "0Psomap9qo1g"
      },
      "source": [
        "Sin embargo, los datasets a normalizar generalmente tendrán muchas filas y el método GET en este caso no nos llevará muy lejos.. Consumiremos rápidamente la cuota de la API y no conseguiremos el objetivo.\n",
        "\n",
        "Para esto podemos usar la versión \"bulk\" del recurso, y realizar una request POST.\n",
        "\n",
        "Imaginemos que tenemos un dataset con varias filas a normalizar."
      ]
    },
    {
      "cell_type": "code",
      "metadata": {
        "id": "KxyFJkXlqo1g"
      },
      "source": [
        "bioetanol = pd.read_csv('http://datos.minem.gob.ar/dataset/5ce77ad1-c729-42cd-a8b5-2407de005e5b/resource/0df1eeda-854b-44b0-8ea6-1a537f167fa4/download/bioetanol.csv')"
      ],
      "execution_count": null,
      "outputs": []
    },
    {
      "cell_type": "code",
      "metadata": {
        "id": "oCMCBxdoqo1g",
        "outputId": "f6089eba-41d9-4b09-9778-bee077b4b1e2"
      },
      "source": [
        "bioetanol"
      ],
      "execution_count": null,
      "outputs": [
        {
          "output_type": "execute_result",
          "data": {
            "text/html": [
              "<div>\n",
              "<style scoped>\n",
              "    .dataframe tbody tr th:only-of-type {\n",
              "        vertical-align: middle;\n",
              "    }\n",
              "\n",
              "    .dataframe tbody tr th {\n",
              "        vertical-align: top;\n",
              "    }\n",
              "\n",
              "    .dataframe thead th {\n",
              "        text-align: right;\n",
              "    }\n",
              "</style>\n",
              "<table border=\"1\" class=\"dataframe\">\n",
              "  <thead>\n",
              "    <tr style=\"text-align: right;\">\n",
              "      <th></th>\n",
              "      <th>fecha</th>\n",
              "      <th>empresa</th>\n",
              "      <th>localidad</th>\n",
              "      <th>provincia</th>\n",
              "      <th>insumo</th>\n",
              "      <th>cupo_total_asignado_m3</th>\n",
              "      <th>produccion__m3</th>\n",
              "      <th>ventas_totales__m3</th>\n",
              "      <th>ventas_a_axion_m3</th>\n",
              "      <th>ventas_a_petrobras_m3</th>\n",
              "      <th>ventas_a_fox_petrol_m3</th>\n",
              "      <th>ventas_a_refineria_del_norte_m3</th>\n",
              "      <th>ventas_a_shell_m3</th>\n",
              "      <th>ventas_a_ypf_m3</th>\n",
              "      <th>ventas_a_energia_derivada_del_petroleo_m3</th>\n",
              "      <th>ventas_a_oil_combustibles_m3</th>\n",
              "      <th>ventas_a_trafigura_oil_m3</th>\n",
              "    </tr>\n",
              "  </thead>\n",
              "  <tbody>\n",
              "    <tr>\n",
              "      <td>0</td>\n",
              "      <td>1/1/2012</td>\n",
              "      <td>ALCONOA S.R.L.</td>\n",
              "      <td>EL TABACAL</td>\n",
              "      <td>SALTA</td>\n",
              "      <td>CAÑA DE AZÚCAR</td>\n",
              "      <td>3500.0</td>\n",
              "      <td>6767.997473</td>\n",
              "      <td>3565.003159</td>\n",
              "      <td>298.00</td>\n",
              "      <td>0.00</td>\n",
              "      <td>0.0</td>\n",
              "      <td>0.00</td>\n",
              "      <td>1366.00</td>\n",
              "      <td>1901.00</td>\n",
              "      <td>0.00</td>\n",
              "      <td>0.00</td>\n",
              "      <td>0.0</td>\n",
              "    </tr>\n",
              "    <tr>\n",
              "      <td>1</td>\n",
              "      <td>1/1/2012</td>\n",
              "      <td>BIO SAN ISIDRO S.A.</td>\n",
              "      <td>CAMPO SANTO</td>\n",
              "      <td>SALTA</td>\n",
              "      <td>CAÑA DE AZÚCAR</td>\n",
              "      <td>300.0</td>\n",
              "      <td>0</td>\n",
              "      <td>476.651927</td>\n",
              "      <td>0.00</td>\n",
              "      <td>0.00</td>\n",
              "      <td>0.0</td>\n",
              "      <td>0.00</td>\n",
              "      <td>0.00</td>\n",
              "      <td>476.65</td>\n",
              "      <td>0.00</td>\n",
              "      <td>0.00</td>\n",
              "      <td>0.0</td>\n",
              "    </tr>\n",
              "    <tr>\n",
              "      <td>2</td>\n",
              "      <td>1/1/2012</td>\n",
              "      <td>BIOENERGÍA LA CORONA S.A.</td>\n",
              "      <td>CONCEPCIÓN</td>\n",
              "      <td>TUCUMÁN</td>\n",
              "      <td>CAÑA DE AZÚCAR</td>\n",
              "      <td>670.0</td>\n",
              "      <td>0</td>\n",
              "      <td>654.403032</td>\n",
              "      <td>0.00</td>\n",
              "      <td>0.00</td>\n",
              "      <td>0.0</td>\n",
              "      <td>0.00</td>\n",
              "      <td>0.00</td>\n",
              "      <td>654.41</td>\n",
              "      <td>0.00</td>\n",
              "      <td>0.00</td>\n",
              "      <td>0.0</td>\n",
              "    </tr>\n",
              "    <tr>\n",
              "      <td>3</td>\n",
              "      <td>1/1/2012</td>\n",
              "      <td>BIOENERGÍA SANTA ROSA S.A.</td>\n",
              "      <td>LEÓN ROUGES</td>\n",
              "      <td>TUCUMÁN</td>\n",
              "      <td>CAÑA DE AZÚCAR</td>\n",
              "      <td>1200.0</td>\n",
              "      <td>0</td>\n",
              "      <td>1051.345546</td>\n",
              "      <td>517.57</td>\n",
              "      <td>533.77</td>\n",
              "      <td>0.0</td>\n",
              "      <td>0.00</td>\n",
              "      <td>0.00</td>\n",
              "      <td>0.00</td>\n",
              "      <td>0.00</td>\n",
              "      <td>0.00</td>\n",
              "      <td>0.0</td>\n",
              "    </tr>\n",
              "    <tr>\n",
              "      <td>4</td>\n",
              "      <td>1/1/2012</td>\n",
              "      <td>BIOLEDESMA S.A.</td>\n",
              "      <td>LEDESMA</td>\n",
              "      <td>JUJUY</td>\n",
              "      <td>CAÑA DE AZÚCAR</td>\n",
              "      <td>4083.0</td>\n",
              "      <td>4391.787745</td>\n",
              "      <td>4278.686039</td>\n",
              "      <td>503.81</td>\n",
              "      <td>0.00</td>\n",
              "      <td>0.0</td>\n",
              "      <td>0.00</td>\n",
              "      <td>615.17</td>\n",
              "      <td>2645.09</td>\n",
              "      <td>104.36</td>\n",
              "      <td>410.27</td>\n",
              "      <td>0.0</td>\n",
              "    </tr>\n",
              "    <tr>\n",
              "      <td>...</td>\n",
              "      <td>...</td>\n",
              "      <td>...</td>\n",
              "      <td>...</td>\n",
              "      <td>...</td>\n",
              "      <td>...</td>\n",
              "      <td>...</td>\n",
              "      <td>...</td>\n",
              "      <td>...</td>\n",
              "      <td>...</td>\n",
              "      <td>...</td>\n",
              "      <td>...</td>\n",
              "      <td>...</td>\n",
              "      <td>...</td>\n",
              "      <td>...</td>\n",
              "      <td>...</td>\n",
              "      <td>...</td>\n",
              "      <td>...</td>\n",
              "    </tr>\n",
              "    <tr>\n",
              "      <td>967</td>\n",
              "      <td>3/1/2018</td>\n",
              "      <td>ENERGÍAS ECOLÓGICAS DEL TUCUMÁN S.A.</td>\n",
              "      <td>AGUILARES</td>\n",
              "      <td>TUCUMÁN</td>\n",
              "      <td>CAÑA DE AZÚCAR</td>\n",
              "      <td>NaN</td>\n",
              "      <td>1848.98</td>\n",
              "      <td>1704.720000</td>\n",
              "      <td>1194.33</td>\n",
              "      <td>0.00</td>\n",
              "      <td>0.0</td>\n",
              "      <td>0.00</td>\n",
              "      <td>510.39</td>\n",
              "      <td>0.00</td>\n",
              "      <td>0.00</td>\n",
              "      <td>0.00</td>\n",
              "      <td>0.0</td>\n",
              "    </tr>\n",
              "    <tr>\n",
              "      <td>968</td>\n",
              "      <td>3/1/2018</td>\n",
              "      <td>FRONTERITA ENERGÍA S.A.</td>\n",
              "      <td>FAMAILLÁ</td>\n",
              "      <td>TUCUMÁN</td>\n",
              "      <td>CAÑA DE AZÚCAR</td>\n",
              "      <td>NaN</td>\n",
              "      <td>463.5</td>\n",
              "      <td>2774.120000</td>\n",
              "      <td>1048.58</td>\n",
              "      <td>0.00</td>\n",
              "      <td>0.0</td>\n",
              "      <td>542.67</td>\n",
              "      <td>0.00</td>\n",
              "      <td>1182.87</td>\n",
              "      <td>0.00</td>\n",
              "      <td>0.00</td>\n",
              "      <td>0.0</td>\n",
              "    </tr>\n",
              "    <tr>\n",
              "      <td>969</td>\n",
              "      <td>3/1/2018</td>\n",
              "      <td>PROMAÍZ S.A.</td>\n",
              "      <td>ALEJANDRO ROCA</td>\n",
              "      <td>CÓRDOBA</td>\n",
              "      <td>MAÍZ</td>\n",
              "      <td>NaN</td>\n",
              "      <td>13904.27</td>\n",
              "      <td>12420.200000</td>\n",
              "      <td>3098.05</td>\n",
              "      <td>1301.97</td>\n",
              "      <td>0.0</td>\n",
              "      <td>0.00</td>\n",
              "      <td>2516.67</td>\n",
              "      <td>5503.51</td>\n",
              "      <td>0.00</td>\n",
              "      <td>0.00</td>\n",
              "      <td>0.0</td>\n",
              "    </tr>\n",
              "    <tr>\n",
              "      <td>970</td>\n",
              "      <td>3/1/2018</td>\n",
              "      <td>RÍO GRANDE ENERGÍA S.A.</td>\n",
              "      <td>LA MENDIETA</td>\n",
              "      <td>JUJUY</td>\n",
              "      <td>CAÑA DE AZÚCAR</td>\n",
              "      <td>NaN</td>\n",
              "      <td>1130.15</td>\n",
              "      <td>1573.470000</td>\n",
              "      <td>0.00</td>\n",
              "      <td>0.00</td>\n",
              "      <td>0.0</td>\n",
              "      <td>0.00</td>\n",
              "      <td>583.60</td>\n",
              "      <td>989.87</td>\n",
              "      <td>0.00</td>\n",
              "      <td>0.00</td>\n",
              "      <td>0.0</td>\n",
              "    </tr>\n",
              "    <tr>\n",
              "      <td>971</td>\n",
              "      <td>3/1/2018</td>\n",
              "      <td>VICENTÍN S.A.I.C.</td>\n",
              "      <td>AVELLANEDA</td>\n",
              "      <td>SANTA FE</td>\n",
              "      <td>MAÍZ</td>\n",
              "      <td>NaN</td>\n",
              "      <td>6108.93</td>\n",
              "      <td>5569.070000</td>\n",
              "      <td>2306.31</td>\n",
              "      <td>219.59</td>\n",
              "      <td>0.0</td>\n",
              "      <td>0.00</td>\n",
              "      <td>582.79</td>\n",
              "      <td>2460.38</td>\n",
              "      <td>0.00</td>\n",
              "      <td>0.00</td>\n",
              "      <td>0.0</td>\n",
              "    </tr>\n",
              "  </tbody>\n",
              "</table>\n",
              "<p>972 rows × 17 columns</p>\n",
              "</div>"
            ],
            "text/plain": [
              "        fecha                               empresa       localidad provincia  \\\n",
              "0    1/1/2012                        ALCONOA S.R.L.      EL TABACAL     SALTA   \n",
              "1    1/1/2012                   BIO SAN ISIDRO S.A.     CAMPO SANTO     SALTA   \n",
              "2    1/1/2012             BIOENERGÍA LA CORONA S.A.      CONCEPCIÓN   TUCUMÁN   \n",
              "3    1/1/2012            BIOENERGÍA SANTA ROSA S.A.     LEÓN ROUGES   TUCUMÁN   \n",
              "4    1/1/2012                       BIOLEDESMA S.A.         LEDESMA     JUJUY   \n",
              "..        ...                                   ...             ...       ...   \n",
              "967  3/1/2018  ENERGÍAS ECOLÓGICAS DEL TUCUMÁN S.A.       AGUILARES   TUCUMÁN   \n",
              "968  3/1/2018               FRONTERITA ENERGÍA S.A.        FAMAILLÁ   TUCUMÁN   \n",
              "969  3/1/2018                          PROMAÍZ S.A.  ALEJANDRO ROCA   CÓRDOBA   \n",
              "970  3/1/2018               RÍO GRANDE ENERGÍA S.A.     LA MENDIETA     JUJUY   \n",
              "971  3/1/2018                     VICENTÍN S.A.I.C.      AVELLANEDA  SANTA FE   \n",
              "\n",
              "             insumo  cupo_total_asignado_m3 produccion__m3  \\\n",
              "0    CAÑA DE AZÚCAR                  3500.0    6767.997473   \n",
              "1    CAÑA DE AZÚCAR                   300.0              0   \n",
              "2    CAÑA DE AZÚCAR                   670.0              0   \n",
              "3    CAÑA DE AZÚCAR                  1200.0              0   \n",
              "4    CAÑA DE AZÚCAR                  4083.0    4391.787745   \n",
              "..              ...                     ...            ...   \n",
              "967  CAÑA DE AZÚCAR                     NaN        1848.98   \n",
              "968  CAÑA DE AZÚCAR                     NaN          463.5   \n",
              "969            MAÍZ                     NaN       13904.27   \n",
              "970  CAÑA DE AZÚCAR                     NaN        1130.15   \n",
              "971            MAÍZ                     NaN        6108.93   \n",
              "\n",
              "     ventas_totales__m3  ventas_a_axion_m3  ventas_a_petrobras_m3  \\\n",
              "0           3565.003159             298.00                   0.00   \n",
              "1            476.651927               0.00                   0.00   \n",
              "2            654.403032               0.00                   0.00   \n",
              "3           1051.345546             517.57                 533.77   \n",
              "4           4278.686039             503.81                   0.00   \n",
              "..                  ...                ...                    ...   \n",
              "967         1704.720000            1194.33                   0.00   \n",
              "968         2774.120000            1048.58                   0.00   \n",
              "969        12420.200000            3098.05                1301.97   \n",
              "970         1573.470000               0.00                   0.00   \n",
              "971         5569.070000            2306.31                 219.59   \n",
              "\n",
              "     ventas_a_fox_petrol_m3  ventas_a_refineria_del_norte_m3  \\\n",
              "0                       0.0                             0.00   \n",
              "1                       0.0                             0.00   \n",
              "2                       0.0                             0.00   \n",
              "3                       0.0                             0.00   \n",
              "4                       0.0                             0.00   \n",
              "..                      ...                              ...   \n",
              "967                     0.0                             0.00   \n",
              "968                     0.0                           542.67   \n",
              "969                     0.0                             0.00   \n",
              "970                     0.0                             0.00   \n",
              "971                     0.0                             0.00   \n",
              "\n",
              "     ventas_a_shell_m3  ventas_a_ypf_m3  \\\n",
              "0              1366.00          1901.00   \n",
              "1                 0.00           476.65   \n",
              "2                 0.00           654.41   \n",
              "3                 0.00             0.00   \n",
              "4               615.17          2645.09   \n",
              "..                 ...              ...   \n",
              "967             510.39             0.00   \n",
              "968               0.00          1182.87   \n",
              "969            2516.67          5503.51   \n",
              "970             583.60           989.87   \n",
              "971             582.79          2460.38   \n",
              "\n",
              "     ventas_a_energia_derivada_del_petroleo_m3  ventas_a_oil_combustibles_m3  \\\n",
              "0                                         0.00                          0.00   \n",
              "1                                         0.00                          0.00   \n",
              "2                                         0.00                          0.00   \n",
              "3                                         0.00                          0.00   \n",
              "4                                       104.36                        410.27   \n",
              "..                                         ...                           ...   \n",
              "967                                       0.00                          0.00   \n",
              "968                                       0.00                          0.00   \n",
              "969                                       0.00                          0.00   \n",
              "970                                       0.00                          0.00   \n",
              "971                                       0.00                          0.00   \n",
              "\n",
              "     ventas_a_trafigura_oil_m3  \n",
              "0                          0.0  \n",
              "1                          0.0  \n",
              "2                          0.0  \n",
              "3                          0.0  \n",
              "4                          0.0  \n",
              "..                         ...  \n",
              "967                        0.0  \n",
              "968                        0.0  \n",
              "969                        0.0  \n",
              "970                        0.0  \n",
              "971                        0.0  \n",
              "\n",
              "[972 rows x 17 columns]"
            ]
          },
          "metadata": {
            "tags": []
          },
          "execution_count": 16
        }
      ]
    },
    {
      "cell_type": "markdown",
      "metadata": {
        "id": "PerhWWb3qo1h"
      },
      "source": [
        "Los métodos POST se usan cuando una request debe enviarle datos al servidor para cumplir su cometido. Generalmente las POST requests generan cambios en el servidor (por ejemplo, agregan un comentario a una nota periodística) pero también se usan cuando la consulta requiere parámetros más complejos o voluminosos.\n",
        "\n",
        "El método POST permite enviar un JSON (por ejemplo) aparte de la URL."
      ]
    },
    {
      "cell_type": "code",
      "metadata": {
        "id": "3kibRUmjqo1h"
      },
      "source": [
        "data = {\n",
        "    'provincias': [\n",
        "        {\n",
        "            'nombre': 'JUJUY',\n",
        "            'max': 1,\n",
        "            'campos': 'id,nombre'\n",
        "        },\n",
        "        {\n",
        "            'nombre': 'TUCUMAN',\n",
        "            'max': 1,\n",
        "            'campos': 'id,nombre'\n",
        "        },\n",
        "        {\n",
        "            'nombre': 'CORDOBA',\n",
        "            'max': 1,\n",
        "            'campos': 'id,nombre'\n",
        "        },\n",
        "        {\n",
        "            'nombre': 'SALTA',\n",
        "            'max': 1,\n",
        "            'campos': 'id,nombre'\n",
        "        }\n",
        "    ]\n",
        "}"
      ],
      "execution_count": null,
      "outputs": []
    },
    {
      "cell_type": "markdown",
      "metadata": {
        "id": "EiUEHopyqo1h"
      },
      "source": [
        "En este diccionario, cada objeto en la lista de provincias es una consulta individual. Se pueden acumular hasta 1000 consultas en un solo POST request de esta API.\n",
        "\n",
        "En todos los casos ponemos 'max' = 1 porque solo queremos el mejor match posible de cada caso, y elegimos que devuelva solo los campos que necesitamos, para agilizar la consulta."
      ]
    },
    {
      "cell_type": "code",
      "metadata": {
        "id": "DlMDY13vqo1h"
      },
      "source": [
        "resultado_provs = requests.post(\n",
        "    \"https://apis.datos.gob.ar/georef/api/provincias\",\n",
        "    json=data\n",
        ").json()"
      ],
      "execution_count": null,
      "outputs": []
    },
    {
      "cell_type": "code",
      "metadata": {
        "id": "6VNAFXfhqo1i",
        "outputId": "4a53067b-e63a-41a2-8d16-1bfd0a8656c9"
      },
      "source": [
        "resultado_provs"
      ],
      "execution_count": null,
      "outputs": [
        {
          "output_type": "execute_result",
          "data": {
            "text/plain": [
              "{'resultados': [{'cantidad': 1,\n",
              "   'inicio': 0,\n",
              "   'parametros': {'campos': ['id', 'nombre'], 'max': 1, 'nombre': 'JUJUY'},\n",
              "   'provincias': [{'id': '38', 'nombre': 'Jujuy'}],\n",
              "   'total': 1},\n",
              "  {'cantidad': 1,\n",
              "   'inicio': 0,\n",
              "   'parametros': {'campos': ['id', 'nombre'], 'max': 1, 'nombre': 'TUCUMAN'},\n",
              "   'provincias': [{'id': '90', 'nombre': 'Tucumán'}],\n",
              "   'total': 1},\n",
              "  {'cantidad': 1,\n",
              "   'inicio': 0,\n",
              "   'parametros': {'campos': ['id', 'nombre'], 'max': 1, 'nombre': 'CORDOBA'},\n",
              "   'provincias': [{'id': '14', 'nombre': 'Córdoba'}],\n",
              "   'total': 1},\n",
              "  {'cantidad': 1,\n",
              "   'inicio': 0,\n",
              "   'parametros': {'campos': ['id', 'nombre'], 'max': 1, 'nombre': 'SALTA'},\n",
              "   'provincias': [{'id': '66', 'nombre': 'Salta'}],\n",
              "   'total': 1}]}"
            ]
          },
          "metadata": {
            "tags": []
          },
          "execution_count": 19
        }
      ]
    },
    {
      "cell_type": "code",
      "metadata": {
        "id": "jpXbSXw6qo1i",
        "outputId": "47b7e5e1-4845-4b83-a93c-66fca2404066"
      },
      "source": [
        "resultado_provs['resultados'][0]['provincias']"
      ],
      "execution_count": null,
      "outputs": [
        {
          "output_type": "execute_result",
          "data": {
            "text/plain": [
              "[{'id': '38', 'nombre': 'Jujuy'}]"
            ]
          },
          "metadata": {
            "tags": []
          },
          "execution_count": 20
        }
      ]
    },
    {
      "cell_type": "markdown",
      "metadata": {
        "id": "rbSZRKVCqo1i"
      },
      "source": [
        "Para usar este método necesitamos generar el diccionario de una forma más flexible (no lo podemos hacer a mano!)."
      ]
    },
    {
      "cell_type": "code",
      "metadata": {
        "id": "rqHfNtoGqo1i"
      },
      "source": [
        "provincias_normalizar = list(bioetanol.provincia)"
      ],
      "execution_count": null,
      "outputs": []
    },
    {
      "cell_type": "code",
      "metadata": {
        "id": "WO07p6lUqo1j"
      },
      "source": [
        "data = {\n",
        "    'provincias': [\n",
        "        {\n",
        "            'nombre': provincia,\n",
        "            'max': 1,\n",
        "            'campos': 'id,nombre'\n",
        "        }\n",
        "        for provincia in provincias_normalizar\n",
        "    ]\n",
        "}"
      ],
      "execution_count": null,
      "outputs": []
    },
    {
      "cell_type": "code",
      "metadata": {
        "id": "XUgXb_5Xqo1j"
      },
      "source": [
        "resultado_provs = requests.post(\n",
        "    \"https://apis.datos.gob.ar/georef/api/provincias\",\n",
        "    json=data\n",
        ").json()"
      ],
      "execution_count": null,
      "outputs": []
    },
    {
      "cell_type": "code",
      "metadata": {
        "id": "rV_5Zigdqo1j",
        "outputId": "104a0187-3c29-44f3-aa74-61fff1d9f16b"
      },
      "source": [
        "resultado_provs['resultados'][:10]"
      ],
      "execution_count": null,
      "outputs": [
        {
          "output_type": "execute_result",
          "data": {
            "text/plain": [
              "[{'cantidad': 1,\n",
              "  'inicio': 0,\n",
              "  'parametros': {'campos': ['id', 'nombre'], 'max': 1, 'nombre': 'SALTA'},\n",
              "  'provincias': [{'id': '66', 'nombre': 'Salta'}],\n",
              "  'total': 1},\n",
              " {'cantidad': 1,\n",
              "  'inicio': 0,\n",
              "  'parametros': {'campos': ['id', 'nombre'], 'max': 1, 'nombre': 'SALTA'},\n",
              "  'provincias': [{'id': '66', 'nombre': 'Salta'}],\n",
              "  'total': 1},\n",
              " {'cantidad': 1,\n",
              "  'inicio': 0,\n",
              "  'parametros': {'campos': ['id', 'nombre'], 'max': 1, 'nombre': 'TUCUMÁN'},\n",
              "  'provincias': [{'id': '90', 'nombre': 'Tucumán'}],\n",
              "  'total': 1},\n",
              " {'cantidad': 1,\n",
              "  'inicio': 0,\n",
              "  'parametros': {'campos': ['id', 'nombre'], 'max': 1, 'nombre': 'TUCUMÁN'},\n",
              "  'provincias': [{'id': '90', 'nombre': 'Tucumán'}],\n",
              "  'total': 1},\n",
              " {'cantidad': 1,\n",
              "  'inicio': 0,\n",
              "  'parametros': {'campos': ['id', 'nombre'], 'max': 1, 'nombre': 'JUJUY'},\n",
              "  'provincias': [{'id': '38', 'nombre': 'Jujuy'}],\n",
              "  'total': 1},\n",
              " {'cantidad': 1,\n",
              "  'inicio': 0,\n",
              "  'parametros': {'campos': ['id', 'nombre'], 'max': 1, 'nombre': 'TUCUMÁN'},\n",
              "  'provincias': [{'id': '90', 'nombre': 'Tucumán'}],\n",
              "  'total': 1},\n",
              " {'cantidad': 1,\n",
              "  'inicio': 0,\n",
              "  'parametros': {'campos': ['id', 'nombre'], 'max': 1, 'nombre': 'TUCUMÁN'},\n",
              "  'provincias': [{'id': '90', 'nombre': 'Tucumán'}],\n",
              "  'total': 1},\n",
              " {'cantidad': 1,\n",
              "  'inicio': 0,\n",
              "  'parametros': {'campos': ['id', 'nombre'], 'max': 1, 'nombre': 'TUCUMÁN'},\n",
              "  'provincias': [{'id': '90', 'nombre': 'Tucumán'}],\n",
              "  'total': 1},\n",
              " {'cantidad': 1,\n",
              "  'inicio': 0,\n",
              "  'parametros': {'campos': ['id', 'nombre'], 'max': 1, 'nombre': 'JUJUY'},\n",
              "  'provincias': [{'id': '38', 'nombre': 'Jujuy'}],\n",
              "  'total': 1},\n",
              " {'cantidad': 1,\n",
              "  'inicio': 0,\n",
              "  'parametros': {'campos': ['id', 'nombre'], 'max': 1, 'nombre': 'SALTA'},\n",
              "  'provincias': [{'id': '66', 'nombre': 'Salta'}],\n",
              "  'total': 1}]"
            ]
          },
          "metadata": {
            "tags": []
          },
          "execution_count": 24
        }
      ]
    },
    {
      "cell_type": "code",
      "metadata": {
        "id": "NkogRF2Tqo1j"
      },
      "source": [
        "provincias_normalizadas = [\n",
        "    resultado['provincias'][0]\n",
        "    for resultado in resultado_provs['resultados']   \n",
        "]"
      ],
      "execution_count": null,
      "outputs": []
    },
    {
      "cell_type": "code",
      "metadata": {
        "id": "RT11c8XTqo1l",
        "outputId": "f915b921-6ed2-4022-a329-6de82779fb9a"
      },
      "source": [
        "provincias_normalizadas[:10]"
      ],
      "execution_count": null,
      "outputs": [
        {
          "output_type": "execute_result",
          "data": {
            "text/plain": [
              "[{'id': '66', 'nombre': 'Salta'},\n",
              " {'id': '66', 'nombre': 'Salta'},\n",
              " {'id': '90', 'nombre': 'Tucumán'},\n",
              " {'id': '90', 'nombre': 'Tucumán'},\n",
              " {'id': '38', 'nombre': 'Jujuy'},\n",
              " {'id': '90', 'nombre': 'Tucumán'},\n",
              " {'id': '90', 'nombre': 'Tucumán'},\n",
              " {'id': '90', 'nombre': 'Tucumán'},\n",
              " {'id': '38', 'nombre': 'Jujuy'},\n",
              " {'id': '66', 'nombre': 'Salta'}]"
            ]
          },
          "metadata": {
            "tags": []
          },
          "execution_count": 26
        }
      ]
    },
    {
      "cell_type": "code",
      "metadata": {
        "id": "urUz-27kqo1l"
      },
      "source": [
        "df_provincias_normalizadas = pd.DataFrame(provincias_normalizadas)"
      ],
      "execution_count": null,
      "outputs": []
    },
    {
      "cell_type": "code",
      "metadata": {
        "id": "YeBaVlcUqo1l",
        "outputId": "99574ffd-c3bb-407a-c9fd-6512c4783ba1"
      },
      "source": [
        "df_provincias_normalizadas"
      ],
      "execution_count": null,
      "outputs": [
        {
          "output_type": "execute_result",
          "data": {
            "text/html": [
              "<div>\n",
              "<style scoped>\n",
              "    .dataframe tbody tr th:only-of-type {\n",
              "        vertical-align: middle;\n",
              "    }\n",
              "\n",
              "    .dataframe tbody tr th {\n",
              "        vertical-align: top;\n",
              "    }\n",
              "\n",
              "    .dataframe thead th {\n",
              "        text-align: right;\n",
              "    }\n",
              "</style>\n",
              "<table border=\"1\" class=\"dataframe\">\n",
              "  <thead>\n",
              "    <tr style=\"text-align: right;\">\n",
              "      <th></th>\n",
              "      <th>id</th>\n",
              "      <th>nombre</th>\n",
              "    </tr>\n",
              "  </thead>\n",
              "  <tbody>\n",
              "    <tr>\n",
              "      <td>0</td>\n",
              "      <td>66</td>\n",
              "      <td>Salta</td>\n",
              "    </tr>\n",
              "    <tr>\n",
              "      <td>1</td>\n",
              "      <td>66</td>\n",
              "      <td>Salta</td>\n",
              "    </tr>\n",
              "    <tr>\n",
              "      <td>2</td>\n",
              "      <td>90</td>\n",
              "      <td>Tucumán</td>\n",
              "    </tr>\n",
              "    <tr>\n",
              "      <td>3</td>\n",
              "      <td>90</td>\n",
              "      <td>Tucumán</td>\n",
              "    </tr>\n",
              "    <tr>\n",
              "      <td>4</td>\n",
              "      <td>38</td>\n",
              "      <td>Jujuy</td>\n",
              "    </tr>\n",
              "    <tr>\n",
              "      <td>...</td>\n",
              "      <td>...</td>\n",
              "      <td>...</td>\n",
              "    </tr>\n",
              "    <tr>\n",
              "      <td>967</td>\n",
              "      <td>90</td>\n",
              "      <td>Tucumán</td>\n",
              "    </tr>\n",
              "    <tr>\n",
              "      <td>968</td>\n",
              "      <td>90</td>\n",
              "      <td>Tucumán</td>\n",
              "    </tr>\n",
              "    <tr>\n",
              "      <td>969</td>\n",
              "      <td>14</td>\n",
              "      <td>Córdoba</td>\n",
              "    </tr>\n",
              "    <tr>\n",
              "      <td>970</td>\n",
              "      <td>38</td>\n",
              "      <td>Jujuy</td>\n",
              "    </tr>\n",
              "    <tr>\n",
              "      <td>971</td>\n",
              "      <td>82</td>\n",
              "      <td>Santa Fe</td>\n",
              "    </tr>\n",
              "  </tbody>\n",
              "</table>\n",
              "<p>972 rows × 2 columns</p>\n",
              "</div>"
            ],
            "text/plain": [
              "     id    nombre\n",
              "0    66     Salta\n",
              "1    66     Salta\n",
              "2    90   Tucumán\n",
              "3    90   Tucumán\n",
              "4    38     Jujuy\n",
              "..   ..       ...\n",
              "967  90   Tucumán\n",
              "968  90   Tucumán\n",
              "969  14   Córdoba\n",
              "970  38     Jujuy\n",
              "971  82  Santa Fe\n",
              "\n",
              "[972 rows x 2 columns]"
            ]
          },
          "metadata": {
            "tags": []
          },
          "execution_count": 28
        }
      ]
    },
    {
      "cell_type": "code",
      "metadata": {
        "id": "oAkegB3Aqo1l"
      },
      "source": [
        "bioetanol['provincia_id'] = df_provincias_normalizadas['id']\n",
        "bioetanol['provincia_nombre'] = df_provincias_normalizadas['nombre']"
      ],
      "execution_count": null,
      "outputs": []
    },
    {
      "cell_type": "code",
      "metadata": {
        "id": "pjQJITsZqo1l"
      },
      "source": [
        "def normalizar_unidades_territoriales(entidades, entidades_tipo):\n",
        "    \n",
        "    # genera el JSON con la lista de consultas a realizar\n",
        "    data = {\n",
        "        entidades_tipo: [\n",
        "            {\n",
        "                'nombre': nombre,\n",
        "                'max': 1,\n",
        "                'campos': 'id,nombre'\n",
        "            }\n",
        "            for nombre in entidades\n",
        "        ]\n",
        "    }\n",
        "    \n",
        "    # realiza la consulta\n",
        "    resultados = requests.post(\n",
        "        f\"https://apis.datos.gob.ar/georef/api/{entidades_tipo}\",\n",
        "        json=data\n",
        "    ).json()\n",
        "    \n",
        "    # parsea la respuesta\n",
        "    entidades_normalizadas = [\n",
        "        resultado[entidades_tipo][0]\n",
        "        for resultado in resultados['resultados']   \n",
        "    ]\n",
        "    \n",
        "    return pd.DataFrame(entidades_normalizadas)"
      ],
      "execution_count": null,
      "outputs": []
    },
    {
      "cell_type": "markdown",
      "metadata": {
        "id": "fHox7G6iqo1m"
      },
      "source": [
        "**Ejercicio:** usá la función para normalizar las localidades del dataset. Qué te parece que puede estar mal en el resultado, en este caso?"
      ]
    },
    {
      "cell_type": "code",
      "metadata": {
        "id": "TR1mfjcBqo1m"
      },
      "source": [
        ""
      ],
      "execution_count": null,
      "outputs": []
    },
    {
      "cell_type": "markdown",
      "metadata": {
        "id": "eGt1WDHqqo1n"
      },
      "source": [
        "Tal vez necesitemos modificar un poco la función para este caso. Como no queremos pasar todo el tiempo con este tema, en el módulo `helpers.py` te dejamos ya armada una funcion para normalizar distintas entidades usando la API Georef."
      ]
    },
    {
      "cell_type": "code",
      "metadata": {
        "id": "Zntlel3Jqo1n"
      },
      "source": [
        "localidades_normalizadas = helpers.normalizar_unidades_territoriales(\n",
        "    bioetanol[['localidad', 'provincia']],\n",
        "    entidades_tipo='localidades',\n",
        "    nombre_campo='localidad',\n",
        "    provincia_campo='provincia',\n",
        ")"
      ],
      "execution_count": null,
      "outputs": []
    },
    {
      "cell_type": "code",
      "metadata": {
        "id": "VURf3IlBqo1n",
        "outputId": "8df64afc-8743-4ec8-9bb8-b334de4e3771"
      },
      "source": [
        "localidades_normalizadas"
      ],
      "execution_count": null,
      "outputs": [
        {
          "output_type": "execute_result",
          "data": {
            "text/html": [
              "<div>\n",
              "<style scoped>\n",
              "    .dataframe tbody tr th:only-of-type {\n",
              "        vertical-align: middle;\n",
              "    }\n",
              "\n",
              "    .dataframe tbody tr th {\n",
              "        vertical-align: top;\n",
              "    }\n",
              "\n",
              "    .dataframe thead th {\n",
              "        text-align: right;\n",
              "    }\n",
              "</style>\n",
              "<table border=\"1\" class=\"dataframe\">\n",
              "  <thead>\n",
              "    <tr style=\"text-align: right;\">\n",
              "      <th></th>\n",
              "      <th>id</th>\n",
              "      <th>nombre</th>\n",
              "      <th>provincia_id</th>\n",
              "      <th>provincia_nombre</th>\n",
              "    </tr>\n",
              "  </thead>\n",
              "  <tbody>\n",
              "    <tr>\n",
              "      <td>0</td>\n",
              "      <td>66126030000</td>\n",
              "      <td>EL TABACAL</td>\n",
              "      <td>66</td>\n",
              "      <td>Salta</td>\n",
              "    </tr>\n",
              "    <tr>\n",
              "      <td>1</td>\n",
              "      <td>66049010000</td>\n",
              "      <td>CAMPO SANTO</td>\n",
              "      <td>66</td>\n",
              "      <td>Salta</td>\n",
              "    </tr>\n",
              "    <tr>\n",
              "      <td>2</td>\n",
              "      <td>90021050000</td>\n",
              "      <td>CONCEPCION</td>\n",
              "      <td>90</td>\n",
              "      <td>Tucumán</td>\n",
              "    </tr>\n",
              "    <tr>\n",
              "      <td>3</td>\n",
              "      <td>None</td>\n",
              "      <td>None</td>\n",
              "      <td>None</td>\n",
              "      <td>None</td>\n",
              "    </tr>\n",
              "    <tr>\n",
              "      <td>4</td>\n",
              "      <td>38035080002</td>\n",
              "      <td>PUEBLO LEDESMA</td>\n",
              "      <td>38</td>\n",
              "      <td>Jujuy</td>\n",
              "    </tr>\n",
              "    <tr>\n",
              "      <td>...</td>\n",
              "      <td>...</td>\n",
              "      <td>...</td>\n",
              "      <td>...</td>\n",
              "      <td>...</td>\n",
              "    </tr>\n",
              "    <tr>\n",
              "      <td>967</td>\n",
              "      <td>90077010001</td>\n",
              "      <td>AGUILARES</td>\n",
              "      <td>90</td>\n",
              "      <td>Tucumán</td>\n",
              "    </tr>\n",
              "    <tr>\n",
              "      <td>968</td>\n",
              "      <td>90028030002</td>\n",
              "      <td>FAMAILLA</td>\n",
              "      <td>90</td>\n",
              "      <td>Tucumán</td>\n",
              "    </tr>\n",
              "    <tr>\n",
              "      <td>969</td>\n",
              "      <td>14056010000</td>\n",
              "      <td>ALEJANDRO ROCA</td>\n",
              "      <td>14</td>\n",
              "      <td>Córdoba</td>\n",
              "    </tr>\n",
              "    <tr>\n",
              "      <td>970</td>\n",
              "      <td>38063090000</td>\n",
              "      <td>LA MENDIETA</td>\n",
              "      <td>38</td>\n",
              "      <td>Jujuy</td>\n",
              "    </tr>\n",
              "    <tr>\n",
              "      <td>971</td>\n",
              "      <td>82049020000</td>\n",
              "      <td>AVELLANEDA</td>\n",
              "      <td>82</td>\n",
              "      <td>Santa Fe</td>\n",
              "    </tr>\n",
              "  </tbody>\n",
              "</table>\n",
              "<p>972 rows × 4 columns</p>\n",
              "</div>"
            ],
            "text/plain": [
              "              id          nombre provincia_id provincia_nombre\n",
              "0    66126030000      EL TABACAL           66            Salta\n",
              "1    66049010000     CAMPO SANTO           66            Salta\n",
              "2    90021050000      CONCEPCION           90          Tucumán\n",
              "3           None            None         None             None\n",
              "4    38035080002  PUEBLO LEDESMA           38            Jujuy\n",
              "..           ...             ...          ...              ...\n",
              "967  90077010001       AGUILARES           90          Tucumán\n",
              "968  90028030002        FAMAILLA           90          Tucumán\n",
              "969  14056010000  ALEJANDRO ROCA           14          Córdoba\n",
              "970  38063090000     LA MENDIETA           38            Jujuy\n",
              "971  82049020000      AVELLANEDA           82         Santa Fe\n",
              "\n",
              "[972 rows x 4 columns]"
            ]
          },
          "metadata": {
            "tags": []
          },
          "execution_count": 32
        }
      ]
    },
    {
      "cell_type": "code",
      "metadata": {
        "id": "P7FPaMcnqo1n"
      },
      "source": [
        "bioetanol['localidad_id'] = df_provincias_normalizadas['id']\n",
        "bioetanol['localidad_nombre'] = df_provincias_normalizadas['nombre']"
      ],
      "execution_count": null,
      "outputs": []
    },
    {
      "cell_type": "markdown",
      "metadata": {
        "id": "hqHyy2FVqo1o"
      },
      "source": [
        "### Georreferenciación "
      ]
    },
    {
      "cell_type": "markdown",
      "metadata": {
        "id": "b34wzR8-qo1o"
      },
      "source": [
        "En la API Georef, casi todos los recursos tienen una version GET (mas facil de usar, pero que permite hace pocas consultas) y una version POST (mas dificil de usar, pero que permite hacer mas consultas y mas eficientemente).\n",
        "\n",
        "En las proximas dos secciones te vamos a presentar otras funcionalidades de la API Georef con el metodo GET correspondiente, y luego te ofreceremos una funcion ya escrita para hacer consultas masivas."
      ]
    },
    {
      "cell_type": "markdown",
      "metadata": {
        "id": "AGG2dQGXqo1p"
      },
      "source": [
        "La funcion de **georreferenciacion** permite normalizar y descomponer una direccion de Argentina en partes, asi como obtener sus coordenadas."
      ]
    },
    {
      "cell_type": "code",
      "metadata": {
        "id": "jIl-6yxbqo1p",
        "outputId": "b5aa1079-e8c0-47c7-c1ca-ac4276f1ea0d"
      },
      "source": [
        "requests.get(\n",
        "    'https://apis.datos.gob.ar/georef/api/direcciones?direccion=balcarce 50&provincia=02'\n",
        ").json()"
      ],
      "execution_count": null,
      "outputs": [
        {
          "output_type": "execute_result",
          "data": {
            "text/plain": [
              "{'cantidad': 2,\n",
              " 'direcciones': [{'altura': {'unidad': None, 'valor': 50},\n",
              "   'calle': {'categoria': 'CALLE',\n",
              "    'id': '0200701001910',\n",
              "    'nombre': 'BALCARCE'},\n",
              "   'calle_cruce_1': {'categoria': None, 'id': None, 'nombre': None},\n",
              "   'calle_cruce_2': {'categoria': None, 'id': None, 'nombre': None},\n",
              "   'departamento': {'id': '02007', 'nombre': 'Comuna 1'},\n",
              "   'localidad_censal': {'id': '02000010',\n",
              "    'nombre': 'Ciudad Autónoma de Buenos Aires'},\n",
              "   'nomenclatura': 'BALCARCE 50, Comuna 1, Ciudad Autónoma de Buenos Aires',\n",
              "   'piso': None,\n",
              "   'provincia': {'id': '02', 'nombre': 'Ciudad Autónoma de Buenos Aires'},\n",
              "   'ubicacion': {'lat': -34.6083411208197, 'lon': -58.37088525365451}},\n",
              "  {'altura': {'unidad': None, 'valor': 50},\n",
              "   'calle': {'categoria': 'CALLE',\n",
              "    'id': '0204201005515',\n",
              "    'nombre': 'FLORENCIO BALCARCE'},\n",
              "   'calle_cruce_1': {'categoria': None, 'id': None, 'nombre': None},\n",
              "   'calle_cruce_2': {'categoria': None, 'id': None, 'nombre': None},\n",
              "   'departamento': {'id': '02042', 'nombre': 'Comuna 6'},\n",
              "   'localidad_censal': {'id': '02000010',\n",
              "    'nombre': 'Ciudad Autónoma de Buenos Aires'},\n",
              "   'nomenclatura': 'FLORENCIO BALCARCE 50, Comuna 6, Ciudad Autónoma de Buenos Aires',\n",
              "   'piso': None,\n",
              "   'provincia': {'id': '02', 'nombre': 'Ciudad Autónoma de Buenos Aires'},\n",
              "   'ubicacion': {'lat': -34.61697599223095, 'lon': -58.4350969802731}}],\n",
              " 'inicio': 0,\n",
              " 'parametros': {'direccion': {'altura': {'unidad': None, 'valor': '50'},\n",
              "   'calles': ['balcarce'],\n",
              "   'piso': None,\n",
              "   'tipo': 'simple'},\n",
              "  'provincia': ['02']},\n",
              " 'total': 2}"
            ]
          },
          "metadata": {
            "tags": []
          },
          "execution_count": 34
        }
      ]
    },
    {
      "cell_type": "markdown",
      "metadata": {
        "id": "2n98W9SAqo1q"
      },
      "source": [
        "No es obligatorio especificar una provincia, pero esto mejora mucho la precision del resultado. Tambien se puede especificar departamento u otros tipos de filtros. La API reconoce esquinas y diversas modalidades de especificar una direccion."
      ]
    },
    {
      "cell_type": "code",
      "metadata": {
        "id": "0gCUsyhoqo1q",
        "outputId": "c15dfac1-58db-4c03-ba9a-1683568963fa"
      },
      "source": [
        "requests.get(\n",
        "    'https://apis.datos.gob.ar/georef/api/direcciones?direccion=santa fe y pueyrredon&provincia=02'\n",
        ").json()"
      ],
      "execution_count": null,
      "outputs": [
        {
          "output_type": "execute_result",
          "data": {
            "text/plain": [
              "{'cantidad': 1,\n",
              " 'direcciones': [{'altura': {'unidad': None, 'valor': None},\n",
              "   'calle': {'categoria': 'AV',\n",
              "    'id': '0201401001740',\n",
              "    'nombre': 'AV SANTA FE'},\n",
              "   'calle_cruce_1': {'categoria': 'AV',\n",
              "    'id': '0201401001675',\n",
              "    'nombre': 'AV PUEYRREDON'},\n",
              "   'calle_cruce_2': {'categoria': None, 'id': None, 'nombre': None},\n",
              "   'departamento': {'id': '02014', 'nombre': 'Comuna 2'},\n",
              "   'localidad_censal': {'id': '02000010',\n",
              "    'nombre': 'Ciudad Autónoma de Buenos Aires'},\n",
              "   'nomenclatura': 'AV SANTA FE (ESQUINA AV PUEYRREDON), Comuna 2, Ciudad Autónoma de Buenos Aires',\n",
              "   'piso': None,\n",
              "   'provincia': {'id': '02', 'nombre': 'Ciudad Autónoma de Buenos Aires'},\n",
              "   'ubicacion': {'lat': -34.5944399212952, 'lon': -58.4023531671055}}],\n",
              " 'inicio': 0,\n",
              " 'parametros': {'direccion': {'altura': {'unidad': None, 'valor': None},\n",
              "   'calles': ['santa fe', 'pueyrredon'],\n",
              "   'piso': None,\n",
              "   'tipo': 'interseccion'},\n",
              "  'provincia': ['02']},\n",
              " 'total': 1}"
            ]
          },
          "metadata": {
            "tags": []
          },
          "execution_count": 35
        }
      ]
    },
    {
      "cell_type": "code",
      "metadata": {
        "id": "9IugpdO-qo1q",
        "outputId": "101fa706-132b-4b56-b08e-b35cddaf1f55"
      },
      "source": [
        "requests.get(\n",
        "    'https://apis.datos.gob.ar/georef/api/direcciones?direccion=santa fe (esq pueyrredon)&provincia=02'\n",
        ").json()"
      ],
      "execution_count": null,
      "outputs": [
        {
          "output_type": "execute_result",
          "data": {
            "text/plain": [
              "{'cantidad': 1,\n",
              " 'direcciones': [{'altura': {'unidad': None, 'valor': None},\n",
              "   'calle': {'categoria': 'AV',\n",
              "    'id': '0201401001740',\n",
              "    'nombre': 'AV SANTA FE'},\n",
              "   'calle_cruce_1': {'categoria': 'AV',\n",
              "    'id': '0201401001675',\n",
              "    'nombre': 'AV PUEYRREDON'},\n",
              "   'calle_cruce_2': {'categoria': None, 'id': None, 'nombre': None},\n",
              "   'departamento': {'id': '02014', 'nombre': 'Comuna 2'},\n",
              "   'localidad_censal': {'id': '02000010',\n",
              "    'nombre': 'Ciudad Autónoma de Buenos Aires'},\n",
              "   'nomenclatura': 'AV SANTA FE (ESQUINA AV PUEYRREDON), Comuna 2, Ciudad Autónoma de Buenos Aires',\n",
              "   'piso': None,\n",
              "   'provincia': {'id': '02', 'nombre': 'Ciudad Autónoma de Buenos Aires'},\n",
              "   'ubicacion': {'lat': -34.5944399212952, 'lon': -58.4023531671055}}],\n",
              " 'inicio': 0,\n",
              " 'parametros': {'direccion': {'altura': {'unidad': None, 'valor': None},\n",
              "   'calles': ['santa fe', 'pueyrredon'],\n",
              "   'piso': None,\n",
              "   'tipo': 'interseccion'},\n",
              "  'provincia': ['02']},\n",
              " 'total': 1}"
            ]
          },
          "metadata": {
            "tags": []
          },
          "execution_count": 36
        }
      ]
    },
    {
      "cell_type": "markdown",
      "metadata": {
        "id": "EHbSeV6_qo1r"
      },
      "source": [
        "**Ejercicio**: Genera un dataframe con direcciones para georreferenciar, que se pueda usar en la funcion de abajo. "
      ]
    },
    {
      "cell_type": "code",
      "metadata": {
        "id": "hq0uyaPrqo1r"
      },
      "source": [
        "# completa con direcciones y la provincia a la que pertenecen\n",
        "direcciones = pd.DataFrame([\n",
        "    {'direccion': 'balcarce 50', 'provincia': '02'},\n",
        "    {'direccion': 'balcarce 50', 'provincia': '02'},\n",
        "    {'direccion': 'balcarce 50', 'provincia': '02'},\n",
        "    {'direccion': 'balcarce 50', 'provincia': '02'},\n",
        "    {'direccion': 'balcarce 50', 'provincia': '02'},\n",
        "])"
      ],
      "execution_count": null,
      "outputs": []
    },
    {
      "cell_type": "code",
      "metadata": {
        "id": "63Z5U7Neqo1r",
        "outputId": "dc2e7bfd-bdf1-431c-80f9-5d77699424c7"
      },
      "source": [
        "direcciones_georreferenciadas = helpers.georreferenciar_direcciones(\n",
        "    direcciones[['direccion', 'provincia']],\n",
        "    nombre_campo='direccion',\n",
        "    provincia_campo='provincia',\n",
        ")\n",
        "direcciones_georreferenciadas"
      ],
      "execution_count": null,
      "outputs": [
        {
          "output_type": "execute_result",
          "data": {
            "text/html": [
              "<div>\n",
              "<style scoped>\n",
              "    .dataframe tbody tr th:only-of-type {\n",
              "        vertical-align: middle;\n",
              "    }\n",
              "\n",
              "    .dataframe tbody tr th {\n",
              "        vertical-align: top;\n",
              "    }\n",
              "\n",
              "    .dataframe thead th {\n",
              "        text-align: right;\n",
              "    }\n",
              "</style>\n",
              "<table border=\"1\" class=\"dataframe\">\n",
              "  <thead>\n",
              "    <tr style=\"text-align: right;\">\n",
              "      <th></th>\n",
              "      <th>direccion_normalizada</th>\n",
              "      <th>latitud</th>\n",
              "      <th>longitud</th>\n",
              "      <th>provincia_id</th>\n",
              "      <th>provincia_nombre</th>\n",
              "    </tr>\n",
              "  </thead>\n",
              "  <tbody>\n",
              "    <tr>\n",
              "      <td>0</td>\n",
              "      <td>BALCARCE 50, Comuna 1, Ciudad Autónoma de Buen...</td>\n",
              "      <td>-34.608341</td>\n",
              "      <td>-58.370885</td>\n",
              "      <td>02</td>\n",
              "      <td>Ciudad Autónoma de Buenos Aires</td>\n",
              "    </tr>\n",
              "    <tr>\n",
              "      <td>1</td>\n",
              "      <td>BALCARCE 50, Comuna 1, Ciudad Autónoma de Buen...</td>\n",
              "      <td>-34.608341</td>\n",
              "      <td>-58.370885</td>\n",
              "      <td>02</td>\n",
              "      <td>Ciudad Autónoma de Buenos Aires</td>\n",
              "    </tr>\n",
              "    <tr>\n",
              "      <td>2</td>\n",
              "      <td>BALCARCE 50, Comuna 1, Ciudad Autónoma de Buen...</td>\n",
              "      <td>-34.608341</td>\n",
              "      <td>-58.370885</td>\n",
              "      <td>02</td>\n",
              "      <td>Ciudad Autónoma de Buenos Aires</td>\n",
              "    </tr>\n",
              "    <tr>\n",
              "      <td>3</td>\n",
              "      <td>BALCARCE 50, Comuna 1, Ciudad Autónoma de Buen...</td>\n",
              "      <td>-34.608341</td>\n",
              "      <td>-58.370885</td>\n",
              "      <td>02</td>\n",
              "      <td>Ciudad Autónoma de Buenos Aires</td>\n",
              "    </tr>\n",
              "    <tr>\n",
              "      <td>4</td>\n",
              "      <td>BALCARCE 50, Comuna 1, Ciudad Autónoma de Buen...</td>\n",
              "      <td>-34.608341</td>\n",
              "      <td>-58.370885</td>\n",
              "      <td>02</td>\n",
              "      <td>Ciudad Autónoma de Buenos Aires</td>\n",
              "    </tr>\n",
              "  </tbody>\n",
              "</table>\n",
              "</div>"
            ],
            "text/plain": [
              "                               direccion_normalizada    latitud   longitud  \\\n",
              "0  BALCARCE 50, Comuna 1, Ciudad Autónoma de Buen... -34.608341 -58.370885   \n",
              "1  BALCARCE 50, Comuna 1, Ciudad Autónoma de Buen... -34.608341 -58.370885   \n",
              "2  BALCARCE 50, Comuna 1, Ciudad Autónoma de Buen... -34.608341 -58.370885   \n",
              "3  BALCARCE 50, Comuna 1, Ciudad Autónoma de Buen... -34.608341 -58.370885   \n",
              "4  BALCARCE 50, Comuna 1, Ciudad Autónoma de Buen... -34.608341 -58.370885   \n",
              "\n",
              "  provincia_id                 provincia_nombre  \n",
              "0           02  Ciudad Autónoma de Buenos Aires  \n",
              "1           02  Ciudad Autónoma de Buenos Aires  \n",
              "2           02  Ciudad Autónoma de Buenos Aires  \n",
              "3           02  Ciudad Autónoma de Buenos Aires  \n",
              "4           02  Ciudad Autónoma de Buenos Aires  "
            ]
          },
          "metadata": {
            "tags": []
          },
          "execution_count": 38
        }
      ]
    },
    {
      "cell_type": "markdown",
      "metadata": {
        "id": "9Lk1Om4nqo1r"
      },
      "source": [
        "### Georreferenciación inversa "
      ]
    },
    {
      "cell_type": "markdown",
      "metadata": {
        "id": "YpkWqrKIqo1s"
      },
      "source": [
        "La funcionalidad de **georreferenciacion inversa** toma un punto de coordenadas y devuelve aquellas unidades territoriales que lo contienen.\n",
        "\n",
        "No es esctrictamente una funcion georreferenciacion inversa en realidad, ya que no devuelve una aproximacion de la direccion a la que pertenece ese punto de coordenadas, solo devuelve las unidades territoriales que contienen al punto.\n",
        "\n",
        "Esta funcion es muy util cuando ya se tiene un dataset con coordenadas, pero queremos tener tambien las columnas de provincias, departamentos y municipios."
      ]
    },
    {
      "cell_type": "code",
      "metadata": {
        "id": "L-e0-EXeqo1s",
        "outputId": "e93daa7a-e0b8-4d37-ba05-1e981bc912ce"
      },
      "source": [
        "requests.get(\n",
        "    'https://apis.datos.gob.ar/georef/api/ubicacion?lat=-34.6037389&lon=-58.3815704'\n",
        ").json()"
      ],
      "execution_count": null,
      "outputs": [
        {
          "output_type": "execute_result",
          "data": {
            "text/plain": [
              "{'parametros': {'lat': -34.6037389, 'lon': -58.3815704},\n",
              " 'ubicacion': {'departamento': {'id': '02007', 'nombre': 'Comuna 1'},\n",
              "  'lat': -34.6037389,\n",
              "  'lon': -58.3815704,\n",
              "  'municipio': {'id': None, 'nombre': None},\n",
              "  'provincia': {'id': '02', 'nombre': 'Ciudad Autónoma de Buenos Aires'}}}"
            ]
          },
          "metadata": {
            "tags": []
          },
          "execution_count": 39
        }
      ]
    },
    {
      "cell_type": "code",
      "metadata": {
        "id": "llO3WWoyqo1s",
        "outputId": "10b7d21d-6343-40bc-cd3a-6540bf10de61"
      },
      "source": [
        "requests.get(\n",
        "    'https://apis.datos.gob.ar/georef/api/ubicacion?lat=-32.9477132&lon=-60.6304658'\n",
        ").json()"
      ],
      "execution_count": null,
      "outputs": [
        {
          "output_type": "execute_result",
          "data": {
            "text/plain": [
              "{'parametros': {'lat': -32.9477132, 'lon': -60.6304658},\n",
              " 'ubicacion': {'departamento': {'id': '82084', 'nombre': 'Rosario'},\n",
              "  'lat': -32.9477132,\n",
              "  'lon': -60.6304658,\n",
              "  'municipio': {'id': None, 'nombre': None},\n",
              "  'provincia': {'id': '82', 'nombre': 'Santa Fe'}}}"
            ]
          },
          "metadata": {
            "tags": []
          },
          "execution_count": 40
        }
      ]
    },
    {
      "cell_type": "code",
      "metadata": {
        "id": "99xEleb1qo1s",
        "outputId": "49bccef7-bc4e-4132-bfca-85a986d2770c"
      },
      "source": [
        "requests.get(\n",
        "    'https://apis.datos.gob.ar/georef/api/ubicacion?lat=-38.0048387&lon=-57.5483175'\n",
        ").json()"
      ],
      "execution_count": null,
      "outputs": [
        {
          "output_type": "execute_result",
          "data": {
            "text/plain": [
              "{'parametros': {'lat': -38.0048387, 'lon': -57.5483175},\n",
              " 'ubicacion': {'departamento': {'id': '06357', 'nombre': 'General Pueyrredón'},\n",
              "  'lat': -38.0048387,\n",
              "  'lon': -57.5483175,\n",
              "  'municipio': {'id': '060357', 'nombre': 'General Pueyrredón'},\n",
              "  'provincia': {'id': '06', 'nombre': 'Buenos Aires'}}}"
            ]
          },
          "metadata": {
            "tags": []
          },
          "execution_count": 41
        }
      ]
    },
    {
      "cell_type": "markdown",
      "metadata": {
        "id": "tzhGatfdqo1t"
      },
      "source": [
        "Por ejemplo, si tenemos las coordenadas de todos los aeropuertos del pais, podemos agregarle facilmente los codigos y nombres oficiales de las provincias, departamentos y municipios que los contienen."
      ]
    },
    {
      "cell_type": "code",
      "metadata": {
        "id": "87cTZre5qo1t"
      },
      "source": [
        "aeropuertos = pd.read_csv(\n",
        "    'https://servicios.transporte.gob.ar/gobierno_abierto/descargar.php?t=aeropuertos&d=detalle',\n",
        "    sep=';'\n",
        ")"
      ],
      "execution_count": null,
      "outputs": []
    },
    {
      "cell_type": "code",
      "metadata": {
        "id": "eaUSOHTNqo1t",
        "outputId": "1561d2ad-03d0-4d76-9329-ac9517a8ffb4"
      },
      "source": [
        "aeropuertos"
      ],
      "execution_count": null,
      "outputs": [
        {
          "output_type": "execute_result",
          "data": {
            "text/html": [
              "<div>\n",
              "<style scoped>\n",
              "    .dataframe tbody tr th:only-of-type {\n",
              "        vertical-align: middle;\n",
              "    }\n",
              "\n",
              "    .dataframe tbody tr th {\n",
              "        vertical-align: top;\n",
              "    }\n",
              "\n",
              "    .dataframe thead th {\n",
              "        text-align: right;\n",
              "    }\n",
              "</style>\n",
              "<table border=\"1\" class=\"dataframe\">\n",
              "  <thead>\n",
              "    <tr style=\"text-align: right;\">\n",
              "      <th></th>\n",
              "      <th>local</th>\n",
              "      <th>oaci</th>\n",
              "      <th>iata</th>\n",
              "      <th>tipo</th>\n",
              "      <th>denominacion</th>\n",
              "      <th>coordenadas</th>\n",
              "      <th>latitud</th>\n",
              "      <th>longitud</th>\n",
              "      <th>elev</th>\n",
              "      <th>uom_elev</th>\n",
              "      <th>...</th>\n",
              "      <th>condicion</th>\n",
              "      <th>control</th>\n",
              "      <th>region</th>\n",
              "      <th>fir</th>\n",
              "      <th>uso</th>\n",
              "      <th>trafico</th>\n",
              "      <th>sna</th>\n",
              "      <th>concesionado</th>\n",
              "      <th>provincia</th>\n",
              "      <th>inhab</th>\n",
              "    </tr>\n",
              "  </thead>\n",
              "  <tbody>\n",
              "    <tr>\n",
              "      <td>0</td>\n",
              "      <td>ACB</td>\n",
              "      <td>NaN</td>\n",
              "      <td>NaN</td>\n",
              "      <td>Aeródromo</td>\n",
              "      <td>CORONEL BOGADO/AGROSERVICIOS</td>\n",
              "      <td>33°16'20\"S  60°34'14\"W</td>\n",
              "      <td>-60.570660</td>\n",
              "      <td>-33.272260</td>\n",
              "      <td>44.0</td>\n",
              "      <td>Metros</td>\n",
              "      <td>...</td>\n",
              "      <td>PRIVADO</td>\n",
              "      <td>NOCONTROL</td>\n",
              "      <td>RACE</td>\n",
              "      <td>SAEF</td>\n",
              "      <td>AEROAPP</td>\n",
              "      <td>Nacional</td>\n",
              "      <td>NO</td>\n",
              "      <td>NO</td>\n",
              "      <td>SANTA FÉ</td>\n",
              "      <td>NO</td>\n",
              "    </tr>\n",
              "    <tr>\n",
              "      <td>1</td>\n",
              "      <td>ACH</td>\n",
              "      <td>NaN</td>\n",
              "      <td>NaN</td>\n",
              "      <td>Aeródromo</td>\n",
              "      <td>GENERAL ACHA</td>\n",
              "      <td>37°24' 6\"S  64°36'49\"W</td>\n",
              "      <td>-64.613510</td>\n",
              "      <td>-37.401640</td>\n",
              "      <td>277.0</td>\n",
              "      <td>Metros</td>\n",
              "      <td>...</td>\n",
              "      <td>PUBLICO</td>\n",
              "      <td>NOCONTROL</td>\n",
              "      <td>RACE</td>\n",
              "      <td>SAEF</td>\n",
              "      <td>CIVIL</td>\n",
              "      <td>Nacional</td>\n",
              "      <td>NO</td>\n",
              "      <td>NO</td>\n",
              "      <td>LA PAMPA</td>\n",
              "      <td>NO</td>\n",
              "    </tr>\n",
              "    <tr>\n",
              "      <td>2</td>\n",
              "      <td>ACM</td>\n",
              "      <td>NaN</td>\n",
              "      <td>NaN</td>\n",
              "      <td>Aeródromo</td>\n",
              "      <td>ARRECIFES/LA CURA MALAL</td>\n",
              "      <td>34° 4'33\"S  60° 8'30\"W</td>\n",
              "      <td>-60.141700</td>\n",
              "      <td>-34.075740</td>\n",
              "      <td>37.0</td>\n",
              "      <td>Metros</td>\n",
              "      <td>...</td>\n",
              "      <td>PRIVADO</td>\n",
              "      <td>NOCONTROL</td>\n",
              "      <td>RACE</td>\n",
              "      <td>SAEF</td>\n",
              "      <td>CIVIL</td>\n",
              "      <td>Nacional</td>\n",
              "      <td>NO</td>\n",
              "      <td>NO</td>\n",
              "      <td>BUENOS AIRES</td>\n",
              "      <td>NO</td>\n",
              "    </tr>\n",
              "    <tr>\n",
              "      <td>3</td>\n",
              "      <td>ADO</td>\n",
              "      <td>SAWD</td>\n",
              "      <td>PUD</td>\n",
              "      <td>Aeródromo</td>\n",
              "      <td>PUERTO DESEADO</td>\n",
              "      <td>47°44' 6\"S  65°54'15\"W</td>\n",
              "      <td>-65.904100</td>\n",
              "      <td>-47.735110</td>\n",
              "      <td>82.0</td>\n",
              "      <td>Metros</td>\n",
              "      <td>...</td>\n",
              "      <td>PUBLICO</td>\n",
              "      <td>AERADIO</td>\n",
              "      <td>RASU</td>\n",
              "      <td>SAVF</td>\n",
              "      <td>CIVIL</td>\n",
              "      <td>Nacional</td>\n",
              "      <td>NO</td>\n",
              "      <td>NO</td>\n",
              "      <td>SANTA CRUZ</td>\n",
              "      <td>NO</td>\n",
              "    </tr>\n",
              "    <tr>\n",
              "      <td>4</td>\n",
              "      <td>ADT</td>\n",
              "      <td>NaN</td>\n",
              "      <td>NaN</td>\n",
              "      <td>Aeródromo</td>\n",
              "      <td>BANDERA/AGROSERVICIOS DOÑA TERESA</td>\n",
              "      <td>28°51'19\"S  62°15'53\"W</td>\n",
              "      <td>-62.264620</td>\n",
              "      <td>-28.855410</td>\n",
              "      <td>75.0</td>\n",
              "      <td>Metros</td>\n",
              "      <td>...</td>\n",
              "      <td>PRIVADO</td>\n",
              "      <td>NOCONTROL</td>\n",
              "      <td>RANO</td>\n",
              "      <td>SACF</td>\n",
              "      <td>AEROAPP</td>\n",
              "      <td>Nacional</td>\n",
              "      <td>NO</td>\n",
              "      <td>NO</td>\n",
              "      <td>SANTIAGO DEL ESTERO</td>\n",
              "      <td>NO</td>\n",
              "    </tr>\n",
              "    <tr>\n",
              "      <td>...</td>\n",
              "      <td>...</td>\n",
              "      <td>...</td>\n",
              "      <td>...</td>\n",
              "      <td>...</td>\n",
              "      <td>...</td>\n",
              "      <td>...</td>\n",
              "      <td>...</td>\n",
              "      <td>...</td>\n",
              "      <td>...</td>\n",
              "      <td>...</td>\n",
              "      <td>...</td>\n",
              "      <td>...</td>\n",
              "      <td>...</td>\n",
              "      <td>...</td>\n",
              "      <td>...</td>\n",
              "      <td>...</td>\n",
              "      <td>...</td>\n",
              "      <td>...</td>\n",
              "      <td>...</td>\n",
              "      <td>...</td>\n",
              "      <td>...</td>\n",
              "    </tr>\n",
              "    <tr>\n",
              "      <td>688</td>\n",
              "      <td>YOS</td>\n",
              "      <td>SAZH</td>\n",
              "      <td>OYO</td>\n",
              "      <td>Aeródromo</td>\n",
              "      <td>TRES ARROYOS</td>\n",
              "      <td>38°23' 8\"S  60°19'39\"W</td>\n",
              "      <td>-60.327500</td>\n",
              "      <td>-38.385556</td>\n",
              "      <td>122.0</td>\n",
              "      <td>Metros</td>\n",
              "      <td>...</td>\n",
              "      <td>PUBLICO</td>\n",
              "      <td>NOCONTROL</td>\n",
              "      <td>RACE</td>\n",
              "      <td>SAEF</td>\n",
              "      <td>NaN</td>\n",
              "      <td>Nacional</td>\n",
              "      <td>NO</td>\n",
              "      <td>NO</td>\n",
              "      <td>BUENOS AIRES</td>\n",
              "      <td>NO</td>\n",
              "    </tr>\n",
              "    <tr>\n",
              "      <td>689</td>\n",
              "      <td>YPY</td>\n",
              "      <td>NaN</td>\n",
              "      <td>NaN</td>\n",
              "      <td>Aeródromo</td>\n",
              "      <td>YAPEYÚ</td>\n",
              "      <td>29°21'32\"S  56°47'45\"W</td>\n",
              "      <td>-56.795730</td>\n",
              "      <td>-29.358770</td>\n",
              "      <td>53.0</td>\n",
              "      <td>Metros</td>\n",
              "      <td>...</td>\n",
              "      <td>PRIVADO</td>\n",
              "      <td>NOCONTROL</td>\n",
              "      <td>RANE</td>\n",
              "      <td>SARR</td>\n",
              "      <td>NaN</td>\n",
              "      <td>Nacional</td>\n",
              "      <td>NO</td>\n",
              "      <td>NO</td>\n",
              "      <td>CORRIENTES</td>\n",
              "      <td>NO</td>\n",
              "    </tr>\n",
              "    <tr>\n",
              "      <td>690</td>\n",
              "      <td>ZAP</td>\n",
              "      <td>SAHZ</td>\n",
              "      <td>APZ</td>\n",
              "      <td>Aeródromo</td>\n",
              "      <td>ZAPALA</td>\n",
              "      <td>38°58'33\"S  70° 6'48\"W</td>\n",
              "      <td>-70.113464</td>\n",
              "      <td>-38.975886</td>\n",
              "      <td>1048.0</td>\n",
              "      <td>Metros</td>\n",
              "      <td>...</td>\n",
              "      <td>PUBLICO</td>\n",
              "      <td>NOCONTROL</td>\n",
              "      <td>RACE</td>\n",
              "      <td>SAEF</td>\n",
              "      <td>NaN</td>\n",
              "      <td>Nacional</td>\n",
              "      <td>NO</td>\n",
              "      <td>NO</td>\n",
              "      <td>NEUQUÉN</td>\n",
              "      <td>NO</td>\n",
              "    </tr>\n",
              "    <tr>\n",
              "      <td>691</td>\n",
              "      <td>ZLM</td>\n",
              "      <td>NaN</td>\n",
              "      <td>NaN</td>\n",
              "      <td>Aeródromo</td>\n",
              "      <td>BELL VILLE/LA ZULEMA</td>\n",
              "      <td>32°29'23\"S  62°40'17\"W</td>\n",
              "      <td>-62.671389</td>\n",
              "      <td>-32.489722</td>\n",
              "      <td>129.0</td>\n",
              "      <td>Metros</td>\n",
              "      <td>...</td>\n",
              "      <td>PRIVADO</td>\n",
              "      <td>NOCONTROL</td>\n",
              "      <td>RANO</td>\n",
              "      <td>SACF</td>\n",
              "      <td>AEROAPP</td>\n",
              "      <td>Nacional</td>\n",
              "      <td>NO</td>\n",
              "      <td>NO</td>\n",
              "      <td>CÓRDOBA</td>\n",
              "      <td>NO</td>\n",
              "    </tr>\n",
              "    <tr>\n",
              "      <td>692</td>\n",
              "      <td>ZUL</td>\n",
              "      <td>SAZA</td>\n",
              "      <td>NaN</td>\n",
              "      <td>Aeródromo</td>\n",
              "      <td>AZUL</td>\n",
              "      <td>36°50'12\"S  59°52'51\"W</td>\n",
              "      <td>-59.880800</td>\n",
              "      <td>-36.836750</td>\n",
              "      <td>146.0</td>\n",
              "      <td>Metros</td>\n",
              "      <td>...</td>\n",
              "      <td>PUBLICO</td>\n",
              "      <td>NOCONTROL</td>\n",
              "      <td>RACE</td>\n",
              "      <td>SAEF</td>\n",
              "      <td>CIVIL</td>\n",
              "      <td>Nacional</td>\n",
              "      <td>NO</td>\n",
              "      <td>NO</td>\n",
              "      <td>BUENOS AIRES</td>\n",
              "      <td>NO</td>\n",
              "    </tr>\n",
              "  </tbody>\n",
              "</table>\n",
              "<p>693 rows × 23 columns</p>\n",
              "</div>"
            ],
            "text/plain": [
              "    local  oaci iata       tipo                       denominacion  \\\n",
              "0     ACB   NaN  NaN  Aeródromo       CORONEL BOGADO/AGROSERVICIOS   \n",
              "1     ACH   NaN  NaN  Aeródromo                       GENERAL ACHA   \n",
              "2     ACM   NaN  NaN  Aeródromo            ARRECIFES/LA CURA MALAL   \n",
              "3     ADO  SAWD  PUD  Aeródromo                     PUERTO DESEADO   \n",
              "4     ADT   NaN  NaN  Aeródromo  BANDERA/AGROSERVICIOS DOÑA TERESA   \n",
              "..    ...   ...  ...        ...                                ...   \n",
              "688   YOS  SAZH  OYO  Aeródromo                       TRES ARROYOS   \n",
              "689   YPY   NaN  NaN  Aeródromo                             YAPEYÚ   \n",
              "690   ZAP  SAHZ  APZ  Aeródromo                             ZAPALA   \n",
              "691   ZLM   NaN  NaN  Aeródromo               BELL VILLE/LA ZULEMA   \n",
              "692   ZUL  SAZA  NaN  Aeródromo                               AZUL   \n",
              "\n",
              "                coordenadas    latitud   longitud    elev uom_elev  ...  \\\n",
              "0    33°16'20\"S  60°34'14\"W -60.570660 -33.272260    44.0   Metros  ...   \n",
              "1    37°24' 6\"S  64°36'49\"W -64.613510 -37.401640   277.0   Metros  ...   \n",
              "2    34° 4'33\"S  60° 8'30\"W -60.141700 -34.075740    37.0   Metros  ...   \n",
              "3    47°44' 6\"S  65°54'15\"W -65.904100 -47.735110    82.0   Metros  ...   \n",
              "4    28°51'19\"S  62°15'53\"W -62.264620 -28.855410    75.0   Metros  ...   \n",
              "..                      ...        ...        ...     ...      ...  ...   \n",
              "688  38°23' 8\"S  60°19'39\"W -60.327500 -38.385556   122.0   Metros  ...   \n",
              "689  29°21'32\"S  56°47'45\"W -56.795730 -29.358770    53.0   Metros  ...   \n",
              "690  38°58'33\"S  70° 6'48\"W -70.113464 -38.975886  1048.0   Metros  ...   \n",
              "691  32°29'23\"S  62°40'17\"W -62.671389 -32.489722   129.0   Metros  ...   \n",
              "692  36°50'12\"S  59°52'51\"W -59.880800 -36.836750   146.0   Metros  ...   \n",
              "\n",
              "    condicion    control region   fir      uso   trafico sna concesionado  \\\n",
              "0     PRIVADO  NOCONTROL   RACE  SAEF  AEROAPP  Nacional  NO           NO   \n",
              "1     PUBLICO  NOCONTROL   RACE  SAEF    CIVIL  Nacional  NO           NO   \n",
              "2     PRIVADO  NOCONTROL   RACE  SAEF    CIVIL  Nacional  NO           NO   \n",
              "3     PUBLICO    AERADIO   RASU  SAVF    CIVIL  Nacional  NO           NO   \n",
              "4     PRIVADO  NOCONTROL   RANO  SACF  AEROAPP  Nacional  NO           NO   \n",
              "..        ...        ...    ...   ...      ...       ...  ..          ...   \n",
              "688   PUBLICO  NOCONTROL   RACE  SAEF      NaN  Nacional  NO           NO   \n",
              "689   PRIVADO  NOCONTROL   RANE  SARR      NaN  Nacional  NO           NO   \n",
              "690   PUBLICO  NOCONTROL   RACE  SAEF      NaN  Nacional  NO           NO   \n",
              "691   PRIVADO  NOCONTROL   RANO  SACF  AEROAPP  Nacional  NO           NO   \n",
              "692   PUBLICO  NOCONTROL   RACE  SAEF    CIVIL  Nacional  NO           NO   \n",
              "\n",
              "               provincia inhab  \n",
              "0               SANTA FÉ    NO  \n",
              "1               LA PAMPA    NO  \n",
              "2           BUENOS AIRES    NO  \n",
              "3             SANTA CRUZ    NO  \n",
              "4    SANTIAGO DEL ESTERO    NO  \n",
              "..                   ...   ...  \n",
              "688         BUENOS AIRES    NO  \n",
              "689           CORRIENTES    NO  \n",
              "690              NEUQUÉN    NO  \n",
              "691              CÓRDOBA    NO  \n",
              "692         BUENOS AIRES    NO  \n",
              "\n",
              "[693 rows x 23 columns]"
            ]
          },
          "metadata": {
            "tags": []
          },
          "execution_count": 43
        }
      ]
    },
    {
      "cell_type": "markdown",
      "metadata": {
        "id": "m_NVXwjDqo1t"
      },
      "source": [
        "Notemos que el dataset tiene un error! Los nombres de las columnas latitud y longitud, estan invertidos."
      ]
    },
    {
      "cell_type": "code",
      "metadata": {
        "id": "gOW7AWXtqo1t",
        "outputId": "5ac8d806-5736-4315-a117-c9696080c674"
      },
      "source": [
        "lat = aeropuertos.iloc[0]['latitud']\n",
        "lon = aeropuertos.iloc[0]['longitud']\n",
        "\n",
        "requests.get(\n",
        "    f'https://apis.datos.gob.ar/georef/api/ubicacion?lat={lat}&lon={lon}'\n",
        ").json()"
      ],
      "execution_count": null,
      "outputs": [
        {
          "output_type": "execute_result",
          "data": {
            "text/plain": [
              "{'parametros': {'lat': -60.57066, 'lon': -33.27226},\n",
              " 'ubicacion': {'departamento': {'id': None, 'nombre': None},\n",
              "  'lat': -60.57066,\n",
              "  'lon': -33.27226,\n",
              "  'municipio': {'id': None, 'nombre': None},\n",
              "  'provincia': {'id': None, 'nombre': None}}}"
            ]
          },
          "metadata": {
            "tags": []
          },
          "execution_count": 44
        }
      ]
    },
    {
      "cell_type": "code",
      "metadata": {
        "id": "wBG65fNhqo1t",
        "outputId": "00b2b84f-f706-419b-8def-1517b94f13e8"
      },
      "source": [
        "lat = aeropuertos.iloc[0]['longitud']\n",
        "lon = aeropuertos.iloc[0]['latitud']\n",
        "\n",
        "requests.get(\n",
        "    f'https://apis.datos.gob.ar/georef/api/ubicacion?lat={lat}&lon={lon}'\n",
        ").json()"
      ],
      "execution_count": null,
      "outputs": [
        {
          "output_type": "execute_result",
          "data": {
            "text/plain": [
              "{'parametros': {'lat': -33.27226, 'lon': -60.57066},\n",
              " 'ubicacion': {'departamento': {'id': '82084', 'nombre': 'Rosario'},\n",
              "  'lat': -33.27226,\n",
              "  'lon': -60.57066,\n",
              "  'municipio': {'id': '823393', 'nombre': 'Coronel Bogado'},\n",
              "  'provincia': {'id': '82', 'nombre': 'Santa Fe'}}}"
            ]
          },
          "metadata": {
            "tags": []
          },
          "execution_count": 45
        }
      ]
    },
    {
      "cell_type": "markdown",
      "metadata": {
        "id": "JyeScJjIqo1u"
      },
      "source": [
        "Alcanza con notar esto para poder especifiar los nombres invertidos en la funcion."
      ]
    },
    {
      "cell_type": "code",
      "metadata": {
        "id": "yXZbywPqqo1u",
        "outputId": "ff534a5b-4424-4859-8c22-778eb09f634c"
      },
      "source": [
        "unidades_territoriales = helpers.ubicar_coordenadas(\n",
        "    aeropuertos[['latitud', 'longitud']],\n",
        "    'longitud', 'latitud'\n",
        ")\n",
        "unidades_territoriales"
      ],
      "execution_count": null,
      "outputs": [
        {
          "output_type": "execute_result",
          "data": {
            "text/html": [
              "<div>\n",
              "<style scoped>\n",
              "    .dataframe tbody tr th:only-of-type {\n",
              "        vertical-align: middle;\n",
              "    }\n",
              "\n",
              "    .dataframe tbody tr th {\n",
              "        vertical-align: top;\n",
              "    }\n",
              "\n",
              "    .dataframe thead th {\n",
              "        text-align: right;\n",
              "    }\n",
              "</style>\n",
              "<table border=\"1\" class=\"dataframe\">\n",
              "  <thead>\n",
              "    <tr style=\"text-align: right;\">\n",
              "      <th></th>\n",
              "      <th>provincia_id</th>\n",
              "      <th>provincia_nombre</th>\n",
              "      <th>departamento_id</th>\n",
              "      <th>departamento_nombre</th>\n",
              "      <th>municipio_id</th>\n",
              "      <th>municipio_nombre</th>\n",
              "    </tr>\n",
              "  </thead>\n",
              "  <tbody>\n",
              "    <tr>\n",
              "      <td>0</td>\n",
              "      <td>82</td>\n",
              "      <td>Santa Fe</td>\n",
              "      <td>82084</td>\n",
              "      <td>Rosario</td>\n",
              "      <td>823393</td>\n",
              "      <td>Coronel Bogado</td>\n",
              "    </tr>\n",
              "    <tr>\n",
              "      <td>1</td>\n",
              "      <td>42</td>\n",
              "      <td>La Pampa</td>\n",
              "      <td>42154</td>\n",
              "      <td>Utracán</td>\n",
              "      <td>420133</td>\n",
              "      <td>General Acha</td>\n",
              "    </tr>\n",
              "    <tr>\n",
              "      <td>2</td>\n",
              "      <td>06</td>\n",
              "      <td>Buenos Aires</td>\n",
              "      <td>06077</td>\n",
              "      <td>Arrecifes</td>\n",
              "      <td>060077</td>\n",
              "      <td>Arrecifes</td>\n",
              "    </tr>\n",
              "    <tr>\n",
              "      <td>3</td>\n",
              "      <td>78</td>\n",
              "      <td>Santa Cruz</td>\n",
              "      <td>78014</td>\n",
              "      <td>Deseado</td>\n",
              "      <td>None</td>\n",
              "      <td>None</td>\n",
              "    </tr>\n",
              "    <tr>\n",
              "      <td>4</td>\n",
              "      <td>86</td>\n",
              "      <td>Santiago del Estero</td>\n",
              "      <td>86077</td>\n",
              "      <td>General Taboada</td>\n",
              "      <td>None</td>\n",
              "      <td>None</td>\n",
              "    </tr>\n",
              "    <tr>\n",
              "      <td>...</td>\n",
              "      <td>...</td>\n",
              "      <td>...</td>\n",
              "      <td>...</td>\n",
              "      <td>...</td>\n",
              "      <td>...</td>\n",
              "      <td>...</td>\n",
              "    </tr>\n",
              "    <tr>\n",
              "      <td>688</td>\n",
              "      <td>06</td>\n",
              "      <td>Buenos Aires</td>\n",
              "      <td>06833</td>\n",
              "      <td>Tres Arroyos</td>\n",
              "      <td>060833</td>\n",
              "      <td>Tres Arroyos</td>\n",
              "    </tr>\n",
              "    <tr>\n",
              "      <td>689</td>\n",
              "      <td>18</td>\n",
              "      <td>Corrientes</td>\n",
              "      <td>18147</td>\n",
              "      <td>San Martín</td>\n",
              "      <td>180378</td>\n",
              "      <td>Yapeyú</td>\n",
              "    </tr>\n",
              "    <tr>\n",
              "      <td>690</td>\n",
              "      <td>58</td>\n",
              "      <td>Neuquén</td>\n",
              "      <td>58112</td>\n",
              "      <td>Zapala</td>\n",
              "      <td>580245</td>\n",
              "      <td>Zapala</td>\n",
              "    </tr>\n",
              "    <tr>\n",
              "      <td>691</td>\n",
              "      <td>14</td>\n",
              "      <td>Córdoba</td>\n",
              "      <td>14182</td>\n",
              "      <td>Unión</td>\n",
              "      <td>None</td>\n",
              "      <td>None</td>\n",
              "    </tr>\n",
              "    <tr>\n",
              "      <td>692</td>\n",
              "      <td>06</td>\n",
              "      <td>Buenos Aires</td>\n",
              "      <td>06049</td>\n",
              "      <td>Azul</td>\n",
              "      <td>060049</td>\n",
              "      <td>Azul</td>\n",
              "    </tr>\n",
              "  </tbody>\n",
              "</table>\n",
              "<p>693 rows × 6 columns</p>\n",
              "</div>"
            ],
            "text/plain": [
              "    provincia_id     provincia_nombre departamento_id departamento_nombre  \\\n",
              "0             82             Santa Fe           82084             Rosario   \n",
              "1             42             La Pampa           42154             Utracán   \n",
              "2             06         Buenos Aires           06077           Arrecifes   \n",
              "3             78           Santa Cruz           78014             Deseado   \n",
              "4             86  Santiago del Estero           86077     General Taboada   \n",
              "..           ...                  ...             ...                 ...   \n",
              "688           06         Buenos Aires           06833        Tres Arroyos   \n",
              "689           18           Corrientes           18147          San Martín   \n",
              "690           58              Neuquén           58112              Zapala   \n",
              "691           14              Córdoba           14182               Unión   \n",
              "692           06         Buenos Aires           06049                Azul   \n",
              "\n",
              "    municipio_id municipio_nombre  \n",
              "0         823393   Coronel Bogado  \n",
              "1         420133     General Acha  \n",
              "2         060077        Arrecifes  \n",
              "3           None             None  \n",
              "4           None             None  \n",
              "..           ...              ...  \n",
              "688       060833     Tres Arroyos  \n",
              "689       180378           Yapeyú  \n",
              "690       580245           Zapala  \n",
              "691         None             None  \n",
              "692       060049             Azul  \n",
              "\n",
              "[693 rows x 6 columns]"
            ]
          },
          "metadata": {
            "tags": []
          },
          "execution_count": 46
        }
      ]
    },
    {
      "cell_type": "markdown",
      "metadata": {
        "id": "iAypmoQpqo1u"
      },
      "source": [
        "**Ejercicio**: ubica las coordenadas de las estaciones de medicion de recursos hidricos (https://datos.mininterior.gob.ar/dataset/93913deb-d22e-4c0d-bca3-f465e7b2bb94/resource/26d292a4-4d7f-48e1-872a-50a0dca35386/download/estacioneslatlong.csv) en sus unidades territoriales. Tene en cuenta que este dataset **esta codificado en 'latin1'**. Tenes que especificar la codificacion en la llamada pd.read_csv() para que lo lea sin errores."
      ]
    },
    {
      "cell_type": "code",
      "metadata": {
        "id": "wkreOEGVqo1u"
      },
      "source": [
        ""
      ],
      "execution_count": null,
      "outputs": []
    },
    {
      "cell_type": "markdown",
      "metadata": {
        "id": "zTB8nhxCqo1u"
      },
      "source": [
        "##  API Nominatim"
      ]
    },
    {
      "cell_type": "markdown",
      "metadata": {
        "id": "5oqtm9Stqo1v"
      },
      "source": [
        "https://nominatim.org/"
      ]
    },
    {
      "cell_type": "markdown",
      "metadata": {
        "id": "ZGXx3qJ6qo1v"
      },
      "source": [
        "Por supuesto, la API Georef del Estado Nacional no es la unica API de georreferenciacion que podes usar, existen muchas otras con distintos alcances y funcionalides.\n",
        "\n",
        "La API de Nominativa, utiliza la base de datos de la iniciativa Open Street Map para proveer un servicio abierto de georreferenciacion con alcance global.\n",
        "\n",
        "Es importante que si usas esta API regularmente, leas los [terminos y condiciones](https://operations.osmfoundation.org/policies/nominatim/). Entre ellas no permite hacer mas de 1 request por segundo, debe citarse la fuente y no se permite el uso para geocodificacion bulk. Esta API es para usar en forma esporadica, pero no en produccion (salvo que se instale la API en infraestructura propia).\n",
        "\n",
        "Podes leer la documentacion de uso de la API, aca: https://nominatim.org/release-docs/develop/api/Overview/"
      ]
    },
    {
      "cell_type": "markdown",
      "metadata": {
        "id": "WwrMF_mpqo1w"
      },
      "source": [
        "### Busqueda de objetos en el espacio "
      ]
    },
    {
      "cell_type": "markdown",
      "metadata": {
        "id": "k_judWfCqo1w"
      },
      "source": [
        "Uno de los usos de la API es buscar objetos en el espacio, funciona de manera parecida a como a veces usamos Google Maps. Le podemos decir 'escuelas en berlin', 'hospitales en montevideo' y otras cosas parecidas, y devolvera una lista de resultados de lo que encuentre."
      ]
    },
    {
      "cell_type": "code",
      "metadata": {
        "id": "SlzLJhjlqo1w",
        "outputId": "66467b71-260e-4bad-e3b6-7056fd443c41"
      },
      "source": [
        "# hospitales en Montevideo\n",
        "requests.get(\n",
        "    'https://nominatim.openstreetmap.org/?addressdetails=1&q=hospitales+en+montevideo+uruguay&format=json&limit=3'\n",
        ").json()"
      ],
      "execution_count": null,
      "outputs": [
        {
          "output_type": "execute_result",
          "data": {
            "text/plain": [
              "[{'place_id': 105865581,\n",
              "  'licence': 'Data © OpenStreetMap contributors, ODbL 1.0. https://osm.org/copyright',\n",
              "  'osm_type': 'way',\n",
              "  'osm_id': 82097653,\n",
              "  'boundingbox': ['-34.8966773', '-34.89491', '-56.1646663', '-56.1639028'],\n",
              "  'lat': '-34.895802849999995',\n",
              "  'lon': '-56.16432162417556',\n",
              "  'display_name': 'Hospital Italiano Umberto I, Bulevar General Artigas, Villa Muñoz, La Blanqueada, Montevideo, 11601, Uruguay',\n",
              "  'class': 'amenity',\n",
              "  'type': 'hospital',\n",
              "  'importance': 0.5913602540314964,\n",
              "  'icon': 'https://nominatim.openstreetmap.org/images/mapicons/health_hospital.p.20.png',\n",
              "  'address': {'amenity': 'Hospital Italiano Umberto I',\n",
              "   'road': 'Bulevar General Artigas',\n",
              "   'neighbourhood': 'Villa Muñoz',\n",
              "   'suburb': 'La Blanqueada',\n",
              "   'city': 'Montevideo',\n",
              "   'state': 'Montevideo',\n",
              "   'postcode': '11601',\n",
              "   'country': 'Uruguay',\n",
              "   'country_code': 'uy'}},\n",
              " {'place_id': 128059963,\n",
              "  'licence': 'Data © OpenStreetMap contributors, ODbL 1.0. https://osm.org/copyright',\n",
              "  'osm_type': 'way',\n",
              "  'osm_id': 179739484,\n",
              "  'boundingbox': ['-34.8950308', '-34.8941085', '-56.1634242', '-56.16166'],\n",
              "  'lat': '-34.8945655',\n",
              "  'lon': '-56.16254231583933',\n",
              "  'display_name': 'Hospital Británico, Profesor Doctor Julio A. Bauzá, Villa Dolores, La Blanqueada, Montevideo, 11601, Uruguay',\n",
              "  'class': 'amenity',\n",
              "  'type': 'hospital',\n",
              "  'importance': 0.3905083629626833,\n",
              "  'icon': 'https://nominatim.openstreetmap.org/images/mapicons/health_hospital.p.20.png',\n",
              "  'address': {'amenity': 'Hospital Británico',\n",
              "   'road': 'Profesor Doctor Julio A. Bauzá',\n",
              "   'neighbourhood': 'Villa Dolores',\n",
              "   'suburb': 'La Blanqueada',\n",
              "   'city': 'Montevideo',\n",
              "   'state': 'Montevideo',\n",
              "   'postcode': '11601',\n",
              "   'country': 'Uruguay',\n",
              "   'country_code': 'uy'}},\n",
              " {'place_id': 188507396,\n",
              "  'licence': 'Data © OpenStreetMap contributors, ODbL 1.0. https://osm.org/copyright',\n",
              "  'osm_type': 'way',\n",
              "  'osm_id': 458148368,\n",
              "  'boundingbox': ['-34.8887197', '-34.8883515', '-56.1654423', '-56.1652721'],\n",
              "  'lat': '-34.8885356',\n",
              "  'lon': '-56.1653572',\n",
              "  'display_name': 'Sanatorio Juan Pablo II, 2120, Bulevar General Artigas, Villa Muñoz, La Comercial, Montevideo, 11601, Uruguay',\n",
              "  'class': 'amenity',\n",
              "  'type': 'hospital',\n",
              "  'importance': 0.30100000000000005,\n",
              "  'icon': 'https://nominatim.openstreetmap.org/images/mapicons/health_hospital.p.20.png',\n",
              "  'address': {'amenity': 'Sanatorio Juan Pablo II',\n",
              "   'house_number': '2120',\n",
              "   'road': 'Bulevar General Artigas',\n",
              "   'neighbourhood': 'Villa Muñoz',\n",
              "   'suburb': 'La Comercial',\n",
              "   'city': 'Montevideo',\n",
              "   'state': 'Montevideo',\n",
              "   'postcode': '11601',\n",
              "   'country': 'Uruguay',\n",
              "   'country_code': 'uy'}}]"
            ]
          },
          "metadata": {
            "tags": []
          },
          "execution_count": 47
        }
      ]
    },
    {
      "cell_type": "markdown",
      "metadata": {
        "id": "Jw5DsFAYqo1x"
      },
      "source": [
        "**Ejercicio:** genera una lista de nombres y direcciones de hospitales en la Ciudad de Buenos Aires, a partir de la API de Nominatim."
      ]
    },
    {
      "cell_type": "code",
      "metadata": {
        "id": "yvPlo2IAqo1x"
      },
      "source": [
        ""
      ],
      "execution_count": null,
      "outputs": []
    },
    {
      "cell_type": "markdown",
      "metadata": {
        "id": "mwrnlhgGqo1x"
      },
      "source": [
        "### Georreferenciacion inversa"
      ]
    },
    {
      "cell_type": "markdown",
      "metadata": {
        "id": "ZHUbH7iMqo1x"
      },
      "source": [
        "El recurso /reverse permite recuperar una direccion, a partir de un par de coordenadas."
      ]
    },
    {
      "cell_type": "code",
      "metadata": {
        "id": "DkaLbFtVqo1x",
        "outputId": "e529b81c-2b46-4cbb-a5fa-a1eb87e55b13"
      },
      "source": [
        "requests.get(\n",
        "    'https://nominatim.openstreetmap.org/reverse?format=jsonv2&lat=-34.6083411208197&lon=-58.37088525365451'\n",
        ").json()"
      ],
      "execution_count": null,
      "outputs": [
        {
          "output_type": "execute_result",
          "data": {
            "text/plain": [
              "{'place_id': 14124008,\n",
              " 'licence': 'Data © OpenStreetMap contributors, ODbL 1.0. https://osm.org/copyright',\n",
              " 'osm_type': 'way',\n",
              " 'osm_id': 208809079,\n",
              " 'lat': '-34.6090457',\n",
              " 'lon': '-58.3709109',\n",
              " 'place_rank': 30,\n",
              " 'category': 'place',\n",
              " 'type': 'house',\n",
              " 'importance': -0.1,\n",
              " 'addresstype': 'place',\n",
              " 'name': None,\n",
              " 'display_name': '302, Avenida Hipólito Yrigoyen, Monserrat, Buenos Aires, Ciudad Autónoma de Buenos Aires, Comuna 1, C1086AAD, Argentina',\n",
              " 'address': {'house_number': '302',\n",
              "  'road': 'Avenida Hipólito Yrigoyen',\n",
              "  'suburb': 'Monserrat',\n",
              "  'city': 'Buenos Aires',\n",
              "  'state_district': 'Comuna 1',\n",
              "  'postcode': 'C1086AAD',\n",
              "  'country': 'Argentina',\n",
              "  'country_code': 'ar'},\n",
              " 'boundingbox': ['-34.6090957', '-34.6089957', '-58.3709609', '-58.3708609']}"
            ]
          },
          "metadata": {
            "tags": []
          },
          "execution_count": 48
        }
      ]
    },
    {
      "cell_type": "markdown",
      "metadata": {
        "id": "-S76YYYuqo1x"
      },
      "source": [
        "**Ejercicio:** usa alguna de las coordenadas de las estaciones de medicion hidricas, para encontrar su direccion con este metodo. Funciona? Que resultados da esta API para esos casos?"
      ]
    },
    {
      "cell_type": "markdown",
      "metadata": {
        "id": "OcDoweghqo1x"
      },
      "source": [
        "### Chequea el estado del servicio "
      ]
    },
    {
      "cell_type": "markdown",
      "metadata": {
        "id": "RLjks-Jgqo1y"
      },
      "source": [
        "Si la API no parece funcionar, podes asegurarte consultando si el servicio esta funcionando en este momento o no."
      ]
    },
    {
      "cell_type": "code",
      "metadata": {
        "id": "_TvcH-UZqo1y",
        "outputId": "d2898012-7d65-4e97-ceb2-1802285ce95f"
      },
      "source": [
        "requests.get(\n",
        "    'https://nominatim.openstreetmap.org/status.php?format=json'\n",
        ").json()"
      ],
      "execution_count": null,
      "outputs": [
        {
          "output_type": "execute_result",
          "data": {
            "text/plain": [
              "{'status': 0, 'message': 'OK', 'data_updated': '2020-07-30T20:04:01+00:00'}"
            ]
          },
          "metadata": {
            "tags": []
          },
          "execution_count": 49
        }
      ]
    },
    {
      "cell_type": "markdown",
      "metadata": {
        "id": "QyGiQCUkqo1y"
      },
      "source": [
        "## API normalización GCBA"
      ]
    },
    {
      "cell_type": "markdown",
      "metadata": {
        "id": "tlBn520Hqo1y"
      },
      "source": [
        "https://usig.buenosaires.gob.ar/apis/"
      ]
    },
    {
      "cell_type": "markdown",
      "metadata": {
        "id": "3B6T7PYVqo1y"
      },
      "source": [
        "Si lo que necesitas hacer tiene un alcance acotado al Area Metropolitana de Buenos Aires (AMBA), tambien podes usar la API de normalizacion de direcciones del AMBA del Gobierno de la Ciudad de Buenos Aires. Una ventaja que tiene este servicio, es que tambien lo podes instalar como una libreria de python para no necesitar internet ni tener limite de cuotas (https://github.com/usig/normalizador-amba)."
      ]
    },
    {
      "cell_type": "markdown",
      "metadata": {
        "id": "wEGQbfc3qo1y"
      },
      "source": [
        "### Georreferenciacion "
      ]
    },
    {
      "cell_type": "code",
      "metadata": {
        "id": "5rhXoawjqo1z",
        "outputId": "cdcff44b-4fb5-4656-e4ed-d2b423886475"
      },
      "source": [
        "requests.get(\n",
        "    'https://ws.usig.buenosaires.gob.ar/rest/normalizar_y_geocodificar_direcciones?calle=balcarce&altura=50&desambiguar=1'\n",
        ").json()"
      ],
      "execution_count": null,
      "outputs": [
        {
          "output_type": "execute_result",
          "data": {
            "text/plain": [
              "{'Normalizacion': {'TipoResultado': 'DireccionNormalizada',\n",
              "  'DireccionesCalleAltura': {'direcciones': [{'CodigoCalle': '2014',\n",
              "     'Calle': 'BALCARCE',\n",
              "     'Altura': '50'}]},\n",
              "  'DireccionesCalleCalle': {'direcciones': []}},\n",
              " 'GeoCodificacion': {'x': '108487.447694', 'y': '102343.772587'}}"
            ]
          },
          "metadata": {
            "tags": []
          },
          "execution_count": 50
        }
      ]
    },
    {
      "cell_type": "markdown",
      "metadata": {
        "id": "8mntbpCeqo1z"
      },
      "source": [
        "La API de normalizacion de la USIG del GCBA devuelve coordenadas en el sistema de proyeccion Buenos Aires Gauss Krueguer, que es mas preciso para trabajar dentro del espacio geografico de la CABA pero tambien menos facil de usar para otros usos.\n",
        "\n",
        "Hay otro recurso de la API que transforma esas coordenadas en EPSG 4326 (el sistema de coordenadas al que estamos mas acostumbrados)."
      ]
    },
    {
      "cell_type": "code",
      "metadata": {
        "id": "tU3jx1sLqo1z",
        "outputId": "b2c2f927-d76d-4b94-c831-165971bcb075"
      },
      "source": [
        "requests.get(\n",
        "    'https://ws.usig.buenosaires.gob.ar/rest/convertir_coordenadas?x=108487.447694&y=102343.772587&output=lonlat'\n",
        ").json()"
      ],
      "execution_count": null,
      "outputs": [
        {
          "output_type": "execute_result",
          "data": {
            "text/plain": [
              "{'tipo_resultado': 'Ok', 'resultado': {'x': '-58.370769', 'y': '-34.608107'}}"
            ]
          },
          "metadata": {
            "tags": []
          },
          "execution_count": 51
        }
      ]
    },
    {
      "cell_type": "markdown",
      "metadata": {
        "id": "o4oXQpetqo1z"
      },
      "source": [
        "### Datos utiles "
      ]
    },
    {
      "cell_type": "markdown",
      "metadata": {
        "id": "92UE6HH_qo1z"
      },
      "source": [
        "Otro metodo de las APIs de USIG devuelve datos utiles del contexto de una direccion. Es parecido al de 'ubicacion' de la API Georef, pero tiene otras areas / unidades territoriales que contienen al punto, y son propias del AMBA."
      ]
    },
    {
      "cell_type": "code",
      "metadata": {
        "id": "sK050fK6qo1z",
        "outputId": "ee63596b-a052-47fc-fe27-649e35d5d94d"
      },
      "source": [
        "requests.get(\n",
        "    'https://ws.usig.buenosaires.gob.ar/datos_utiles?calle=balcarce&altura=50'\n",
        ").json()"
      ],
      "execution_count": null,
      "outputs": [
        {
          "output_type": "execute_result",
          "data": {
            "text/plain": [
              "{'comuna': 'Comuna 1',\n",
              " 'barrio': 'Monserrat',\n",
              " 'comisaria': '2',\n",
              " 'area_hospitalaria': 'HTAL. DR. C. ARGERICH',\n",
              " 'region_sanitaria': 'I (Este)',\n",
              " 'distrito_escolar': 'Distrito Escolar   IV',\n",
              " 'comisaria_vecinal': '1D',\n",
              " 'seccion_catastral': '02',\n",
              " 'distrito_economico': '',\n",
              " 'codigo_de_planeamiento_urbano': '',\n",
              " 'partido_amba': '',\n",
              " 'localidad_amba': '',\n",
              " 'codigo_postal': '1064',\n",
              " 'codigo_postal_argentino': 'C1064AAB'}"
            ]
          },
          "metadata": {
            "tags": []
          },
          "execution_count": 52
        }
      ]
    },
    {
      "cell_type": "markdown",
      "metadata": {
        "id": "xDvaOBpAqo10"
      },
      "source": [
        "## API Transporte GCBA"
      ]
    },
    {
      "cell_type": "markdown",
      "metadata": {
        "id": "v6VIdTVGqo10"
      },
      "source": [
        "https://www.buenosaires.gob.ar/desarrollourbano/transporte/apitransporte"
      ]
    },
    {
      "cell_type": "markdown",
      "metadata": {
        "id": "nG95A0MJqo10"
      },
      "source": [
        "La API unificada de transporte del GCBA ofrece acceso en tiempo real a las localizaciones de subtes, colectivos, trenes, monopatines y otros muchos datos sobre la movilidad en la Ciudad de Buenos Aires. Es gratuita pero requiere registrarse y usar credenciales para cada consulta.\n",
        "\n",
        "Una vez registrado, tenes que guardar tus credenciales en un archivo JSON `api_transporte_creds.json` en el directorio de este notebook, o copiarlas directamente en la URL de la llamada."
      ]
    },
    {
      "cell_type": "code",
      "metadata": {
        "id": "qpiy_XLMqo10"
      },
      "source": [
        "# carga credenciales\n",
        "with open('api_transporte_creds.json', 'r') as f:\n",
        "    creds = json.load(f)"
      ],
      "execution_count": null,
      "outputs": []
    },
    {
      "cell_type": "code",
      "metadata": {
        "id": "mzeo1MFRqo10"
      },
      "source": [
        "client_id = creds['client_id']\n",
        "client_secret = creds['client_secret']"
      ],
      "execution_count": null,
      "outputs": []
    },
    {
      "cell_type": "code",
      "metadata": {
        "id": "iBk8XOYPqo10",
        "outputId": "956fa3ab-db35-43a9-ce99-62c2dcf00871"
      },
      "source": [
        "colectivos_ahora = requests.get(\n",
        "    f'https://apitransporte.buenosaires.gob.ar/colectivos/vehiclePositionsSimple?client_id={client_id}&client_secret={client_secret}'\n",
        ").json()\n",
        "colectivos_ahora[:5]"
      ],
      "execution_count": null,
      "outputs": [
        {
          "output_type": "execute_result",
          "data": {
            "text/plain": [
              "[{'route_id': '3712',\n",
              "  'latitude': -34.65343,\n",
              "  'longitude': -58.6448059,\n",
              "  'speed': 0,\n",
              "  'timestamp': 1596139450,\n",
              "  'id': '1838',\n",
              "  'direction': 0,\n",
              "  'agency_name': 'MICROOMNIBUS SAAVEDRA S.A.T.A.C.I.',\n",
              "  'agency_id': 82,\n",
              "  'route_short_name': '321A',\n",
              "  'trip_headsign': 'a LIBERTAD'},\n",
              " {'route_id': '3713',\n",
              "  'latitude': -34.67617,\n",
              "  'longitude': -58.6695747,\n",
              "  'speed': 0,\n",
              "  'timestamp': 1596139420,\n",
              "  'id': '1839',\n",
              "  'direction': 1,\n",
              "  'agency_name': 'MICROOMNIBUS SAAVEDRA S.A.T.A.C.I.',\n",
              "  'agency_id': 82,\n",
              "  'route_short_name': '153A',\n",
              "  'trip_headsign': 'a Liniers'},\n",
              " {'route_id': '3713',\n",
              "  'latitude': -34.63905,\n",
              "  'longitude': -58.52692,\n",
              "  'speed': 3.055555,\n",
              "  'timestamp': 1596139450,\n",
              "  'id': '1844',\n",
              "  'direction': 0,\n",
              "  'agency_name': 'MICROOMNIBUS SAAVEDRA S.A.T.A.C.I.',\n",
              "  'agency_id': 82,\n",
              "  'route_short_name': '153A',\n",
              "  'trip_headsign': 'a Bº Nuevo'},\n",
              " {'route_id': '3713',\n",
              "  'latitude': -34.65006,\n",
              "  'longitude': -58.61392,\n",
              "  'speed': 0,\n",
              "  'timestamp': 1596139450,\n",
              "  'id': '1845',\n",
              "  'direction': 1,\n",
              "  'agency_name': 'MICROOMNIBUS SAAVEDRA S.A.T.A.C.I.',\n",
              "  'agency_id': 82,\n",
              "  'route_short_name': '153A',\n",
              "  'trip_headsign': 'a Liniers'},\n",
              " {'route_id': '3713',\n",
              "  'latitude': -34.7046,\n",
              "  'longitude': -58.66978,\n",
              "  'speed': 7.777777,\n",
              "  'timestamp': 1596139450,\n",
              "  'id': '1862',\n",
              "  'direction': 1,\n",
              "  'agency_name': 'MICROOMNIBUS SAAVEDRA S.A.T.A.C.I.',\n",
              "  'agency_id': 82,\n",
              "  'route_short_name': '153A',\n",
              "  'trip_headsign': 'a Liniers'}]"
            ]
          },
          "metadata": {
            "tags": []
          },
          "execution_count": 55
        }
      ]
    },
    {
      "cell_type": "code",
      "metadata": {
        "id": "ERVBmwu8qo11"
      },
      "source": [
        "gdf = gpd.GeoDataFrame(colectivos_ahora)"
      ],
      "execution_count": null,
      "outputs": []
    },
    {
      "cell_type": "code",
      "metadata": {
        "id": "qezfdCtMqo11"
      },
      "source": [
        "gdf['geometry'] = gpd.points_from_xy(gdf.longitude, gdf.latitude)"
      ],
      "execution_count": null,
      "outputs": []
    },
    {
      "cell_type": "code",
      "metadata": {
        "id": "eRb4M1S2qo11",
        "outputId": "c2978cbd-778e-4bc8-d6a7-728c396b5ac7"
      },
      "source": [
        "gdf.plot(figsize=(10, 10))"
      ],
      "execution_count": null,
      "outputs": [
        {
          "output_type": "execute_result",
          "data": {
            "text/plain": [
              "<matplotlib.axes._subplots.AxesSubplot at 0x7f4158f6f150>"
            ]
          },
          "metadata": {
            "tags": []
          },
          "execution_count": 58
        },
        {
          "output_type": "display_data",
          "data": {
            "image/png": "[encoded data removed]",
            "text/plain": [
              "<Figure size 720x720 with 1 Axes>"
            ]
          },
          "metadata": {
            "tags": [],
            "needs_background": "light"
          }
        }
      ]
    },
    {
      "cell_type": "code",
      "metadata": {
        "scrolled": false,
        "id": "eD6pgItbqo11"
      },
      "source": [
        "lineas = gdf.groupby(['route_short_name']).count()"
      ],
      "execution_count": null,
      "outputs": []
    },
    {
      "cell_type": "code",
      "metadata": {
        "id": "mqlqct74qo11",
        "outputId": "c4467d02-c700-48e8-bc0d-059bac09da57"
      },
      "source": [
        "lineas.sort_values('id', ascending=False).head(20)"
      ],
      "execution_count": null,
      "outputs": [
        {
          "output_type": "execute_result",
          "data": {
            "text/html": [
              "<div>\n",
              "<style scoped>\n",
              "    .dataframe tbody tr th:only-of-type {\n",
              "        vertical-align: middle;\n",
              "    }\n",
              "\n",
              "    .dataframe tbody tr th {\n",
              "        vertical-align: top;\n",
              "    }\n",
              "\n",
              "    .dataframe thead th {\n",
              "        text-align: right;\n",
              "    }\n",
              "</style>\n",
              "<table border=\"1\" class=\"dataframe\">\n",
              "  <thead>\n",
              "    <tr style=\"text-align: right;\">\n",
              "      <th></th>\n",
              "      <th>route_id</th>\n",
              "      <th>latitude</th>\n",
              "      <th>longitude</th>\n",
              "      <th>speed</th>\n",
              "      <th>timestamp</th>\n",
              "      <th>id</th>\n",
              "      <th>direction</th>\n",
              "      <th>agency_name</th>\n",
              "      <th>agency_id</th>\n",
              "      <th>trip_headsign</th>\n",
              "      <th>geometry</th>\n",
              "    </tr>\n",
              "    <tr>\n",
              "      <th>route_short_name</th>\n",
              "      <th></th>\n",
              "      <th></th>\n",
              "      <th></th>\n",
              "      <th></th>\n",
              "      <th></th>\n",
              "      <th></th>\n",
              "      <th></th>\n",
              "      <th></th>\n",
              "      <th></th>\n",
              "      <th></th>\n",
              "      <th></th>\n",
              "    </tr>\n",
              "  </thead>\n",
              "  <tbody>\n",
              "    <tr>\n",
              "      <td>343A</td>\n",
              "      <td>78</td>\n",
              "      <td>78</td>\n",
              "      <td>78</td>\n",
              "      <td>78</td>\n",
              "      <td>78</td>\n",
              "      <td>78</td>\n",
              "      <td>78</td>\n",
              "      <td>78</td>\n",
              "      <td>78</td>\n",
              "      <td>78</td>\n",
              "      <td>78</td>\n",
              "    </tr>\n",
              "    <tr>\n",
              "      <td>329TR1</td>\n",
              "      <td>57</td>\n",
              "      <td>57</td>\n",
              "      <td>57</td>\n",
              "      <td>57</td>\n",
              "      <td>57</td>\n",
              "      <td>57</td>\n",
              "      <td>57</td>\n",
              "      <td>57</td>\n",
              "      <td>57</td>\n",
              "      <td>57</td>\n",
              "      <td>57</td>\n",
              "    </tr>\n",
              "    <tr>\n",
              "      <td>53C</td>\n",
              "      <td>48</td>\n",
              "      <td>48</td>\n",
              "      <td>48</td>\n",
              "      <td>48</td>\n",
              "      <td>48</td>\n",
              "      <td>48</td>\n",
              "      <td>48</td>\n",
              "      <td>48</td>\n",
              "      <td>48</td>\n",
              "      <td>48</td>\n",
              "      <td>48</td>\n",
              "    </tr>\n",
              "    <tr>\n",
              "      <td>12A</td>\n",
              "      <td>47</td>\n",
              "      <td>47</td>\n",
              "      <td>47</td>\n",
              "      <td>47</td>\n",
              "      <td>47</td>\n",
              "      <td>47</td>\n",
              "      <td>47</td>\n",
              "      <td>47</td>\n",
              "      <td>47</td>\n",
              "      <td>47</td>\n",
              "      <td>47</td>\n",
              "    </tr>\n",
              "    <tr>\n",
              "      <td>41A</td>\n",
              "      <td>44</td>\n",
              "      <td>44</td>\n",
              "      <td>44</td>\n",
              "      <td>44</td>\n",
              "      <td>44</td>\n",
              "      <td>44</td>\n",
              "      <td>44</td>\n",
              "      <td>44</td>\n",
              "      <td>44</td>\n",
              "      <td>44</td>\n",
              "      <td>44</td>\n",
              "    </tr>\n",
              "    <tr>\n",
              "      <td>92A</td>\n",
              "      <td>42</td>\n",
              "      <td>42</td>\n",
              "      <td>42</td>\n",
              "      <td>42</td>\n",
              "      <td>42</td>\n",
              "      <td>42</td>\n",
              "      <td>42</td>\n",
              "      <td>42</td>\n",
              "      <td>42</td>\n",
              "      <td>42</td>\n",
              "      <td>42</td>\n",
              "    </tr>\n",
              "    <tr>\n",
              "      <td>152A</td>\n",
              "      <td>41</td>\n",
              "      <td>41</td>\n",
              "      <td>41</td>\n",
              "      <td>41</td>\n",
              "      <td>41</td>\n",
              "      <td>41</td>\n",
              "      <td>41</td>\n",
              "      <td>41</td>\n",
              "      <td>41</td>\n",
              "      <td>41</td>\n",
              "      <td>41</td>\n",
              "    </tr>\n",
              "    <tr>\n",
              "      <td>67A</td>\n",
              "      <td>36</td>\n",
              "      <td>36</td>\n",
              "      <td>36</td>\n",
              "      <td>36</td>\n",
              "      <td>36</td>\n",
              "      <td>36</td>\n",
              "      <td>36</td>\n",
              "      <td>36</td>\n",
              "      <td>36</td>\n",
              "      <td>36</td>\n",
              "      <td>36</td>\n",
              "    </tr>\n",
              "    <tr>\n",
              "      <td>10A</td>\n",
              "      <td>33</td>\n",
              "      <td>33</td>\n",
              "      <td>33</td>\n",
              "      <td>33</td>\n",
              "      <td>33</td>\n",
              "      <td>33</td>\n",
              "      <td>33</td>\n",
              "      <td>33</td>\n",
              "      <td>33</td>\n",
              "      <td>33</td>\n",
              "      <td>33</td>\n",
              "    </tr>\n",
              "    <tr>\n",
              "      <td>106A</td>\n",
              "      <td>33</td>\n",
              "      <td>33</td>\n",
              "      <td>33</td>\n",
              "      <td>33</td>\n",
              "      <td>33</td>\n",
              "      <td>33</td>\n",
              "      <td>33</td>\n",
              "      <td>33</td>\n",
              "      <td>33</td>\n",
              "      <td>33</td>\n",
              "      <td>33</td>\n",
              "    </tr>\n",
              "    <tr>\n",
              "      <td>707ROJ</td>\n",
              "      <td>31</td>\n",
              "      <td>31</td>\n",
              "      <td>31</td>\n",
              "      <td>31</td>\n",
              "      <td>31</td>\n",
              "      <td>31</td>\n",
              "      <td>31</td>\n",
              "      <td>31</td>\n",
              "      <td>31</td>\n",
              "      <td>31</td>\n",
              "      <td>31</td>\n",
              "    </tr>\n",
              "    <tr>\n",
              "      <td>102A</td>\n",
              "      <td>30</td>\n",
              "      <td>30</td>\n",
              "      <td>30</td>\n",
              "      <td>30</td>\n",
              "      <td>30</td>\n",
              "      <td>30</td>\n",
              "      <td>30</td>\n",
              "      <td>30</td>\n",
              "      <td>30</td>\n",
              "      <td>30</td>\n",
              "      <td>30</td>\n",
              "    </tr>\n",
              "    <tr>\n",
              "      <td>343B</td>\n",
              "      <td>29</td>\n",
              "      <td>29</td>\n",
              "      <td>29</td>\n",
              "      <td>29</td>\n",
              "      <td>29</td>\n",
              "      <td>29</td>\n",
              "      <td>29</td>\n",
              "      <td>29</td>\n",
              "      <td>29</td>\n",
              "      <td>29</td>\n",
              "      <td>29</td>\n",
              "    </tr>\n",
              "    <tr>\n",
              "      <td>124A</td>\n",
              "      <td>29</td>\n",
              "      <td>29</td>\n",
              "      <td>29</td>\n",
              "      <td>29</td>\n",
              "      <td>29</td>\n",
              "      <td>29</td>\n",
              "      <td>29</td>\n",
              "      <td>29</td>\n",
              "      <td>29</td>\n",
              "      <td>29</td>\n",
              "      <td>29</td>\n",
              "    </tr>\n",
              "    <tr>\n",
              "      <td>17A</td>\n",
              "      <td>29</td>\n",
              "      <td>29</td>\n",
              "      <td>29</td>\n",
              "      <td>29</td>\n",
              "      <td>29</td>\n",
              "      <td>29</td>\n",
              "      <td>29</td>\n",
              "      <td>29</td>\n",
              "      <td>29</td>\n",
              "      <td>29</td>\n",
              "      <td>29</td>\n",
              "    </tr>\n",
              "    <tr>\n",
              "      <td>96G</td>\n",
              "      <td>29</td>\n",
              "      <td>29</td>\n",
              "      <td>29</td>\n",
              "      <td>29</td>\n",
              "      <td>29</td>\n",
              "      <td>29</td>\n",
              "      <td>29</td>\n",
              "      <td>29</td>\n",
              "      <td>29</td>\n",
              "      <td>29</td>\n",
              "      <td>29</td>\n",
              "    </tr>\n",
              "    <tr>\n",
              "      <td>151A</td>\n",
              "      <td>29</td>\n",
              "      <td>29</td>\n",
              "      <td>29</td>\n",
              "      <td>29</td>\n",
              "      <td>29</td>\n",
              "      <td>29</td>\n",
              "      <td>29</td>\n",
              "      <td>29</td>\n",
              "      <td>29</td>\n",
              "      <td>29</td>\n",
              "      <td>29</td>\n",
              "    </tr>\n",
              "    <tr>\n",
              "      <td>118A</td>\n",
              "      <td>28</td>\n",
              "      <td>28</td>\n",
              "      <td>28</td>\n",
              "      <td>28</td>\n",
              "      <td>28</td>\n",
              "      <td>28</td>\n",
              "      <td>28</td>\n",
              "      <td>28</td>\n",
              "      <td>28</td>\n",
              "      <td>28</td>\n",
              "      <td>28</td>\n",
              "    </tr>\n",
              "    <tr>\n",
              "      <td>257A</td>\n",
              "      <td>28</td>\n",
              "      <td>28</td>\n",
              "      <td>28</td>\n",
              "      <td>28</td>\n",
              "      <td>28</td>\n",
              "      <td>28</td>\n",
              "      <td>28</td>\n",
              "      <td>28</td>\n",
              "      <td>28</td>\n",
              "      <td>28</td>\n",
              "      <td>28</td>\n",
              "    </tr>\n",
              "    <tr>\n",
              "      <td>59A</td>\n",
              "      <td>27</td>\n",
              "      <td>27</td>\n",
              "      <td>27</td>\n",
              "      <td>27</td>\n",
              "      <td>27</td>\n",
              "      <td>27</td>\n",
              "      <td>27</td>\n",
              "      <td>27</td>\n",
              "      <td>27</td>\n",
              "      <td>27</td>\n",
              "      <td>27</td>\n",
              "    </tr>\n",
              "  </tbody>\n",
              "</table>\n",
              "</div>"
            ],
            "text/plain": [
              "                  route_id  latitude  longitude  speed  timestamp  id  \\\n",
              "route_short_name                                                        \n",
              "343A                    78        78         78     78         78  78   \n",
              "329TR1                  57        57         57     57         57  57   \n",
              "53C                     48        48         48     48         48  48   \n",
              "12A                     47        47         47     47         47  47   \n",
              "41A                     44        44         44     44         44  44   \n",
              "92A                     42        42         42     42         42  42   \n",
              "152A                    41        41         41     41         41  41   \n",
              "67A                     36        36         36     36         36  36   \n",
              "10A                     33        33         33     33         33  33   \n",
              "106A                    33        33         33     33         33  33   \n",
              "707ROJ                  31        31         31     31         31  31   \n",
              "102A                    30        30         30     30         30  30   \n",
              "343B                    29        29         29     29         29  29   \n",
              "124A                    29        29         29     29         29  29   \n",
              "17A                     29        29         29     29         29  29   \n",
              "96G                     29        29         29     29         29  29   \n",
              "151A                    29        29         29     29         29  29   \n",
              "118A                    28        28         28     28         28  28   \n",
              "257A                    28        28         28     28         28  28   \n",
              "59A                     27        27         27     27         27  27   \n",
              "\n",
              "                  direction  agency_name  agency_id  trip_headsign  geometry  \n",
              "route_short_name                                                              \n",
              "343A                     78           78         78             78        78  \n",
              "329TR1                   57           57         57             57        57  \n",
              "53C                      48           48         48             48        48  \n",
              "12A                      47           47         47             47        47  \n",
              "41A                      44           44         44             44        44  \n",
              "92A                      42           42         42             42        42  \n",
              "152A                     41           41         41             41        41  \n",
              "67A                      36           36         36             36        36  \n",
              "10A                      33           33         33             33        33  \n",
              "106A                     33           33         33             33        33  \n",
              "707ROJ                   31           31         31             31        31  \n",
              "102A                     30           30         30             30        30  \n",
              "343B                     29           29         29             29        29  \n",
              "124A                     29           29         29             29        29  \n",
              "17A                      29           29         29             29        29  \n",
              "96G                      29           29         29             29        29  \n",
              "151A                     29           29         29             29        29  \n",
              "118A                     28           28         28             28        28  \n",
              "257A                     28           28         28             28        28  \n",
              "59A                      27           27         27             27        27  "
            ]
          },
          "metadata": {
            "tags": []
          },
          "execution_count": 60
        }
      ]
    },
    {
      "cell_type": "code",
      "metadata": {
        "id": "BHfJEH2eqo12",
        "outputId": "587d2545-7cd2-4a94-8254-45e5ba1d5554"
      },
      "source": [
        "gdf[gdf.route_short_name == '152A'].plot(figsize=(10, 10))"
      ],
      "execution_count": null,
      "outputs": [
        {
          "output_type": "execute_result",
          "data": {
            "text/plain": [
              "<matplotlib.axes._subplots.AxesSubplot at 0x7f4158f13bd0>"
            ]
          },
          "metadata": {
            "tags": []
          },
          "execution_count": 61
        },
        {
          "output_type": "display_data",
          "data": {
            "image/png": "[encoded data removed]",
            "text/plain": [
              "<Figure size 720x720 with 1 Axes>"
            ]
          },
          "metadata": {
            "tags": [],
            "needs_background": "light"
          }
        }
      ]
    }
  ]
}